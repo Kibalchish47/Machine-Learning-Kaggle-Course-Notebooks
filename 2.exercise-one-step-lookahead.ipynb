{
 "cells": [
  {
   "cell_type": "markdown",
   "id": "436b3827",
   "metadata": {
    "papermill": {
     "duration": 0.008509,
     "end_time": "2023-09-02T09:34:53.732493",
     "exception": false,
     "start_time": "2023-09-02T09:34:53.723984",
     "status": "completed"
    },
    "tags": []
   },
   "source": [
    "**This notebook is an exercise in the [Intro to Game AI and Reinforcement Learning](https://www.kaggle.com/learn/intro-to-game-ai-and-reinforcement-learning) course.  You can reference the tutorial at [this link](https://www.kaggle.com/alexisbcook/one-step-lookahead).**\n",
    "\n",
    "---\n"
   ]
  },
  {
   "cell_type": "markdown",
   "id": "7bde1b1a",
   "metadata": {
    "papermill": {
     "duration": 0.006808,
     "end_time": "2023-09-02T09:34:53.746859",
     "exception": false,
     "start_time": "2023-09-02T09:34:53.740051",
     "status": "completed"
    },
    "tags": []
   },
   "source": [
    "# Introduction\n",
    "\n",
    "In the tutorial, you learned how to define a simple heuristic that the agent used to select moves.  In this exercise, you'll check your understanding and make the heuristic more complex.\n",
    "\n",
    "To get started, run the code cell below to set up our feedback system."
   ]
  },
  {
   "cell_type": "code",
   "execution_count": 1,
   "id": "757252f4",
   "metadata": {
    "execution": {
     "iopub.execute_input": "2023-09-02T09:34:53.763326Z",
     "iopub.status.busy": "2023-09-02T09:34:53.762832Z",
     "iopub.status.idle": "2023-09-02T09:34:54.511990Z",
     "shell.execute_reply": "2023-09-02T09:34:54.510448Z"
    },
    "papermill": {
     "duration": 0.761126,
     "end_time": "2023-09-02T09:34:54.514898",
     "exception": false,
     "start_time": "2023-09-02T09:34:53.753772",
     "status": "completed"
    },
    "tags": []
   },
   "outputs": [
    {
     "name": "stdout",
     "output_type": "stream",
     "text": [
      "Loading environment lux_ai_s2 failed: No module named 'vec_noise'\n"
     ]
    }
   ],
   "source": [
    "from learntools.core import binder\n",
    "binder.bind(globals())\n",
    "from learntools.game_ai.ex2 import *"
   ]
  },
  {
   "cell_type": "markdown",
   "id": "2314d73c",
   "metadata": {
    "papermill": {
     "duration": 0.007225,
     "end_time": "2023-09-02T09:34:54.529804",
     "exception": false,
     "start_time": "2023-09-02T09:34:54.522579",
     "status": "completed"
    },
    "tags": []
   },
   "source": [
    "### 1) A more complex heuristic\n",
    "\n",
    "The heuristic from the tutorial looks at all groups of four adjacent grid locations on the same row, column, or diagonal and assigns points for each occurrence of the following patterns:\n",
    "\n",
    "<center>\n",
    "<img src=\"https://storage.googleapis.com/kaggle-media/learn/images/vzQa4ML.png\" width=60%><br/>\n",
    "</center>\n",
    "\n",
    "In the image above, we assume that the agent is the red player, and the opponent plays yellow discs.\n",
    "\n",
    "For reference, here is the `get_heuristic()` function from the tutorial:\n",
    "```python\n",
    "def get_heuristic(grid, mark, config):\n",
    "    num_threes = count_windows(grid, 3, mark, config)\n",
    "    num_fours = count_windows(grid, 4, mark, config)\n",
    "    num_threes_opp = count_windows(grid, 3, mark%2+1, config)\n",
    "    score = num_threes - 1e2*num_threes_opp + 1e6*num_fours\n",
    "    return score\n",
    "```\n",
    "\n",
    "In the `get_heuristic()` function, `num_fours`, `num_threes`, and `num_threes_opp` are the number of windows in the game grid that are assigned 1000000, 1, and -100 point(s), respectively. \n",
    "    \n",
    "In this tutorial, you'll change the heuristic to the following (where you decide the number of points to apply in each of `A`, `B`, `C`, `D`, and `E`).  You will define these values in the code cell below.\n",
    "\n",
    "<center>\n",
    "<img src=\"https://storage.googleapis.com/kaggle-media/learn/images/FBoWr2f.png\" width=80%><br/>\n",
    "</center>\n",
    "    \n",
    "\n",
    "To check your answer, we use your values to create a heuristic function as follows:\n",
    "\n",
    "```python\n",
    "def get_heuristic_q1(grid, col, mark, config):\n",
    "    num_twos = count_windows(grid, 2, mark, config)\n",
    "    num_threes = count_windows(grid, 3, mark, config)\n",
    "    num_fours = count_windows(grid, 4, mark, config)\n",
    "    num_twos_opp = count_windows(grid, 2, mark%2+1, config)\n",
    "    num_threes_opp = count_windows(grid, 3, mark%2+1, config)\n",
    "    score = A*num_fours + B*num_threes + C*num_twos + D*num_twos_opp + E*num_threes_opp\n",
    "    return score\n",
    "```\n",
    "\n",
    "This heuristic is then used to create an agent, that competes against the agent from the tutorial in 50 different game rounds.  In order to be marked correct, \n",
    "- your agent must win at least half of the games, and\n",
    "- `C` and `D` must both be nonzero."
   ]
  },
  {
   "cell_type": "code",
   "execution_count": 2,
   "id": "d6c7e016",
   "metadata": {
    "execution": {
     "iopub.execute_input": "2023-09-02T09:34:54.547492Z",
     "iopub.status.busy": "2023-09-02T09:34:54.546708Z",
     "iopub.status.idle": "2023-09-02T09:35:15.509263Z",
     "shell.execute_reply": "2023-09-02T09:35:15.508454Z"
    },
    "papermill": {
     "duration": 20.97499,
     "end_time": "2023-09-02T09:35:15.512341",
     "exception": false,
     "start_time": "2023-09-02T09:34:54.537351",
     "status": "completed"
    },
    "tags": []
   },
   "outputs": [
    {
     "name": "stdout",
     "output_type": "stream",
     "text": [
      "Your Agent's Win Percentage (in 50 game rounds): 0.58\n",
      "Tutorial Agent's Win Percentage (in 50 game rounds): 0.42\n"
     ]
    },
    {
     "data": {
      "application/javascript": [
       "parent.postMessage({\"jupyterEvent\": \"custom.exercise_interaction\", \"data\": {\"outcomeType\": 1, \"valueTowardsCompletion\": 0.3333333333333333, \"interactionType\": 1, \"questionType\": 2, \"questionId\": \"1_BetterHeuristic\", \"learnToolsVersion\": \"0.3.4\", \"failureMessage\": \"\", \"exceptionClass\": \"\", \"trace\": \"\"}}, \"*\")"
      ],
      "text/plain": [
       "<IPython.core.display.Javascript object>"
      ]
     },
     "metadata": {},
     "output_type": "display_data"
    },
    {
     "data": {
      "text/markdown": [
       "<span style=\"color:#33cc33\">Correct</span>"
      ],
      "text/plain": [
       "Correct"
      ]
     },
     "metadata": {},
     "output_type": "display_data"
    }
   ],
   "source": [
    "# TODO: Assign your values here\n",
    "A = 1e10\n",
    "B = 1e4\n",
    "C = 1e2\n",
    "D = -1\n",
    "E = -1e6\n",
    "\n",
    "# Check your answer (this will take a few seconds to run!)\n",
    "q_1.check()"
   ]
  },
  {
   "cell_type": "code",
   "execution_count": 3,
   "id": "2f14c3dd",
   "metadata": {
    "execution": {
     "iopub.execute_input": "2023-09-02T09:35:15.532838Z",
     "iopub.status.busy": "2023-09-02T09:35:15.531360Z",
     "iopub.status.idle": "2023-09-02T09:35:15.536762Z",
     "shell.execute_reply": "2023-09-02T09:35:15.535743Z"
    },
    "papermill": {
     "duration": 0.018115,
     "end_time": "2023-09-02T09:35:15.539563",
     "exception": false,
     "start_time": "2023-09-02T09:35:15.521448",
     "status": "completed"
    },
    "tags": []
   },
   "outputs": [],
   "source": [
    "# Lines below will give you a hint or solution code\n",
    "#q_1.hint()\n",
    "#q_1.solution()"
   ]
  },
  {
   "cell_type": "markdown",
   "id": "fb792cee",
   "metadata": {
    "papermill": {
     "duration": 0.008296,
     "end_time": "2023-09-02T09:35:15.556470",
     "exception": false,
     "start_time": "2023-09-02T09:35:15.548174",
     "status": "completed"
    },
    "tags": []
   },
   "source": [
    "### 2) Does the agent win?\n",
    "\n",
    "Consider the game board below.  \n",
    "\n",
    "<center>\n",
    "<img src=\"https://storage.googleapis.com/kaggle-media/learn/images/AlnaQ3J.png\" width=30%><br/>\n",
    "</center>\n",
    "\n",
    "Say the agent uses red discs, and it's the agent's turn.  \n",
    "- If the agent uses the heuristic **_from the tutorial_**, does it win or lose the game?\n",
    "- If the agent uses the heuristic **_that you just implemented_**, does it win or lose the game?"
   ]
  },
  {
   "cell_type": "code",
   "execution_count": 4,
   "id": "5f1d2fbd",
   "metadata": {
    "execution": {
     "iopub.execute_input": "2023-09-02T09:35:15.575448Z",
     "iopub.status.busy": "2023-09-02T09:35:15.574728Z",
     "iopub.status.idle": "2023-09-02T09:35:15.578777Z",
     "shell.execute_reply": "2023-09-02T09:35:15.577929Z"
    },
    "papermill": {
     "duration": 0.016489,
     "end_time": "2023-09-02T09:35:15.581346",
     "exception": false,
     "start_time": "2023-09-02T09:35:15.564857",
     "status": "completed"
    },
    "tags": []
   },
   "outputs": [],
   "source": [
    "#q_2.hint()"
   ]
  },
  {
   "cell_type": "code",
   "execution_count": 5,
   "id": "a4fdb731",
   "metadata": {
    "execution": {
     "iopub.execute_input": "2023-09-02T09:35:15.600415Z",
     "iopub.status.busy": "2023-09-02T09:35:15.599749Z",
     "iopub.status.idle": "2023-09-02T09:35:15.610057Z",
     "shell.execute_reply": "2023-09-02T09:35:15.608530Z"
    },
    "papermill": {
     "duration": 0.022961,
     "end_time": "2023-09-02T09:35:15.612809",
     "exception": false,
     "start_time": "2023-09-02T09:35:15.589848",
     "status": "completed"
    },
    "tags": []
   },
   "outputs": [
    {
     "data": {
      "application/javascript": [
       "parent.postMessage({\"jupyterEvent\": \"custom.exercise_interaction\", \"data\": {\"interactionType\": 3, \"questionType\": 4, \"questionId\": \"2_BothLose\", \"learnToolsVersion\": \"0.3.4\", \"valueTowardsCompletion\": 0.0, \"failureMessage\": \"\", \"exceptionClass\": \"\", \"trace\": \"\", \"outcomeType\": 4}}, \"*\")"
      ],
      "text/plain": [
       "<IPython.core.display.Javascript object>"
      ]
     },
     "metadata": {},
     "output_type": "display_data"
    },
    {
     "data": {
      "text/markdown": [
       "<span style=\"color:#33cc99\">Solution:</span> The agent has two choices: it can play in either column 0 (the leftmost column), or column 6 (the rightmost column). If the agent plays in column 0, it definitely wins the game in its next move.  And, if it plays in column 6, it likely loses the game (since, if the opponent responds by playing in the same column, then the opponent wins the game). \n",
       "\n",
       "If the agent uses the heuristic **from the tutorial**, both columns are scored equally, and so the agent will select from them (uniformly) at random.  In this case, the agent has about a 50/50 chance of winning the game. \n",
       "\n",
       "As for the heuristic **that** **you just implemented**, this will depend on your implementation, so we'll provide an answer for the solution heuristic that we provided -- in this case, the agent most likely loses the game, since it will definitely select the final column. \n",
       "\n",
       "This is an interesting situation, because on average, we see that the agent with the new heuristic performs better than the agent from the tutorial (and yet, for this board, it's guaranteed to make the wrong decision)."
      ],
      "text/plain": [
       "Solution: The agent has two choices: it can play in either column 0 (the leftmost column), or column 6 (the rightmost column). If the agent plays in column 0, it definitely wins the game in its next move.  And, if it plays in column 6, it likely loses the game (since, if the opponent responds by playing in the same column, then the opponent wins the game). \n",
       "\n",
       "If the agent uses the heuristic **from the tutorial**, both columns are scored equally, and so the agent will select from them (uniformly) at random.  In this case, the agent has about a 50/50 chance of winning the game. \n",
       "\n",
       "As for the heuristic **that** **you just implemented**, this will depend on your implementation, so we'll provide an answer for the solution heuristic that we provided -- in this case, the agent most likely loses the game, since it will definitely select the final column. \n",
       "\n",
       "This is an interesting situation, because on average, we see that the agent with the new heuristic performs better than the agent from the tutorial (and yet, for this board, it's guaranteed to make the wrong decision)."
      ]
     },
     "metadata": {},
     "output_type": "display_data"
    }
   ],
   "source": [
    "# Check your answer (Run this code cell to receive credit!)\n",
    "q_2.solution()"
   ]
  },
  {
   "cell_type": "markdown",
   "id": "4c606b75",
   "metadata": {
    "papermill": {
     "duration": 0.007651,
     "end_time": "2023-09-02T09:35:15.628923",
     "exception": false,
     "start_time": "2023-09-02T09:35:15.621272",
     "status": "completed"
    },
    "tags": []
   },
   "source": [
    "### 3) Submit to the competition\n",
    "\n",
    "Now, it's time to submit an agent to the competition!  Use the next code cell to define an agent.  (You can see an example of how to write a valid agent in **[this notebook](https://www.kaggle.com/alexisbcook/create-a-connectx-agent)**.)\n",
    "\n",
    "You're encouraged to use what you learned in the first question of this exercise to write an agent.  Use the code from the tutorial as a starting point. "
   ]
  },
  {
   "cell_type": "code",
   "execution_count": 6,
   "id": "177653e1",
   "metadata": {
    "execution": {
     "iopub.execute_input": "2023-09-02T09:35:15.647414Z",
     "iopub.status.busy": "2023-09-02T09:35:15.645995Z",
     "iopub.status.idle": "2023-09-02T09:35:15.654104Z",
     "shell.execute_reply": "2023-09-02T09:35:15.653052Z"
    },
    "papermill": {
     "duration": 0.01973,
     "end_time": "2023-09-02T09:35:15.656439",
     "exception": false,
     "start_time": "2023-09-02T09:35:15.636709",
     "status": "completed"
    },
    "tags": []
   },
   "outputs": [],
   "source": [
    "def my_agent(obs, config):\n",
    "    import random\n",
    "    valid_moves = [col for col in range(config.columns) if obs.board[col] == 0]\n",
    "    for col in valid_moves:\n",
    "        if check_winning_move(obs, config, col, obs.mark):\n",
    "            return col\n",
    "    for col in valid_moves:\n",
    "        if check_winning_move(obs, config, col, obs.mark%2+1):\n",
    "            return col\n",
    "    return random.choice(valid_moves)"
   ]
  },
  {
   "cell_type": "code",
   "execution_count": 7,
   "id": "8d9ff482",
   "metadata": {
    "execution": {
     "iopub.execute_input": "2023-09-02T09:35:15.674968Z",
     "iopub.status.busy": "2023-09-02T09:35:15.674486Z",
     "iopub.status.idle": "2023-09-02T09:35:15.684927Z",
     "shell.execute_reply": "2023-09-02T09:35:15.683430Z"
    },
    "papermill": {
     "duration": 0.022748,
     "end_time": "2023-09-02T09:35:15.687630",
     "exception": false,
     "start_time": "2023-09-02T09:35:15.664882",
     "status": "completed"
    },
    "tags": []
   },
   "outputs": [
    {
     "data": {
      "application/javascript": [
       "parent.postMessage({\"jupyterEvent\": \"custom.exercise_interaction\", \"data\": {\"outcomeType\": 1, \"valueTowardsCompletion\": 0.3333333333333333, \"interactionType\": 1, \"questionType\": 2, \"questionId\": \"3_CreateAgentEx2\", \"learnToolsVersion\": \"0.3.4\", \"failureMessage\": \"\", \"exceptionClass\": \"\", \"trace\": \"\"}}, \"*\")"
      ],
      "text/plain": [
       "<IPython.core.display.Javascript object>"
      ]
     },
     "metadata": {},
     "output_type": "display_data"
    },
    {
     "data": {
      "text/markdown": [
       "<span style=\"color:#33cc33\">Thank you for creating an agent!</span>"
      ],
      "text/plain": [
       "Thank you for creating an agent!"
      ]
     },
     "metadata": {},
     "output_type": "display_data"
    }
   ],
   "source": [
    "# Run this code cell to get credit for creating an agent\n",
    "q_3.check()"
   ]
  },
  {
   "cell_type": "markdown",
   "id": "1c3dc2a2",
   "metadata": {
    "papermill": {
     "duration": 0.00896,
     "end_time": "2023-09-02T09:35:15.705581",
     "exception": false,
     "start_time": "2023-09-02T09:35:15.696621",
     "status": "completed"
    },
    "tags": []
   },
   "source": [
    "Run the next code cell to convert your agent to a submission file."
   ]
  },
  {
   "cell_type": "code",
   "execution_count": 8,
   "id": "603b307a",
   "metadata": {
    "execution": {
     "iopub.execute_input": "2023-09-02T09:35:15.726328Z",
     "iopub.status.busy": "2023-09-02T09:35:15.725909Z",
     "iopub.status.idle": "2023-09-02T09:35:15.735447Z",
     "shell.execute_reply": "2023-09-02T09:35:15.733871Z"
    },
    "papermill": {
     "duration": 0.022827,
     "end_time": "2023-09-02T09:35:15.737843",
     "exception": false,
     "start_time": "2023-09-02T09:35:15.715016",
     "status": "completed"
    },
    "tags": []
   },
   "outputs": [
    {
     "name": "stdout",
     "output_type": "stream",
     "text": [
      "<function my_agent at 0x7bcfd5eb9900> written to submission.py\n"
     ]
    }
   ],
   "source": [
    "import inspect\n",
    "import os\n",
    "\n",
    "def write_agent_to_file(function, file):\n",
    "    with open(file, \"a\" if os.path.exists(file) else \"w\") as f:\n",
    "        f.write(inspect.getsource(function))\n",
    "        print(function, \"written to\", file)\n",
    "\n",
    "write_agent_to_file(my_agent, \"submission.py\")"
   ]
  },
  {
   "cell_type": "markdown",
   "id": "268d87b2",
   "metadata": {
    "papermill": {
     "duration": 0.008553,
     "end_time": "2023-09-02T09:35:15.756084",
     "exception": false,
     "start_time": "2023-09-02T09:35:15.747531",
     "status": "completed"
    },
    "tags": []
   },
   "source": [
    "Then, follow these steps to submit your agent to the competition:\n",
    "1. Begin by clicking on the **Save Version** button in the top right corner of the window.  This will generate a pop-up window.  \n",
    "2. Ensure that the **Save and Run All** option is selected, and then click on the **Save** button.\n",
    "3. This generates a window in the bottom left corner of the notebook.  After it has finished running, click on the number to the right of the **Save Version** button.  This pulls up a list of versions on the right of the screen.  Click on the ellipsis **(...)** to the right of the most recent version, and select **Open in Viewer**.  This brings you into view mode of the same page. You will need to scroll down to get back to these instructions.\n",
    "4. Click on the **Data** tab near the top of the screen.  Then, click on the file you would like to submit, and click on the **Submit** button to submit your results to the leaderboard.\n",
    "\n",
    "You have now successfully submitted to the competition!\n",
    "\n",
    "If you want to keep working to improve your performance, select the **Edit** button in the top right of the screen. Then you can change your code and repeat the process. There's a lot of room to improve, and you will climb up the leaderboard as you work.\n",
    "\n",
    "\n",
    "Go to **\"My Submissions\"** to view your score and episodes being played.\n",
    "\n",
    "# Keep going\n",
    "\n",
    "Move on to **[develop a longer-term strategy](https://www.kaggle.com/alexisbcook/n-step-lookahead)** with the minimax algorithm."
   ]
  },
  {
   "cell_type": "markdown",
   "id": "0637bfc7",
   "metadata": {
    "papermill": {
     "duration": 0.008155,
     "end_time": "2023-09-02T09:35:15.772733",
     "exception": false,
     "start_time": "2023-09-02T09:35:15.764578",
     "status": "completed"
    },
    "tags": []
   },
   "source": [
    "---\n",
    "\n",
    "\n",
    "\n",
    "\n",
    "*Have questions or comments? Visit the [course discussion forum](https://www.kaggle.com/learn/intro-to-game-ai-and-reinforcement-learning/discussion) to chat with other learners.*"
   ]
  }
 ],
 "kernelspec": {
  "display_name": "Python 3",
  "language": "python",
  "name": "python3"
 },
 "language_info": {
  "codemirror_mode": {
   "name": "ipython",
   "version": 3
  },
  "file_extension": ".py",
  "mimetype": "text/x-python",
  "name": "python",
  "nbconvert_exporter": "python",
  "pygments_lexer": "ipython3",
  "version": "3.6.4"
 },
 "metadata": {
  "kernelspec": {
   "display_name": "Python 3",
   "language": "python",
   "name": "python3"
  },
  "language_info": {
   "codemirror_mode": {
    "name": "ipython",
    "version": 3
   },
   "file_extension": ".py",
   "mimetype": "text/x-python",
   "name": "python",
   "nbconvert_exporter": "python",
   "pygments_lexer": "ipython3",
   "version": "3.10.12"
  },
  "papermill": {
   "default_parameters": {},
   "duration": 26.405789,
   "end_time": "2023-09-02T09:35:16.303599",
   "environment_variables": {},
   "exception": null,
   "input_path": "__notebook__.ipynb",
   "output_path": "__notebook__.ipynb",
   "parameters": {},
   "start_time": "2023-09-02T09:34:49.897810",
   "version": "2.4.0"
  }
 },
 "nbformat": 4,
 "nbformat_minor": 5
}
