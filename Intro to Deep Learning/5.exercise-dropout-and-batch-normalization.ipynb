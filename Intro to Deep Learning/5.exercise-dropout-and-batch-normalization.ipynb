{
 "cells": [
  {
   "cell_type": "markdown",
   "id": "a4ebe9ce",
   "metadata": {
    "papermill": {
     "duration": 0.008045,
     "end_time": "2023-08-23T10:02:54.735807",
     "exception": false,
     "start_time": "2023-08-23T10:02:54.727762",
     "status": "completed"
    },
    "tags": []
   },
   "source": [
    "**This notebook is an exercise in the [Intro to Deep Learning](https://www.kaggle.com/learn/intro-to-deep-learning) course.  You can reference the tutorial at [this link](https://www.kaggle.com/ryanholbrook/dropout-and-batch-normalization).**\n",
    "\n",
    "---\n"
   ]
  },
  {
   "cell_type": "markdown",
   "id": "8a1195fb",
   "metadata": {
    "papermill": {
     "duration": 0.00691,
     "end_time": "2023-08-23T10:02:54.750724",
     "exception": false,
     "start_time": "2023-08-23T10:02:54.743814",
     "status": "completed"
    },
    "tags": []
   },
   "source": [
    "# Introduction #\n",
    "\n",
    "In this exercise, you'll add dropout to the *Spotify* model from Exercise 4 and see how batch normalization can let you successfully train models on difficult datasets.\n",
    "\n",
    "Run the next cell to get started!"
   ]
  },
  {
   "cell_type": "code",
   "execution_count": 1,
   "id": "9a72154e",
   "metadata": {
    "execution": {
     "iopub.execute_input": "2023-08-23T10:02:54.767644Z",
     "iopub.status.busy": "2023-08-23T10:02:54.767123Z",
     "iopub.status.idle": "2023-08-23T10:02:54.827215Z",
     "shell.execute_reply": "2023-08-23T10:02:54.826041Z"
    },
    "papermill": {
     "duration": 0.072094,
     "end_time": "2023-08-23T10:02:54.830151",
     "exception": false,
     "start_time": "2023-08-23T10:02:54.758057",
     "status": "completed"
    },
    "tags": []
   },
   "outputs": [
    {
     "name": "stderr",
     "output_type": "stream",
     "text": [
      "/tmp/ipykernel_20/195640296.py:3: MatplotlibDeprecationWarning: The seaborn styles shipped by Matplotlib are deprecated since 3.6, as they no longer correspond to the styles shipped by seaborn. However, they will remain available as 'seaborn-v0_8-<style>'. Alternatively, directly use the seaborn API instead.\n",
      "  plt.style.use('seaborn-whitegrid')\n"
     ]
    }
   ],
   "source": [
    "# Setup plotting\n",
    "import matplotlib.pyplot as plt\n",
    "plt.style.use('seaborn-whitegrid')\n",
    "# Set Matplotlib defaults\n",
    "plt.rc('figure', autolayout=True)\n",
    "plt.rc('axes', labelweight='bold', labelsize='large',\n",
    "       titleweight='bold', titlesize=18, titlepad=10)\n",
    "plt.rc('animation', html='html5')\n",
    "\n",
    "# Setup feedback system\n",
    "from learntools.core import binder\n",
    "binder.bind(globals())\n",
    "from learntools.deep_learning_intro.ex5 import *"
   ]
  },
  {
   "cell_type": "markdown",
   "id": "8121de9c",
   "metadata": {
    "papermill": {
     "duration": 0.00713,
     "end_time": "2023-08-23T10:02:54.845077",
     "exception": false,
     "start_time": "2023-08-23T10:02:54.837947",
     "status": "completed"
    },
    "tags": []
   },
   "source": [
    "First load the *Spotify* dataset."
   ]
  },
  {
   "cell_type": "code",
   "execution_count": 2,
   "id": "c90fe789",
   "metadata": {
    "execution": {
     "iopub.execute_input": "2023-08-23T10:02:54.861616Z",
     "iopub.status.busy": "2023-08-23T10:02:54.861193Z",
     "iopub.status.idle": "2023-08-23T10:03:06.883664Z",
     "shell.execute_reply": "2023-08-23T10:03:06.882133Z"
    },
    "papermill": {
     "duration": 12.034368,
     "end_time": "2023-08-23T10:03:06.886808",
     "exception": false,
     "start_time": "2023-08-23T10:02:54.852440",
     "status": "completed"
    },
    "tags": []
   },
   "outputs": [
    {
     "name": "stderr",
     "output_type": "stream",
     "text": [
      "/opt/conda/lib/python3.10/site-packages/scipy/__init__.py:146: UserWarning: A NumPy version >=1.16.5 and <1.23.0 is required for this version of SciPy (detected version 1.23.5\n",
      "  warnings.warn(f\"A NumPy version >={np_minversion} and <{np_maxversion}\"\n",
      "/opt/conda/lib/python3.10/site-packages/tensorflow_io/python/ops/__init__.py:98: UserWarning: unable to load libtensorflow_io_plugins.so: unable to open file: libtensorflow_io_plugins.so, from paths: ['/opt/conda/lib/python3.10/site-packages/tensorflow_io/python/ops/libtensorflow_io_plugins.so']\n",
      "caused by: ['/opt/conda/lib/python3.10/site-packages/tensorflow_io/python/ops/libtensorflow_io_plugins.so: undefined symbol: _ZN3tsl6StatusC1EN10tensorflow5error4CodeESt17basic_string_viewIcSt11char_traitsIcEENS_14SourceLocationE']\n",
      "  warnings.warn(f\"unable to load libtensorflow_io_plugins.so: {e}\")\n",
      "/opt/conda/lib/python3.10/site-packages/tensorflow_io/python/ops/__init__.py:104: UserWarning: file system plugins are not loaded: unable to open file: libtensorflow_io.so, from paths: ['/opt/conda/lib/python3.10/site-packages/tensorflow_io/python/ops/libtensorflow_io.so']\n",
      "caused by: ['/opt/conda/lib/python3.10/site-packages/tensorflow_io/python/ops/libtensorflow_io.so: undefined symbol: _ZTVN10tensorflow13GcsFileSystemE']\n",
      "  warnings.warn(f\"file system plugins are not loaded: {e}\")\n"
     ]
    },
    {
     "name": "stdout",
     "output_type": "stream",
     "text": [
      "Input shape: [18]\n"
     ]
    }
   ],
   "source": [
    "import pandas as pd\n",
    "from sklearn.preprocessing import StandardScaler, OneHotEncoder\n",
    "from sklearn.compose import make_column_transformer\n",
    "from sklearn.model_selection import GroupShuffleSplit\n",
    "\n",
    "from tensorflow import keras\n",
    "from tensorflow.keras import layers\n",
    "from tensorflow.keras import callbacks\n",
    "\n",
    "spotify = pd.read_csv('../input/dl-course-data/spotify.csv')\n",
    "\n",
    "X = spotify.copy().dropna()\n",
    "y = X.pop('track_popularity')\n",
    "artists = X['track_artist']\n",
    "\n",
    "features_num = ['danceability', 'energy', 'key', 'loudness', 'mode',\n",
    "                'speechiness', 'acousticness', 'instrumentalness',\n",
    "                'liveness', 'valence', 'tempo', 'duration_ms']\n",
    "features_cat = ['playlist_genre']\n",
    "\n",
    "preprocessor = make_column_transformer(\n",
    "    (StandardScaler(), features_num),\n",
    "    (OneHotEncoder(), features_cat),\n",
    ")\n",
    "\n",
    "def group_split(X, y, group, train_size=0.75):\n",
    "    splitter = GroupShuffleSplit(train_size=train_size)\n",
    "    train, test = next(splitter.split(X, y, groups=group))\n",
    "    return (X.iloc[train], X.iloc[test], y.iloc[train], y.iloc[test])\n",
    "\n",
    "X_train, X_valid, y_train, y_valid = group_split(X, y, artists)\n",
    "\n",
    "X_train = preprocessor.fit_transform(X_train)\n",
    "X_valid = preprocessor.transform(X_valid)\n",
    "y_train = y_train / 100\n",
    "y_valid = y_valid / 100\n",
    "\n",
    "input_shape = [X_train.shape[1]]\n",
    "print(\"Input shape: {}\".format(input_shape))"
   ]
  },
  {
   "cell_type": "markdown",
   "id": "d78c5d5a",
   "metadata": {
    "papermill": {
     "duration": 0.007493,
     "end_time": "2023-08-23T10:03:06.902461",
     "exception": false,
     "start_time": "2023-08-23T10:03:06.894968",
     "status": "completed"
    },
    "tags": []
   },
   "source": [
    "# 1) Add Dropout to Spotify Model\n",
    "\n",
    "Here is the last model from Exercise 4. Add two dropout layers, one after the `Dense` layer with 128 units, and one after the `Dense` layer with 64 units. Set the dropout rate on both to `0.3`."
   ]
  },
  {
   "cell_type": "code",
   "execution_count": 3,
   "id": "12e2332e",
   "metadata": {
    "execution": {
     "iopub.execute_input": "2023-08-23T10:03:06.919997Z",
     "iopub.status.busy": "2023-08-23T10:03:06.919614Z",
     "iopub.status.idle": "2023-08-23T10:03:07.136948Z",
     "shell.execute_reply": "2023-08-23T10:03:07.135763Z"
    },
    "lines_to_next_cell": 2,
    "papermill": {
     "duration": 0.229232,
     "end_time": "2023-08-23T10:03:07.139404",
     "exception": false,
     "start_time": "2023-08-23T10:03:06.910172",
     "status": "completed"
    },
    "tags": []
   },
   "outputs": [
    {
     "data": {
      "application/javascript": [
       "parent.postMessage({\"jupyterEvent\": \"custom.exercise_interaction\", \"data\": {\"outcomeType\": 1, \"valueTowardsCompletion\": 0.25, \"interactionType\": 1, \"questionType\": 2, \"questionId\": \"1_Q1\", \"learnToolsVersion\": \"0.3.4\", \"failureMessage\": \"\", \"exceptionClass\": \"\", \"trace\": \"\"}}, \"*\")"
      ],
      "text/plain": [
       "<IPython.core.display.Javascript object>"
      ]
     },
     "metadata": {},
     "output_type": "display_data"
    },
    {
     "data": {
      "text/markdown": [
       "<span style=\"color:#33cc33\">Correct</span>"
      ],
      "text/plain": [
       "Correct"
      ]
     },
     "metadata": {},
     "output_type": "display_data"
    }
   ],
   "source": [
    "# YOUR CODE HERE: Add two 30% dropout layers, one after 128 and one after 64\n",
    "model = keras.Sequential([\n",
    "    layers.Dense(128, activation='relu', input_shape=input_shape),\n",
    "    layers.Dropout(0.3),\n",
    "    \n",
    "    layers.Dense(64, activation='relu'),\n",
    "    layers.Dropout(0.3),\n",
    "    layers.Dense(1)\n",
    "])\n",
    "\n",
    "# Check your answer\n",
    "q_1.check()"
   ]
  },
  {
   "cell_type": "code",
   "execution_count": 4,
   "id": "2f4da082",
   "metadata": {
    "execution": {
     "iopub.execute_input": "2023-08-23T10:03:07.158647Z",
     "iopub.status.busy": "2023-08-23T10:03:07.156906Z",
     "iopub.status.idle": "2023-08-23T10:03:07.162503Z",
     "shell.execute_reply": "2023-08-23T10:03:07.161389Z"
    },
    "papermill": {
     "duration": 0.017549,
     "end_time": "2023-08-23T10:03:07.164999",
     "exception": false,
     "start_time": "2023-08-23T10:03:07.147450",
     "status": "completed"
    },
    "tags": []
   },
   "outputs": [],
   "source": [
    "# Lines below will give you a hint or solution code\n",
    "#q_1.hint()\n",
    "#q_1.solution()"
   ]
  },
  {
   "cell_type": "markdown",
   "id": "d42ed5df",
   "metadata": {
    "papermill": {
     "duration": 0.007881,
     "end_time": "2023-08-23T10:03:07.182760",
     "exception": false,
     "start_time": "2023-08-23T10:03:07.174879",
     "status": "completed"
    },
    "tags": []
   },
   "source": [
    "Now run this next cell to train the model see the effect of adding dropout."
   ]
  },
  {
   "cell_type": "code",
   "execution_count": 5,
   "id": "ebedbbe9",
   "metadata": {
    "execution": {
     "iopub.execute_input": "2023-08-23T10:03:07.202070Z",
     "iopub.status.busy": "2023-08-23T10:03:07.201675Z",
     "iopub.status.idle": "2023-08-23T10:03:29.174651Z",
     "shell.execute_reply": "2023-08-23T10:03:29.173391Z"
    },
    "papermill": {
     "duration": 21.985433,
     "end_time": "2023-08-23T10:03:29.177284",
     "exception": false,
     "start_time": "2023-08-23T10:03:07.191851",
     "status": "completed"
    },
    "tags": []
   },
   "outputs": [
    {
     "name": "stdout",
     "output_type": "stream",
     "text": [
      "Minimum Validation Loss: 0.1918\n"
     ]
    },
    {
     "data": {
      "image/png": "[encoded data removed]",
      "text/plain": [
       "<Figure size 640x480 with 1 Axes>"
      ]
     },
     "metadata": {},
     "output_type": "display_data"
    }
   ],
   "source": [
    "model.compile(\n",
    "    optimizer='adam',\n",
    "    loss='mae',\n",
    ")\n",
    "history = model.fit(\n",
    "    X_train, y_train,\n",
    "    validation_data=(X_valid, y_valid),\n",
    "    batch_size=512,\n",
    "    epochs=50,\n",
    "    verbose=0,\n",
    ")\n",
    "history_df = pd.DataFrame(history.history)\n",
    "history_df.loc[:, ['loss', 'val_loss']].plot()\n",
    "print(\"Minimum Validation Loss: {:0.4f}\".format(history_df['val_loss'].min()))"
   ]
  },
  {
   "cell_type": "markdown",
   "id": "0d76ed6e",
   "metadata": {
    "papermill": {
     "duration": 0.008552,
     "end_time": "2023-08-23T10:03:29.194752",
     "exception": false,
     "start_time": "2023-08-23T10:03:29.186200",
     "status": "completed"
    },
    "tags": []
   },
   "source": [
    "# 2) Evaluate Dropout\n",
    "\n",
    "Recall from Exercise 4 that this model tended to overfit the data around epoch 5. Did adding dropout seem to help prevent overfitting this time?"
   ]
  },
  {
   "cell_type": "code",
   "execution_count": 6,
   "id": "f07a3385",
   "metadata": {
    "execution": {
     "iopub.execute_input": "2023-08-23T10:03:29.214223Z",
     "iopub.status.busy": "2023-08-23T10:03:29.213846Z",
     "iopub.status.idle": "2023-08-23T10:03:29.223614Z",
     "shell.execute_reply": "2023-08-23T10:03:29.222419Z"
    },
    "papermill": {
     "duration": 0.022695,
     "end_time": "2023-08-23T10:03:29.226059",
     "exception": false,
     "start_time": "2023-08-23T10:03:29.203364",
     "status": "completed"
    },
    "tags": []
   },
   "outputs": [
    {
     "data": {
      "application/javascript": [
       "parent.postMessage({\"jupyterEvent\": \"custom.exercise_interaction\", \"data\": {\"outcomeType\": 1, \"valueTowardsCompletion\": 0.25, \"interactionType\": 1, \"questionType\": 4, \"questionId\": \"2_Q2\", \"learnToolsVersion\": \"0.3.4\", \"failureMessage\": \"\", \"exceptionClass\": \"\", \"trace\": \"\"}}, \"*\")"
      ],
      "text/plain": [
       "<IPython.core.display.Javascript object>"
      ]
     },
     "metadata": {},
     "output_type": "display_data"
    },
    {
     "data": {
      "text/markdown": [
       "<span style=\"color:#33cc33\">Correct:</span> \n",
       "\n",
       "\n",
       "From the learning curves, you can see that the validation loss remains near a constant minimum even though the training loss continues to decrease. So we can see that adding dropout did prevent overfitting this time. Moreover, by making it harder for the network to fit spurious patterns, dropout may have encouraged the network to seek out more of the true patterns, possibly improving the validation loss some as well).\n"
      ],
      "text/plain": [
       "Correct: \n",
       "\n",
       "\n",
       "From the learning curves, you can see that the validation loss remains near a constant minimum even though the training loss continues to decrease. So we can see that adding dropout did prevent overfitting this time. Moreover, by making it harder for the network to fit spurious patterns, dropout may have encouraged the network to seek out more of the true patterns, possibly improving the validation loss some as well)."
      ]
     },
     "metadata": {},
     "output_type": "display_data"
    }
   ],
   "source": [
    "# View the solution (Run this cell to receive credit!)\n",
    "q_2.check()"
   ]
  },
  {
   "cell_type": "markdown",
   "id": "179fd18b",
   "metadata": {
    "papermill": {
     "duration": 0.008928,
     "end_time": "2023-08-23T10:03:29.244302",
     "exception": false,
     "start_time": "2023-08-23T10:03:29.235374",
     "status": "completed"
    },
    "tags": []
   },
   "source": [
    "Now, we'll switch topics to explore how batch normalization can fix problems in training.\n",
    "\n",
    "Load the *Concrete* dataset. We won't do any standardization this time. This will make the effect of batch normalization much more apparent."
   ]
  },
  {
   "cell_type": "code",
   "execution_count": 7,
   "id": "89c9920f",
   "metadata": {
    "execution": {
     "iopub.execute_input": "2023-08-23T10:03:29.264947Z",
     "iopub.status.busy": "2023-08-23T10:03:29.263815Z",
     "iopub.status.idle": "2023-08-23T10:03:29.287113Z",
     "shell.execute_reply": "2023-08-23T10:03:29.286192Z"
    },
    "papermill": {
     "duration": 0.036282,
     "end_time": "2023-08-23T10:03:29.289691",
     "exception": false,
     "start_time": "2023-08-23T10:03:29.253409",
     "status": "completed"
    },
    "tags": []
   },
   "outputs": [],
   "source": [
    "import pandas as pd\n",
    "\n",
    "concrete = pd.read_csv('../input/dl-course-data/concrete.csv')\n",
    "df = concrete.copy()\n",
    "\n",
    "df_train = df.sample(frac=0.7, random_state=0)\n",
    "df_valid = df.drop(df_train.index)\n",
    "\n",
    "X_train = df_train.drop('CompressiveStrength', axis=1)\n",
    "X_valid = df_valid.drop('CompressiveStrength', axis=1)\n",
    "y_train = df_train['CompressiveStrength']\n",
    "y_valid = df_valid['CompressiveStrength']\n",
    "\n",
    "input_shape = [X_train.shape[1]]"
   ]
  },
  {
   "cell_type": "markdown",
   "id": "7d66f4c7",
   "metadata": {
    "papermill": {
     "duration": 0.008846,
     "end_time": "2023-08-23T10:03:29.307906",
     "exception": false,
     "start_time": "2023-08-23T10:03:29.299060",
     "status": "completed"
    },
    "tags": []
   },
   "source": [
    "Run the following cell to train the network on the unstandardized *Concrete* data."
   ]
  },
  {
   "cell_type": "code",
   "execution_count": 8,
   "id": "949dca9c",
   "metadata": {
    "execution": {
     "iopub.execute_input": "2023-08-23T10:03:29.328552Z",
     "iopub.status.busy": "2023-08-23T10:03:29.328090Z",
     "iopub.status.idle": "2023-08-23T10:03:41.819211Z",
     "shell.execute_reply": "2023-08-23T10:03:41.818082Z"
    },
    "papermill": {
     "duration": 12.504569,
     "end_time": "2023-08-23T10:03:41.821692",
     "exception": false,
     "start_time": "2023-08-23T10:03:29.317123",
     "status": "completed"
    },
    "tags": []
   },
   "outputs": [
    {
     "name": "stdout",
     "output_type": "stream",
     "text": [
      "Minimum Validation Loss: nan\n"
     ]
    },
    {
     "data": {
      "image/png": "[encoded data removed]",
      "text/plain": [
       "<Figure size 640x480 with 1 Axes>"
      ]
     },
     "metadata": {},
     "output_type": "display_data"
    }
   ],
   "source": [
    "model = keras.Sequential([\n",
    "    layers.Dense(512, activation='relu', input_shape=input_shape),\n",
    "    layers.Dense(512, activation='relu'),    \n",
    "    layers.Dense(512, activation='relu'),\n",
    "    layers.Dense(1),\n",
    "])\n",
    "model.compile(\n",
    "    optimizer='sgd', # SGD is more sensitive to differences of scale\n",
    "    loss='mae',\n",
    "    metrics=['mae'],\n",
    ")\n",
    "history = model.fit(\n",
    "    X_train, y_train,\n",
    "    validation_data=(X_valid, y_valid),\n",
    "    batch_size=64,\n",
    "    epochs=100,\n",
    "    verbose=0,\n",
    ")\n",
    "\n",
    "history_df = pd.DataFrame(history.history)\n",
    "history_df.loc[0:, ['loss', 'val_loss']].plot()\n",
    "print((\"Minimum Validation Loss: {:0.4f}\").format(history_df['val_loss'].min()))"
   ]
  },
  {
   "cell_type": "markdown",
   "id": "16f169e1",
   "metadata": {
    "papermill": {
     "duration": 0.009495,
     "end_time": "2023-08-23T10:03:41.841038",
     "exception": false,
     "start_time": "2023-08-23T10:03:41.831543",
     "status": "completed"
    },
    "tags": []
   },
   "source": [
    "Did you end up with a blank graph? Trying to train this network on this dataset will usually fail. Even when it does converge (due to a lucky weight initialization), it tends to converge to a very large number.\n",
    "\n",
    "# 3) Add Batch Normalization Layers\n",
    "\n",
    "Batch normalization can help correct problems like this.\n",
    "\n",
    "Add four `BatchNormalization` layers, one before each of the dense layers. (Remember to move the `input_shape` argument to the new first layer.)"
   ]
  },
  {
   "cell_type": "code",
   "execution_count": 9,
   "id": "2ca2f3d5",
   "metadata": {
    "execution": {
     "iopub.execute_input": "2023-08-23T10:03:41.862442Z",
     "iopub.status.busy": "2023-08-23T10:03:41.861999Z",
     "iopub.status.idle": "2023-08-23T10:03:41.893106Z",
     "shell.execute_reply": "2023-08-23T10:03:41.892046Z"
    },
    "lines_to_next_cell": 0,
    "papermill": {
     "duration": 0.044718,
     "end_time": "2023-08-23T10:03:41.895498",
     "exception": false,
     "start_time": "2023-08-23T10:03:41.850780",
     "status": "completed"
    },
    "tags": []
   },
   "outputs": [
    {
     "data": {
      "application/javascript": [
       "parent.postMessage({\"jupyterEvent\": \"custom.exercise_interaction\", \"data\": {\"outcomeType\": 1, \"valueTowardsCompletion\": 0.25, \"interactionType\": 1, \"questionType\": 2, \"questionId\": \"3_Q3\", \"learnToolsVersion\": \"0.3.4\", \"failureMessage\": \"\", \"exceptionClass\": \"\", \"trace\": \"\"}}, \"*\")"
      ],
      "text/plain": [
       "<IPython.core.display.Javascript object>"
      ]
     },
     "metadata": {},
     "output_type": "display_data"
    },
    {
     "data": {
      "text/markdown": [
       "<span style=\"color:#33cc33\">Correct</span>"
      ],
      "text/plain": [
       "Correct"
      ]
     },
     "metadata": {},
     "output_type": "display_data"
    }
   ],
   "source": [
    "# YOUR CODE HERE: Add a BatchNormalization layer before each Dense layer\n",
    "model = keras.Sequential([\n",
    "    layers.BatchNormalization(),\n",
    "    layers.Dense(512, activation='relu', input_shape=input_shape),\n",
    "    \n",
    "    layers.BatchNormalization(),\n",
    "    layers.Dense(512, activation='relu'),\n",
    "    \n",
    "    layers.BatchNormalization(),\n",
    "    layers.Dense(512, activation='relu'),\n",
    "    \n",
    "    layers.BatchNormalization(),\n",
    "    layers.Dense(1),\n",
    "])\n",
    "\n",
    "# Check your answer\n",
    "q_3.check()"
   ]
  },
  {
   "cell_type": "code",
   "execution_count": 10,
   "id": "f532c402",
   "metadata": {
    "execution": {
     "iopub.execute_input": "2023-08-23T10:03:41.917126Z",
     "iopub.status.busy": "2023-08-23T10:03:41.916755Z",
     "iopub.status.idle": "2023-08-23T10:03:41.921367Z",
     "shell.execute_reply": "2023-08-23T10:03:41.920098Z"
    },
    "papermill": {
     "duration": 0.01861,
     "end_time": "2023-08-23T10:03:41.923917",
     "exception": false,
     "start_time": "2023-08-23T10:03:41.905307",
     "status": "completed"
    },
    "tags": []
   },
   "outputs": [],
   "source": [
    "# Lines below will give you a hint or solution code\n",
    "#q_3.hint()\n",
    "#q_3.solution()"
   ]
  },
  {
   "cell_type": "markdown",
   "id": "e087dbc6",
   "metadata": {
    "papermill": {
     "duration": 0.009624,
     "end_time": "2023-08-23T10:03:41.943450",
     "exception": false,
     "start_time": "2023-08-23T10:03:41.933826",
     "status": "completed"
    },
    "tags": []
   },
   "source": [
    "Run the next cell to see if batch normalization will let us train the model."
   ]
  },
  {
   "cell_type": "code",
   "execution_count": 11,
   "id": "0a7fdb16",
   "metadata": {
    "execution": {
     "iopub.execute_input": "2023-08-23T10:03:41.965159Z",
     "iopub.status.busy": "2023-08-23T10:03:41.964777Z",
     "iopub.status.idle": "2023-08-23T10:03:57.603575Z",
     "shell.execute_reply": "2023-08-23T10:03:57.602315Z"
    },
    "papermill": {
     "duration": 15.653276,
     "end_time": "2023-08-23T10:03:57.606579",
     "exception": false,
     "start_time": "2023-08-23T10:03:41.953303",
     "status": "completed"
    },
    "tags": []
   },
   "outputs": [
    {
     "name": "stdout",
     "output_type": "stream",
     "text": [
      "Minimum Validation Loss: 3.9826\n"
     ]
    },
    {
     "data": {
      "image/png": "[encoded data removed]",
      "text/plain": [
       "<Figure size 640x480 with 1 Axes>"
      ]
     },
     "metadata": {},
     "output_type": "display_data"
    }
   ],
   "source": [
    "model.compile(\n",
    "    optimizer='sgd',\n",
    "    loss='mae',\n",
    "    metrics=['mae'],\n",
    ")\n",
    "EPOCHS = 100\n",
    "history = model.fit(\n",
    "    X_train, y_train,\n",
    "    validation_data=(X_valid, y_valid),\n",
    "    batch_size=64,\n",
    "    epochs=EPOCHS,\n",
    "    verbose=0,\n",
    ")\n",
    "\n",
    "history_df = pd.DataFrame(history.history)\n",
    "history_df.loc[0:, ['loss', 'val_loss']].plot()\n",
    "print((\"Minimum Validation Loss: {:0.4f}\").format(history_df['val_loss'].min()))"
   ]
  },
  {
   "cell_type": "markdown",
   "id": "e3d00881",
   "metadata": {
    "papermill": {
     "duration": 0.010422,
     "end_time": "2023-08-23T10:03:57.627857",
     "exception": false,
     "start_time": "2023-08-23T10:03:57.617435",
     "status": "completed"
    },
    "tags": []
   },
   "source": [
    "# 4) Evaluate Batch Normalization\n",
    "\n",
    "Did adding batch normalization help?"
   ]
  },
  {
   "cell_type": "code",
   "execution_count": 12,
   "id": "76138298",
   "metadata": {
    "execution": {
     "iopub.execute_input": "2023-08-23T10:03:57.651492Z",
     "iopub.status.busy": "2023-08-23T10:03:57.651056Z",
     "iopub.status.idle": "2023-08-23T10:03:57.660165Z",
     "shell.execute_reply": "2023-08-23T10:03:57.658960Z"
    },
    "lines_to_next_cell": 0,
    "papermill": {
     "duration": 0.024008,
     "end_time": "2023-08-23T10:03:57.662821",
     "exception": false,
     "start_time": "2023-08-23T10:03:57.638813",
     "status": "completed"
    },
    "tags": []
   },
   "outputs": [
    {
     "data": {
      "application/javascript": [
       "parent.postMessage({\"jupyterEvent\": \"custom.exercise_interaction\", \"data\": {\"outcomeType\": 1, \"valueTowardsCompletion\": 0.25, \"interactionType\": 1, \"questionType\": 4, \"questionId\": \"4_Q4\", \"learnToolsVersion\": \"0.3.4\", \"failureMessage\": \"\", \"exceptionClass\": \"\", \"trace\": \"\"}}, \"*\")"
      ],
      "text/plain": [
       "<IPython.core.display.Javascript object>"
      ]
     },
     "metadata": {},
     "output_type": "display_data"
    },
    {
     "data": {
      "text/markdown": [
       "<span style=\"color:#33cc33\">Correct:</span> \n",
       "\n",
       "\n",
       "You can see that adding batch normalization was a big improvement on the first attempt! By adaptively scaling the data as it passes through the network, batch normalization can let you train models on difficult datasets.\n"
      ],
      "text/plain": [
       "Correct: \n",
       "\n",
       "\n",
       "You can see that adding batch normalization was a big improvement on the first attempt! By adaptively scaling the data as it passes through the network, batch normalization can let you train models on difficult datasets."
      ]
     },
     "metadata": {},
     "output_type": "display_data"
    }
   ],
   "source": [
    "# View the solution (Run this cell to receive credit!)\n",
    "q_4.check()"
   ]
  },
  {
   "cell_type": "markdown",
   "id": "5e8bbb99",
   "metadata": {
    "papermill": {
     "duration": 0.010906,
     "end_time": "2023-08-23T10:03:57.684786",
     "exception": false,
     "start_time": "2023-08-23T10:03:57.673880",
     "status": "completed"
    },
    "tags": []
   },
   "source": [
    "# Keep Going #\n",
    "\n",
    "[**Create neural networks**](https://www.kaggle.com/ryanholbrook/binary-classification) for binary classification."
   ]
  },
  {
   "cell_type": "markdown",
   "id": "00d03438",
   "metadata": {
    "papermill": {
     "duration": 0.010888,
     "end_time": "2023-08-23T10:03:57.708861",
     "exception": false,
     "start_time": "2023-08-23T10:03:57.697973",
     "status": "completed"
    },
    "tags": []
   },
   "source": [
    "---\n",
    "\n",
    "\n",
    "\n",
    "\n",
    "*Have questions or comments? Visit the [course discussion forum](https://www.kaggle.com/learn/intro-to-deep-learning/discussion) to chat with other learners.*"
   ]
  }
 ],
 "metadata": {
  "kernelspec": {
   "display_name": "Python 3",
   "language": "python",
   "name": "python3"
  },
  "language_info": {
   "codemirror_mode": {
    "name": "ipython",
    "version": 3
   },
   "file_extension": ".py",
   "mimetype": "text/x-python",
   "name": "python",
   "nbconvert_exporter": "python",
   "pygments_lexer": "ipython3",
   "version": "3.10.12"
  },
  "papermill": {
   "default_parameters": {},
   "duration": 77.787443,
   "end_time": "2023-08-23T10:04:00.484239",
   "environment_variables": {},
   "exception": null,
   "input_path": "__notebook__.ipynb",
   "output_path": "__notebook__.ipynb",
   "parameters": {},
   "start_time": "2023-08-23T10:02:42.696796",
   "version": "2.4.0"
  }
 },
 "nbformat": 4,
 "nbformat_minor": 5
}
