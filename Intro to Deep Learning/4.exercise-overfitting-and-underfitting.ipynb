{
 "cells": [
  {
   "cell_type": "markdown",
   "id": "e5f8fee5",
   "metadata": {
    "papermill": {
     "duration": 0.007577,
     "end_time": "2023-08-23T10:01:14.554161",
     "exception": false,
     "start_time": "2023-08-23T10:01:14.546584",
     "status": "completed"
    },
    "tags": []
   },
   "source": [
    "**This notebook is an exercise in the [Intro to Deep Learning](https://www.kaggle.com/learn/intro-to-deep-learning) course.  You can reference the tutorial at [this link](https://www.kaggle.com/ryanholbrook/overfitting-and-underfitting).**\n",
    "\n",
    "---\n"
   ]
  },
  {
   "cell_type": "markdown",
   "id": "c46d26a6",
   "metadata": {
    "papermill": {
     "duration": 0.006815,
     "end_time": "2023-08-23T10:01:14.568230",
     "exception": false,
     "start_time": "2023-08-23T10:01:14.561415",
     "status": "completed"
    },
    "tags": []
   },
   "source": [
    "# Introduction #\n",
    "\n",
    "In this exercise, you’ll learn how to improve training outcomes by including an early stopping callback to prevent overfitting.\n",
    "\n",
    "When you're ready, run this next cell to set everything up!"
   ]
  },
  {
   "cell_type": "code",
   "execution_count": 1,
   "id": "5c1187aa",
   "metadata": {
    "execution": {
     "iopub.execute_input": "2023-08-23T10:01:14.584375Z",
     "iopub.status.busy": "2023-08-23T10:01:14.583908Z",
     "iopub.status.idle": "2023-08-23T10:01:14.639386Z",
     "shell.execute_reply": "2023-08-23T10:01:14.638253Z"
    },
    "papermill": {
     "duration": 0.067485,
     "end_time": "2023-08-23T10:01:14.642932",
     "exception": false,
     "start_time": "2023-08-23T10:01:14.575447",
     "status": "completed"
    },
    "tags": []
   },
   "outputs": [
    {
     "name": "stderr",
     "output_type": "stream",
     "text": [
      "/tmp/ipykernel_21/1500229236.py:3: MatplotlibDeprecationWarning: The seaborn styles shipped by Matplotlib are deprecated since 3.6, as they no longer correspond to the styles shipped by seaborn. However, they will remain available as 'seaborn-v0_8-<style>'. Alternatively, directly use the seaborn API instead.\n",
      "  plt.style.use('seaborn-whitegrid')\n"
     ]
    }
   ],
   "source": [
    "# Setup plotting\n",
    "import matplotlib.pyplot as plt\n",
    "plt.style.use('seaborn-whitegrid')\n",
    "# Set Matplotlib defaults\n",
    "plt.rc('figure', autolayout=True)\n",
    "plt.rc('axes', labelweight='bold', labelsize='large',\n",
    "       titleweight='bold', titlesize=18, titlepad=10)\n",
    "plt.rc('animation', html='html5')\n",
    "\n",
    "# Setup feedback system\n",
    "from learntools.core import binder\n",
    "binder.bind(globals())\n",
    "from learntools.deep_learning_intro.ex4 import *"
   ]
  },
  {
   "cell_type": "markdown",
   "id": "f4576655",
   "metadata": {
    "papermill": {
     "duration": 0.007455,
     "end_time": "2023-08-23T10:01:14.657696",
     "exception": false,
     "start_time": "2023-08-23T10:01:14.650241",
     "status": "completed"
    },
    "tags": []
   },
   "source": [
    "First load the *Spotify* dataset. Your task will be to predict the popularity of a song based on various audio features, like `'tempo'`, `'danceability'`, and `'mode'`."
   ]
  },
  {
   "cell_type": "code",
   "execution_count": 2,
   "id": "9201c41e",
   "metadata": {
    "execution": {
     "iopub.execute_input": "2023-08-23T10:01:14.674478Z",
     "iopub.status.busy": "2023-08-23T10:01:14.674074Z",
     "iopub.status.idle": "2023-08-23T10:01:26.220924Z",
     "shell.execute_reply": "2023-08-23T10:01:26.219674Z"
    },
    "papermill": {
     "duration": 11.558455,
     "end_time": "2023-08-23T10:01:26.223716",
     "exception": false,
     "start_time": "2023-08-23T10:01:14.665261",
     "status": "completed"
    },
    "tags": []
   },
   "outputs": [
    {
     "name": "stderr",
     "output_type": "stream",
     "text": [
      "/opt/conda/lib/python3.10/site-packages/scipy/__init__.py:146: UserWarning: A NumPy version >=1.16.5 and <1.23.0 is required for this version of SciPy (detected version 1.23.5\n",
      "  warnings.warn(f\"A NumPy version >={np_minversion} and <{np_maxversion}\"\n",
      "/opt/conda/lib/python3.10/site-packages/tensorflow_io/python/ops/__init__.py:98: UserWarning: unable to load libtensorflow_io_plugins.so: unable to open file: libtensorflow_io_plugins.so, from paths: ['/opt/conda/lib/python3.10/site-packages/tensorflow_io/python/ops/libtensorflow_io_plugins.so']\n",
      "caused by: ['/opt/conda/lib/python3.10/site-packages/tensorflow_io/python/ops/libtensorflow_io_plugins.so: undefined symbol: _ZN3tsl6StatusC1EN10tensorflow5error4CodeESt17basic_string_viewIcSt11char_traitsIcEENS_14SourceLocationE']\n",
      "  warnings.warn(f\"unable to load libtensorflow_io_plugins.so: {e}\")\n",
      "/opt/conda/lib/python3.10/site-packages/tensorflow_io/python/ops/__init__.py:104: UserWarning: file system plugins are not loaded: unable to open file: libtensorflow_io.so, from paths: ['/opt/conda/lib/python3.10/site-packages/tensorflow_io/python/ops/libtensorflow_io.so']\n",
      "caused by: ['/opt/conda/lib/python3.10/site-packages/tensorflow_io/python/ops/libtensorflow_io.so: undefined symbol: _ZTVN10tensorflow13GcsFileSystemE']\n",
      "  warnings.warn(f\"file system plugins are not loaded: {e}\")\n"
     ]
    },
    {
     "name": "stdout",
     "output_type": "stream",
     "text": [
      "Input shape: [18]\n"
     ]
    }
   ],
   "source": [
    "import pandas as pd\n",
    "from sklearn.preprocessing import StandardScaler, OneHotEncoder\n",
    "from sklearn.compose import make_column_transformer\n",
    "from sklearn.model_selection import GroupShuffleSplit\n",
    "\n",
    "from tensorflow import keras\n",
    "from tensorflow.keras import layers\n",
    "from tensorflow.keras import callbacks\n",
    "\n",
    "spotify = pd.read_csv('../input/dl-course-data/spotify.csv')\n",
    "\n",
    "X = spotify.copy().dropna()\n",
    "y = X.pop('track_popularity')\n",
    "artists = X['track_artist']\n",
    "\n",
    "features_num = ['danceability', 'energy', 'key', 'loudness', 'mode',\n",
    "                'speechiness', 'acousticness', 'instrumentalness',\n",
    "                'liveness', 'valence', 'tempo', 'duration_ms']\n",
    "features_cat = ['playlist_genre']\n",
    "\n",
    "preprocessor = make_column_transformer(\n",
    "    (StandardScaler(), features_num),\n",
    "    (OneHotEncoder(), features_cat),\n",
    ")\n",
    "\n",
    "# We'll do a \"grouped\" split to keep all of an artist's songs in one\n",
    "# split or the other. This is to help prevent signal leakage.\n",
    "def group_split(X, y, group, train_size=0.75):\n",
    "    splitter = GroupShuffleSplit(train_size=train_size)\n",
    "    train, test = next(splitter.split(X, y, groups=group))\n",
    "    return (X.iloc[train], X.iloc[test], y.iloc[train], y.iloc[test])\n",
    "\n",
    "X_train, X_valid, y_train, y_valid = group_split(X, y, artists)\n",
    "\n",
    "X_train = preprocessor.fit_transform(X_train)\n",
    "X_valid = preprocessor.transform(X_valid)\n",
    "y_train = y_train / 100 # popularity is on a scale 0-100, so this rescales to 0-1.\n",
    "y_valid = y_valid / 100\n",
    "\n",
    "input_shape = [X_train.shape[1]]\n",
    "print(\"Input shape: {}\".format(input_shape))"
   ]
  },
  {
   "cell_type": "markdown",
   "id": "e21be741",
   "metadata": {
    "papermill": {
     "duration": 0.007246,
     "end_time": "2023-08-23T10:01:26.238776",
     "exception": false,
     "start_time": "2023-08-23T10:01:26.231530",
     "status": "completed"
    },
    "tags": []
   },
   "source": [
    "Let's start with the simplest network, a linear model. This model has low capacity.\n",
    "\n",
    "Run this next cell without any changes to train a linear model on the *Spotify* dataset."
   ]
  },
  {
   "cell_type": "code",
   "execution_count": 3,
   "id": "3aee192f",
   "metadata": {
    "execution": {
     "iopub.execute_input": "2023-08-23T10:01:26.256173Z",
     "iopub.status.busy": "2023-08-23T10:01:26.255379Z",
     "iopub.status.idle": "2023-08-23T10:01:37.868887Z",
     "shell.execute_reply": "2023-08-23T10:01:37.867647Z"
    },
    "lines_to_next_cell": 0,
    "papermill": {
     "duration": 11.625113,
     "end_time": "2023-08-23T10:01:37.871525",
     "exception": false,
     "start_time": "2023-08-23T10:01:26.246412",
     "status": "completed"
    },
    "tags": []
   },
   "outputs": [
    {
     "name": "stdout",
     "output_type": "stream",
     "text": [
      "Minimum Validation Loss: 0.1943\n"
     ]
    },
    {
     "data": {
      "image/png": "[encoded data removed]",
      "text/plain": [
       "<Figure size 640x480 with 1 Axes>"
      ]
     },
     "metadata": {},
     "output_type": "display_data"
    }
   ],
   "source": [
    "model = keras.Sequential([\n",
    "    layers.Dense(1, input_shape=input_shape),\n",
    "])\n",
    "model.compile(\n",
    "    optimizer='adam',\n",
    "    loss='mae',\n",
    ")\n",
    "history = model.fit(\n",
    "    X_train, y_train,\n",
    "    validation_data=(X_valid, y_valid),\n",
    "    batch_size=512,\n",
    "    epochs=50,\n",
    "    verbose=0, # suppress output since we'll plot the curves\n",
    ")\n",
    "history_df = pd.DataFrame(history.history)\n",
    "history_df.loc[0:, ['loss', 'val_loss']].plot()\n",
    "print(\"Minimum Validation Loss: {:0.4f}\".format(history_df['val_loss'].min()));"
   ]
  },
  {
   "cell_type": "markdown",
   "id": "e635b37f",
   "metadata": {
    "papermill": {
     "duration": 0.008005,
     "end_time": "2023-08-23T10:01:37.888227",
     "exception": false,
     "start_time": "2023-08-23T10:01:37.880222",
     "status": "completed"
    },
    "tags": []
   },
   "source": [
    "It's not uncommon for the curves to follow a \"hockey stick\" pattern like you see here. This makes the final part of training hard to see, so let's start at epoch 10 instead:"
   ]
  },
  {
   "cell_type": "code",
   "execution_count": 4,
   "id": "1ffbd5ec",
   "metadata": {
    "execution": {
     "iopub.execute_input": "2023-08-23T10:01:37.908249Z",
     "iopub.status.busy": "2023-08-23T10:01:37.907765Z",
     "iopub.status.idle": "2023-08-23T10:01:38.479905Z",
     "shell.execute_reply": "2023-08-23T10:01:38.478553Z"
    },
    "papermill": {
     "duration": 0.58495,
     "end_time": "2023-08-23T10:01:38.482749",
     "exception": false,
     "start_time": "2023-08-23T10:01:37.897799",
     "status": "completed"
    },
    "tags": []
   },
   "outputs": [
    {
     "name": "stdout",
     "output_type": "stream",
     "text": [
      "Minimum Validation Loss: 0.1943\n"
     ]
    },
    {
     "data": {
      "image/png": "[encoded data removed]",
      "text/plain": [
       "<Figure size 640x480 with 1 Axes>"
      ]
     },
     "metadata": {},
     "output_type": "display_data"
    }
   ],
   "source": [
    "# Start the plot at epoch 10\n",
    "history_df.loc[10:, ['loss', 'val_loss']].plot()\n",
    "print(\"Minimum Validation Loss: {:0.4f}\".format(history_df['val_loss'].min()));"
   ]
  },
  {
   "cell_type": "markdown",
   "id": "16bfa331",
   "metadata": {
    "papermill": {
     "duration": 0.008781,
     "end_time": "2023-08-23T10:01:38.500594",
     "exception": false,
     "start_time": "2023-08-23T10:01:38.491813",
     "status": "completed"
    },
    "tags": []
   },
   "source": [
    "# 1) Evaluate Baseline\n",
    "\n",
    "What do you think? Would you say this model is underfitting, overfitting, just right?"
   ]
  },
  {
   "cell_type": "code",
   "execution_count": 5,
   "id": "423c563f",
   "metadata": {
    "execution": {
     "iopub.execute_input": "2023-08-23T10:01:38.520463Z",
     "iopub.status.busy": "2023-08-23T10:01:38.520010Z",
     "iopub.status.idle": "2023-08-23T10:01:38.529898Z",
     "shell.execute_reply": "2023-08-23T10:01:38.528692Z"
    },
    "papermill": {
     "duration": 0.022708,
     "end_time": "2023-08-23T10:01:38.532389",
     "exception": false,
     "start_time": "2023-08-23T10:01:38.509681",
     "status": "completed"
    },
    "tags": []
   },
   "outputs": [
    {
     "data": {
      "application/javascript": [
       "parent.postMessage({\"jupyterEvent\": \"custom.exercise_interaction\", \"data\": {\"outcomeType\": 1, \"valueTowardsCompletion\": 0.25, \"interactionType\": 1, \"questionType\": 4, \"questionId\": \"1_Q1\", \"learnToolsVersion\": \"0.3.4\", \"failureMessage\": \"\", \"exceptionClass\": \"\", \"trace\": \"\"}}, \"*\")"
      ],
      "text/plain": [
       "<IPython.core.display.Javascript object>"
      ]
     },
     "metadata": {},
     "output_type": "display_data"
    },
    {
     "data": {
      "text/markdown": [
       "<span style=\"color:#33cc33\">Correct:</span> \n",
       "\n",
       "The gap between these curves is quite small and the validation loss never increases, so it's more likely that the network is underfitting than overfitting. It would be worth experimenting with more capacity to see if that's the case."
      ],
      "text/plain": [
       "Correct: \n",
       "\n",
       "The gap between these curves is quite small and the validation loss never increases, so it's more likely that the network is underfitting than overfitting. It would be worth experimenting with more capacity to see if that's the case."
      ]
     },
     "metadata": {},
     "output_type": "display_data"
    }
   ],
   "source": [
    "# View the solution (Run this cell to receive credit!)\n",
    "q_1.check()"
   ]
  },
  {
   "cell_type": "markdown",
   "id": "296faa66",
   "metadata": {
    "papermill": {
     "duration": 0.008941,
     "end_time": "2023-08-23T10:01:38.550646",
     "exception": false,
     "start_time": "2023-08-23T10:01:38.541705",
     "status": "completed"
    },
    "tags": []
   },
   "source": [
    "Now let's add some capacity to our network. We'll add three hidden layers with 128 units each. Run the next cell to train the network and see the learning curves."
   ]
  },
  {
   "cell_type": "code",
   "execution_count": 6,
   "id": "688a5b0a",
   "metadata": {
    "execution": {
     "iopub.execute_input": "2023-08-23T10:01:38.571139Z",
     "iopub.status.busy": "2023-08-23T10:01:38.570704Z",
     "iopub.status.idle": "2023-08-23T10:01:51.150513Z",
     "shell.execute_reply": "2023-08-23T10:01:51.149243Z"
    },
    "papermill": {
     "duration": 12.593388,
     "end_time": "2023-08-23T10:01:51.153234",
     "exception": false,
     "start_time": "2023-08-23T10:01:38.559846",
     "status": "completed"
    },
    "tags": []
   },
   "outputs": [
    {
     "name": "stdout",
     "output_type": "stream",
     "text": [
      "Epoch 1/50\n",
      "48/48 [==============================] - 1s 7ms/step - loss: 0.2423 - val_loss: 0.2056\n",
      "Epoch 2/50\n",
      "48/48 [==============================] - 0s 5ms/step - loss: 0.2017 - val_loss: 0.2005\n",
      "Epoch 3/50\n",
      "48/48 [==============================] - 0s 4ms/step - loss: 0.1970 - val_loss: 0.2000\n",
      "Epoch 4/50\n",
      "48/48 [==============================] - 0s 4ms/step - loss: 0.1934 - val_loss: 0.1976\n",
      "Epoch 5/50\n",
      "48/48 [==============================] - 0s 4ms/step - loss: 0.1919 - val_loss: 0.1955\n",
      "Epoch 6/50\n",
      "48/48 [==============================] - 0s 4ms/step - loss: 0.1903 - val_loss: 0.1969\n",
      "Epoch 7/50\n",
      "48/48 [==============================] - 0s 4ms/step - loss: 0.1887 - val_loss: 0.1950\n",
      "Epoch 8/50\n",
      "48/48 [==============================] - 0s 4ms/step - loss: 0.1875 - val_loss: 0.1954\n",
      "Epoch 9/50\n",
      "48/48 [==============================] - 0s 5ms/step - loss: 0.1867 - val_loss: 0.1940\n",
      "Epoch 10/50\n",
      "48/48 [==============================] - 0s 4ms/step - loss: 0.1857 - val_loss: 0.1960\n",
      "Epoch 11/50\n",
      "48/48 [==============================] - 0s 5ms/step - loss: 0.1848 - val_loss: 0.1954\n",
      "Epoch 12/50\n",
      "48/48 [==============================] - 0s 5ms/step - loss: 0.1840 - val_loss: 0.1954\n",
      "Epoch 13/50\n",
      "48/48 [==============================] - 0s 4ms/step - loss: 0.1836 - val_loss: 0.1957\n",
      "Epoch 14/50\n",
      "48/48 [==============================] - 0s 4ms/step - loss: 0.1828 - val_loss: 0.1951\n",
      "Epoch 15/50\n",
      "48/48 [==============================] - 0s 4ms/step - loss: 0.1821 - val_loss: 0.1954\n",
      "Epoch 16/50\n",
      "48/48 [==============================] - 0s 4ms/step - loss: 0.1821 - val_loss: 0.1961\n",
      "Epoch 17/50\n",
      "48/48 [==============================] - 0s 4ms/step - loss: 0.1808 - val_loss: 0.1945\n",
      "Epoch 18/50\n",
      "48/48 [==============================] - 0s 4ms/step - loss: 0.1801 - val_loss: 0.1942\n",
      "Epoch 19/50\n",
      "48/48 [==============================] - 0s 4ms/step - loss: 0.1799 - val_loss: 0.1971\n",
      "Epoch 20/50\n",
      "48/48 [==============================] - 0s 4ms/step - loss: 0.1787 - val_loss: 0.1956\n",
      "Epoch 21/50\n",
      "48/48 [==============================] - 0s 4ms/step - loss: 0.1784 - val_loss: 0.1968\n",
      "Epoch 22/50\n",
      "48/48 [==============================] - 0s 5ms/step - loss: 0.1780 - val_loss: 0.1963\n",
      "Epoch 23/50\n",
      "48/48 [==============================] - 0s 4ms/step - loss: 0.1772 - val_loss: 0.1978\n",
      "Epoch 24/50\n",
      "48/48 [==============================] - 0s 4ms/step - loss: 0.1773 - val_loss: 0.1965\n",
      "Epoch 25/50\n",
      "48/48 [==============================] - 0s 5ms/step - loss: 0.1760 - val_loss: 0.1958\n",
      "Epoch 26/50\n",
      "48/48 [==============================] - 0s 5ms/step - loss: 0.1757 - val_loss: 0.1971\n",
      "Epoch 27/50\n",
      "48/48 [==============================] - 0s 5ms/step - loss: 0.1757 - val_loss: 0.1974\n",
      "Epoch 28/50\n",
      "48/48 [==============================] - 0s 4ms/step - loss: 0.1743 - val_loss: 0.1973\n",
      "Epoch 29/50\n",
      "48/48 [==============================] - 0s 4ms/step - loss: 0.1738 - val_loss: 0.1974\n",
      "Epoch 30/50\n",
      "48/48 [==============================] - 0s 5ms/step - loss: 0.1738 - val_loss: 0.1977\n",
      "Epoch 31/50\n",
      "48/48 [==============================] - 0s 5ms/step - loss: 0.1733 - val_loss: 0.1990\n",
      "Epoch 32/50\n",
      "48/48 [==============================] - 0s 4ms/step - loss: 0.1726 - val_loss: 0.1988\n",
      "Epoch 33/50\n",
      "48/48 [==============================] - 0s 4ms/step - loss: 0.1723 - val_loss: 0.1990\n",
      "Epoch 34/50\n",
      "48/48 [==============================] - 0s 5ms/step - loss: 0.1720 - val_loss: 0.1980\n",
      "Epoch 35/50\n",
      "48/48 [==============================] - 0s 5ms/step - loss: 0.1726 - val_loss: 0.2030\n",
      "Epoch 36/50\n",
      "48/48 [==============================] - 0s 4ms/step - loss: 0.1717 - val_loss: 0.1988\n",
      "Epoch 37/50\n",
      "48/48 [==============================] - 0s 4ms/step - loss: 0.1707 - val_loss: 0.1990\n",
      "Epoch 38/50\n",
      "48/48 [==============================] - 0s 5ms/step - loss: 0.1700 - val_loss: 0.2011\n",
      "Epoch 39/50\n",
      "48/48 [==============================] - 0s 5ms/step - loss: 0.1697 - val_loss: 0.2009\n",
      "Epoch 40/50\n",
      "48/48 [==============================] - 0s 5ms/step - loss: 0.1698 - val_loss: 0.2009\n",
      "Epoch 41/50\n",
      "48/48 [==============================] - 0s 4ms/step - loss: 0.1695 - val_loss: 0.2005\n",
      "Epoch 42/50\n",
      "48/48 [==============================] - 0s 4ms/step - loss: 0.1695 - val_loss: 0.2005\n",
      "Epoch 43/50\n",
      "48/48 [==============================] - 0s 5ms/step - loss: 0.1677 - val_loss: 0.2013\n",
      "Epoch 44/50\n",
      "48/48 [==============================] - 0s 4ms/step - loss: 0.1673 - val_loss: 0.2007\n",
      "Epoch 45/50\n",
      "48/48 [==============================] - 0s 4ms/step - loss: 0.1676 - val_loss: 0.2014\n",
      "Epoch 46/50\n",
      "48/48 [==============================] - 0s 4ms/step - loss: 0.1674 - val_loss: 0.2011\n",
      "Epoch 47/50\n",
      "48/48 [==============================] - 0s 5ms/step - loss: 0.1675 - val_loss: 0.2024\n",
      "Epoch 48/50\n",
      "48/48 [==============================] - 0s 4ms/step - loss: 0.1684 - val_loss: 0.2016\n",
      "Epoch 49/50\n",
      "48/48 [==============================] - 0s 5ms/step - loss: 0.1658 - val_loss: 0.2022\n",
      "Epoch 50/50\n",
      "48/48 [==============================] - 0s 5ms/step - loss: 0.1652 - val_loss: 0.2026\n",
      "Minimum Validation Loss: 0.1940\n"
     ]
    },
    {
     "data": {
      "image/png": "[encoded data removed]",
      "text/plain": [
       "<Figure size 640x480 with 1 Axes>"
      ]
     },
     "metadata": {},
     "output_type": "display_data"
    }
   ],
   "source": [
    "model = keras.Sequential([\n",
    "    layers.Dense(128, activation='relu', input_shape=input_shape),\n",
    "    layers.Dense(64, activation='relu'),\n",
    "    layers.Dense(1)\n",
    "])\n",
    "model.compile(\n",
    "    optimizer='adam',\n",
    "    loss='mae',\n",
    ")\n",
    "history = model.fit(\n",
    "    X_train, y_train,\n",
    "    validation_data=(X_valid, y_valid),\n",
    "    batch_size=512,\n",
    "    epochs=50,\n",
    ")\n",
    "history_df = pd.DataFrame(history.history)\n",
    "history_df.loc[:, ['loss', 'val_loss']].plot()\n",
    "print(\"Minimum Validation Loss: {:0.4f}\".format(history_df['val_loss'].min()));"
   ]
  },
  {
   "cell_type": "markdown",
   "id": "16285302",
   "metadata": {
    "papermill": {
     "duration": 0.036125,
     "end_time": "2023-08-23T10:01:51.224408",
     "exception": false,
     "start_time": "2023-08-23T10:01:51.188283",
     "status": "completed"
    },
    "tags": []
   },
   "source": [
    "# 2) Add Capacity\n",
    "\n",
    "What is your evaluation of these curves? Underfitting, overfitting, just right?"
   ]
  },
  {
   "cell_type": "code",
   "execution_count": 7,
   "id": "1b7502e2",
   "metadata": {
    "execution": {
     "iopub.execute_input": "2023-08-23T10:01:51.296653Z",
     "iopub.status.busy": "2023-08-23T10:01:51.296233Z",
     "iopub.status.idle": "2023-08-23T10:01:51.306556Z",
     "shell.execute_reply": "2023-08-23T10:01:51.305409Z"
    },
    "papermill": {
     "duration": 0.049566,
     "end_time": "2023-08-23T10:01:51.309491",
     "exception": false,
     "start_time": "2023-08-23T10:01:51.259925",
     "status": "completed"
    },
    "tags": []
   },
   "outputs": [
    {
     "data": {
      "application/javascript": [
       "parent.postMessage({\"jupyterEvent\": \"custom.exercise_interaction\", \"data\": {\"outcomeType\": 1, \"valueTowardsCompletion\": 0.25, \"interactionType\": 1, \"questionType\": 4, \"questionId\": \"2_Q2\", \"learnToolsVersion\": \"0.3.4\", \"failureMessage\": \"\", \"exceptionClass\": \"\", \"trace\": \"\"}}, \"*\")"
      ],
      "text/plain": [
       "<IPython.core.display.Javascript object>"
      ]
     },
     "metadata": {},
     "output_type": "display_data"
    },
    {
     "data": {
      "text/markdown": [
       "<span style=\"color:#33cc33\">Correct:</span> \n",
       "\n",
       "Now the validation loss begins to rise very early, while the training loss continues to decrease. This indicates that the network has begun to overfit. At this point, we would need to try something to prevent it, either by reducing the number of units or through a method like early stopping. (We'll see another in the next lesson!)"
      ],
      "text/plain": [
       "Correct: \n",
       "\n",
       "Now the validation loss begins to rise very early, while the training loss continues to decrease. This indicates that the network has begun to overfit. At this point, we would need to try something to prevent it, either by reducing the number of units or through a method like early stopping. (We'll see another in the next lesson!)"
      ]
     },
     "metadata": {},
     "output_type": "display_data"
    }
   ],
   "source": [
    "# View the solution (Run this cell to receive credit!)\n",
    "q_2.check()"
   ]
  },
  {
   "cell_type": "markdown",
   "id": "75ce0ef7",
   "metadata": {
    "papermill": {
     "duration": 0.033693,
     "end_time": "2023-08-23T10:01:51.377618",
     "exception": false,
     "start_time": "2023-08-23T10:01:51.343925",
     "status": "completed"
    },
    "tags": []
   },
   "source": [
    "# 3) Define Early Stopping Callback\n",
    "\n",
    "Now define an early stopping callback that waits 5 epochs (`patience'`) for a change in validation loss of at least `0.001` (`min_delta`) and keeps the weights with the best loss (`restore_best_weights`)."
   ]
  },
  {
   "cell_type": "code",
   "execution_count": 8,
   "id": "3c8b944f",
   "metadata": {
    "execution": {
     "iopub.execute_input": "2023-08-23T10:01:51.449983Z",
     "iopub.status.busy": "2023-08-23T10:01:51.448835Z",
     "iopub.status.idle": "2023-08-23T10:01:51.459839Z",
     "shell.execute_reply": "2023-08-23T10:01:51.458560Z"
    },
    "lines_to_next_cell": 0,
    "papermill": {
     "duration": 0.050686,
     "end_time": "2023-08-23T10:01:51.462881",
     "exception": false,
     "start_time": "2023-08-23T10:01:51.412195",
     "status": "completed"
    },
    "tags": []
   },
   "outputs": [
    {
     "data": {
      "application/javascript": [
       "parent.postMessage({\"jupyterEvent\": \"custom.exercise_interaction\", \"data\": {\"outcomeType\": 1, \"valueTowardsCompletion\": 0.25, \"interactionType\": 1, \"questionType\": 2, \"questionId\": \"3_Q3\", \"learnToolsVersion\": \"0.3.4\", \"failureMessage\": \"\", \"exceptionClass\": \"\", \"trace\": \"\"}}, \"*\")"
      ],
      "text/plain": [
       "<IPython.core.display.Javascript object>"
      ]
     },
     "metadata": {},
     "output_type": "display_data"
    },
    {
     "data": {
      "text/markdown": [
       "<span style=\"color:#33cc33\">Correct</span>"
      ],
      "text/plain": [
       "Correct"
      ]
     },
     "metadata": {},
     "output_type": "display_data"
    }
   ],
   "source": [
    "from tensorflow.keras import callbacks\n",
    "from tensorflow.keras.callbacks import EarlyStopping\n",
    "\n",
    "# YOUR CODE HERE: define an early stopping callback\n",
    "early_stopping = EarlyStopping(\n",
    "    min_delta=0.001, # minimium amount of change to count as an improvement\n",
    "    patience=5, # how many epochs to wait before stopping\n",
    "    restore_best_weights=True,\n",
    ")\n",
    "\n",
    "# Check your answer\n",
    "q_3.check()"
   ]
  },
  {
   "cell_type": "code",
   "execution_count": 9,
   "id": "fedf980b",
   "metadata": {
    "execution": {
     "iopub.execute_input": "2023-08-23T10:01:51.535074Z",
     "iopub.status.busy": "2023-08-23T10:01:51.534644Z",
     "iopub.status.idle": "2023-08-23T10:01:51.539328Z",
     "shell.execute_reply": "2023-08-23T10:01:51.538103Z"
    },
    "papermill": {
     "duration": 0.043915,
     "end_time": "2023-08-23T10:01:51.541710",
     "exception": false,
     "start_time": "2023-08-23T10:01:51.497795",
     "status": "completed"
    },
    "tags": []
   },
   "outputs": [],
   "source": [
    "# Lines below will give you a hint or solution code\n",
    "#q_3.hint()\n",
    "#q_3.solution()"
   ]
  },
  {
   "cell_type": "markdown",
   "id": "e8243ee7",
   "metadata": {
    "papermill": {
     "duration": 0.035744,
     "end_time": "2023-08-23T10:01:51.612306",
     "exception": false,
     "start_time": "2023-08-23T10:01:51.576562",
     "status": "completed"
    },
    "tags": []
   },
   "source": [
    "Now run this cell to train the model and get the learning curves. Notice the `callbacks` argument in `model.fit`."
   ]
  },
  {
   "cell_type": "code",
   "execution_count": 10,
   "id": "67899572",
   "metadata": {
    "execution": {
     "iopub.execute_input": "2023-08-23T10:01:51.685494Z",
     "iopub.status.busy": "2023-08-23T10:01:51.684657Z",
     "iopub.status.idle": "2023-08-23T10:01:56.120959Z",
     "shell.execute_reply": "2023-08-23T10:01:56.119825Z"
    },
    "papermill": {
     "duration": 4.476412,
     "end_time": "2023-08-23T10:01:56.123530",
     "exception": false,
     "start_time": "2023-08-23T10:01:51.647118",
     "status": "completed"
    },
    "tags": []
   },
   "outputs": [
    {
     "name": "stdout",
     "output_type": "stream",
     "text": [
      "Epoch 1/50\n",
      "48/48 [==============================] - 1s 8ms/step - loss: 0.3028 - val_loss: 0.2092\n",
      "Epoch 2/50\n",
      "48/48 [==============================] - 0s 5ms/step - loss: 0.2056 - val_loss: 0.2018\n",
      "Epoch 3/50\n",
      "48/48 [==============================] - 0s 5ms/step - loss: 0.1989 - val_loss: 0.1989\n",
      "Epoch 4/50\n",
      "48/48 [==============================] - 0s 5ms/step - loss: 0.1957 - val_loss: 0.1979\n",
      "Epoch 5/50\n",
      "48/48 [==============================] - 0s 4ms/step - loss: 0.1932 - val_loss: 0.1967\n",
      "Epoch 6/50\n",
      "48/48 [==============================] - 0s 5ms/step - loss: 0.1916 - val_loss: 0.1963\n",
      "Epoch 7/50\n",
      "48/48 [==============================] - 0s 4ms/step - loss: 0.1900 - val_loss: 0.1966\n",
      "Epoch 8/50\n",
      "48/48 [==============================] - 0s 5ms/step - loss: 0.1893 - val_loss: 0.1945\n",
      "Epoch 9/50\n",
      "48/48 [==============================] - 0s 4ms/step - loss: 0.1878 - val_loss: 0.1951\n",
      "Epoch 10/50\n",
      "48/48 [==============================] - 0s 5ms/step - loss: 0.1869 - val_loss: 0.1957\n",
      "Epoch 11/50\n",
      "48/48 [==============================] - 0s 4ms/step - loss: 0.1861 - val_loss: 0.1949\n",
      "Epoch 12/50\n",
      "48/48 [==============================] - 0s 4ms/step - loss: 0.1856 - val_loss: 0.1945\n",
      "Epoch 13/50\n",
      "48/48 [==============================] - 0s 4ms/step - loss: 0.1844 - val_loss: 0.1949\n",
      "Minimum Validation Loss: 0.1945\n"
     ]
    },
    {
     "data": {
      "image/png": "[encoded data removed]",
      "text/plain": [
       "<Figure size 640x480 with 1 Axes>"
      ]
     },
     "metadata": {},
     "output_type": "display_data"
    }
   ],
   "source": [
    "model = keras.Sequential([\n",
    "    layers.Dense(128, activation='relu', input_shape=input_shape),\n",
    "    layers.Dense(64, activation='relu'),    \n",
    "    layers.Dense(1)\n",
    "])\n",
    "model.compile(\n",
    "    optimizer='adam',\n",
    "    loss='mae',\n",
    ")\n",
    "history = model.fit(\n",
    "    X_train, y_train,\n",
    "    validation_data=(X_valid, y_valid),\n",
    "    batch_size=512,\n",
    "    epochs=50,\n",
    "    callbacks=[early_stopping]\n",
    ")\n",
    "history_df = pd.DataFrame(history.history)\n",
    "history_df.loc[:, ['loss', 'val_loss']].plot()\n",
    "print(\"Minimum Validation Loss: {:0.4f}\".format(history_df['val_loss'].min()));"
   ]
  },
  {
   "cell_type": "markdown",
   "id": "9137584b",
   "metadata": {
    "papermill": {
     "duration": 0.041455,
     "end_time": "2023-08-23T10:01:56.207625",
     "exception": false,
     "start_time": "2023-08-23T10:01:56.166170",
     "status": "completed"
    },
    "tags": []
   },
   "source": [
    "# 4) Train and Interpret\n",
    "\n",
    "Was this an improvement compared to training without early stopping?"
   ]
  },
  {
   "cell_type": "code",
   "execution_count": 11,
   "id": "2fbf7c57",
   "metadata": {
    "execution": {
     "iopub.execute_input": "2023-08-23T10:01:56.296481Z",
     "iopub.status.busy": "2023-08-23T10:01:56.295596Z",
     "iopub.status.idle": "2023-08-23T10:01:56.305744Z",
     "shell.execute_reply": "2023-08-23T10:01:56.304539Z"
    },
    "papermill": {
     "duration": 0.056723,
     "end_time": "2023-08-23T10:01:56.308474",
     "exception": false,
     "start_time": "2023-08-23T10:01:56.251751",
     "status": "completed"
    },
    "tags": []
   },
   "outputs": [
    {
     "data": {
      "application/javascript": [
       "parent.postMessage({\"jupyterEvent\": \"custom.exercise_interaction\", \"data\": {\"outcomeType\": 1, \"valueTowardsCompletion\": 0.25, \"interactionType\": 1, \"questionType\": 4, \"questionId\": \"4_Q4\", \"learnToolsVersion\": \"0.3.4\", \"failureMessage\": \"\", \"exceptionClass\": \"\", \"trace\": \"\"}}, \"*\")"
      ],
      "text/plain": [
       "<IPython.core.display.Javascript object>"
      ]
     },
     "metadata": {},
     "output_type": "display_data"
    },
    {
     "data": {
      "text/markdown": [
       "<span style=\"color:#33cc33\">Correct:</span> \n",
       "\n",
       "The early stopping callback did stop the training once the network began overfitting. Moreover, by including `restore_best_weights` we still get to keep the model where validation loss was lowest."
      ],
      "text/plain": [
       "Correct: \n",
       "\n",
       "The early stopping callback did stop the training once the network began overfitting. Moreover, by including `restore_best_weights` we still get to keep the model where validation loss was lowest."
      ]
     },
     "metadata": {},
     "output_type": "display_data"
    }
   ],
   "source": [
    "# View the solution (Run this cell to receive credit!)\n",
    "q_4.check()"
   ]
  },
  {
   "cell_type": "markdown",
   "id": "e92946d1",
   "metadata": {
    "papermill": {
     "duration": 0.041563,
     "end_time": "2023-08-23T10:01:56.392117",
     "exception": false,
     "start_time": "2023-08-23T10:01:56.350554",
     "status": "completed"
    },
    "tags": []
   },
   "source": [
    "If you like, try experimenting with `patience` and `min_delta` to see what difference it might make.\n",
    "\n",
    "# Keep Going #\n",
    "\n",
    "Move on to [**learn about a couple of special layers**](https://www.kaggle.com/ryanholbrook/dropout-and-batch-normalization): batch normalization and dropout."
   ]
  },
  {
   "cell_type": "markdown",
   "id": "cd08c43a",
   "metadata": {
    "papermill": {
     "duration": 0.042238,
     "end_time": "2023-08-23T10:01:56.476141",
     "exception": false,
     "start_time": "2023-08-23T10:01:56.433903",
     "status": "completed"
    },
    "tags": []
   },
   "source": [
    "---\n",
    "\n",
    "\n",
    "\n",
    "\n",
    "*Have questions or comments? Visit the [course discussion forum](https://www.kaggle.com/learn/intro-to-deep-learning/discussion) to chat with other learners.*"
   ]
  }
 ],
 "metadata": {
  "kernelspec": {
   "display_name": "Python 3",
   "language": "python",
   "name": "python3"
  },
  "language_info": {
   "codemirror_mode": {
    "name": "ipython",
    "version": 3
   },
   "file_extension": ".py",
   "mimetype": "text/x-python",
   "name": "python",
   "nbconvert_exporter": "python",
   "pygments_lexer": "ipython3",
   "version": "3.10.12"
  },
  "papermill": {
   "default_parameters": {},
   "duration": 56.782104,
   "end_time": "2023-08-23T10:01:59.441583",
   "environment_variables": {},
   "exception": null,
   "input_path": "__notebook__.ipynb",
   "output_path": "__notebook__.ipynb",
   "parameters": {},
   "start_time": "2023-08-23T10:01:02.659479",
   "version": "2.4.0"
  }
 },
 "nbformat": 4,
 "nbformat_minor": 5
}
