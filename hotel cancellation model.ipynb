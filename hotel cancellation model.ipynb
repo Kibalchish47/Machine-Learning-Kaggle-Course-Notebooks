{
 "cells": [
  {
   "cell_type": "markdown",
   "id": "62528cb7",
   "metadata": {
    "papermill": {
     "duration": 0.006046,
     "end_time": "2023-08-23T10:05:01.627258",
     "exception": false,
     "start_time": "2023-08-23T10:05:01.621212",
     "status": "completed"
    },
    "tags": []
   },
   "source": [
    "**This notebook is an exercise in the [Intro to Deep Learning](https://www.kaggle.com/learn/intro-to-deep-learning) course.  You can reference the tutorial at [this link](https://www.kaggle.com/ryanholbrook/binary-classification).**\n",
    "\n",
    "---\n"
   ]
  },
  {
   "cell_type": "markdown",
   "id": "9ccc0f98",
   "metadata": {
    "papermill": {
     "duration": 0.004932,
     "end_time": "2023-08-23T10:05:01.637693",
     "exception": false,
     "start_time": "2023-08-23T10:05:01.632761",
     "status": "completed"
    },
    "tags": []
   },
   "source": [
    "# Introduction #\n",
    "\n",
    "In this exercise, you'll build a model to predict hotel cancellations with a binary classifier."
   ]
  },
  {
   "cell_type": "code",
   "execution_count": 1,
   "id": "f18af641",
   "metadata": {
    "execution": {
     "iopub.execute_input": "2023-08-23T10:05:01.651267Z",
     "iopub.status.busy": "2023-08-23T10:05:01.650066Z",
     "iopub.status.idle": "2023-08-23T10:05:01.708338Z",
     "shell.execute_reply": "2023-08-23T10:05:01.707051Z"
    },
    "lines_to_next_cell": 0,
    "papermill": {
     "duration": 0.068924,
     "end_time": "2023-08-23T10:05:01.711836",
     "exception": false,
     "start_time": "2023-08-23T10:05:01.642912",
     "status": "completed"
    },
    "tags": []
   },
   "outputs": [
    {
     "name": "stderr",
     "output_type": "stream",
     "text": [
      "/tmp/ipykernel_20/3338970720.py:3: MatplotlibDeprecationWarning: The seaborn styles shipped by Matplotlib are deprecated since 3.6, as they no longer correspond to the styles shipped by seaborn. However, they will remain available as 'seaborn-v0_8-<style>'. Alternatively, directly use the seaborn API instead.\n",
      "  plt.style.use('seaborn-whitegrid')\n"
     ]
    }
   ],
   "source": [
    "# Setup plotting\n",
    "import matplotlib.pyplot as plt\n",
    "plt.style.use('seaborn-whitegrid')\n",
    "# Set Matplotlib defaults\n",
    "plt.rc('figure', autolayout=True)\n",
    "plt.rc('axes', labelweight='bold', labelsize='large',\n",
    "       titleweight='bold', titlesize=18, titlepad=10)\n",
    "plt.rc('animation', html='html5')\n",
    "\n",
    "# Setup feedback system\n",
    "from learntools.core import binder\n",
    "binder.bind(globals())\n",
    "from learntools.deep_learning_intro.ex6 import *"
   ]
  },
  {
   "cell_type": "markdown",
   "id": "55633bd9",
   "metadata": {
    "papermill": {
     "duration": 0.005056,
     "end_time": "2023-08-23T10:05:01.722279",
     "exception": false,
     "start_time": "2023-08-23T10:05:01.717223",
     "status": "completed"
    },
    "tags": []
   },
   "source": [
    "First, load the *Hotel Cancellations* dataset."
   ]
  },
  {
   "cell_type": "code",
   "execution_count": 2,
   "id": "26a3d109",
   "metadata": {
    "execution": {
     "iopub.execute_input": "2023-08-23T10:05:01.734848Z",
     "iopub.status.busy": "2023-08-23T10:05:01.734426Z",
     "iopub.status.idle": "2023-08-23T10:05:04.932467Z",
     "shell.execute_reply": "2023-08-23T10:05:04.931278Z"
    },
    "lines_to_next_cell": 2,
    "papermill": {
     "duration": 3.207859,
     "end_time": "2023-08-23T10:05:04.935488",
     "exception": false,
     "start_time": "2023-08-23T10:05:01.727629",
     "status": "completed"
    },
    "tags": []
   },
   "outputs": [
    {
     "name": "stderr",
     "output_type": "stream",
     "text": [
      "/opt/conda/lib/python3.10/site-packages/scipy/__init__.py:146: UserWarning: A NumPy version >=1.16.5 and <1.23.0 is required for this version of SciPy (detected version 1.23.5\n",
      "  warnings.warn(f\"A NumPy version >={np_minversion} and <{np_maxversion}\"\n"
     ]
    }
   ],
   "source": [
    "import pandas as pd\n",
    "\n",
    "from sklearn.model_selection import train_test_split\n",
    "from sklearn.preprocessing import StandardScaler, OneHotEncoder\n",
    "from sklearn.impute import SimpleImputer\n",
    "from sklearn.pipeline import make_pipeline\n",
    "from sklearn.compose import make_column_transformer\n",
    "\n",
    "hotel = pd.read_csv('../input/dl-course-data/hotel.csv')\n",
    "\n",
    "X = hotel.copy()\n",
    "y = X.pop('is_canceled')\n",
    "\n",
    "X['arrival_date_month'] = \\\n",
    "    X['arrival_date_month'].map(\n",
    "        {'January':1, 'February': 2, 'March':3,\n",
    "         'April':4, 'May':5, 'June':6, 'July':7,\n",
    "         'August':8, 'September':9, 'October':10,\n",
    "         'November':11, 'December':12}\n",
    "    )\n",
    "\n",
    "features_num = [\n",
    "    \"lead_time\", \"arrival_date_week_number\",\n",
    "    \"arrival_date_day_of_month\", \"stays_in_weekend_nights\",\n",
    "    \"stays_in_week_nights\", \"adults\", \"children\", \"babies\",\n",
    "    \"is_repeated_guest\", \"previous_cancellations\",\n",
    "    \"previous_bookings_not_canceled\", \"required_car_parking_spaces\",\n",
    "    \"total_of_special_requests\", \"adr\",\n",
    "]\n",
    "features_cat = [\n",
    "    \"hotel\", \"arrival_date_month\", \"meal\",\n",
    "    \"market_segment\", \"distribution_channel\",\n",
    "    \"reserved_room_type\", \"deposit_type\", \"customer_type\",\n",
    "]\n",
    "\n",
    "transformer_num = make_pipeline(\n",
    "    SimpleImputer(strategy=\"constant\"), # there are a few missing values\n",
    "    StandardScaler(),\n",
    ")\n",
    "transformer_cat = make_pipeline(\n",
    "    SimpleImputer(strategy=\"constant\", fill_value=\"NA\"),\n",
    "    OneHotEncoder(handle_unknown='ignore'),\n",
    ")\n",
    "\n",
    "preprocessor = make_column_transformer(\n",
    "    (transformer_num, features_num),\n",
    "    (transformer_cat, features_cat),\n",
    ")\n",
    "\n",
    "# stratify - make sure classes are evenlly represented across splits\n",
    "X_train, X_valid, y_train, y_valid = \\\n",
    "    train_test_split(X, y, stratify=y, train_size=0.75)\n",
    "\n",
    "X_train = preprocessor.fit_transform(X_train)\n",
    "X_valid = preprocessor.transform(X_valid)\n",
    "\n",
    "input_shape = [X_train.shape[1]]"
   ]
  },
  {
   "cell_type": "markdown",
   "id": "ed3db88d",
   "metadata": {
    "papermill": {
     "duration": 0.005169,
     "end_time": "2023-08-23T10:05:04.946173",
     "exception": false,
     "start_time": "2023-08-23T10:05:04.941004",
     "status": "completed"
    },
    "tags": []
   },
   "source": [
    "# 1) Define Model #\n",
    "\n",
    "The model we'll use this time will have both batch normalization and dropout layers. To ease reading we've broken the diagram into blocks, but you can define it layer by layer as usual.\n",
    "\n",
    "Define a model with an architecture given by this diagram:\n",
    "\n",
    "<figure style=\"padding: 1em;\">\n",
    "<img src=\"https://storage.googleapis.com/kaggle-media/learn/images/V04o59Z.png\" width=\"400\" alt=\"Diagram of network architecture: BatchNorm, Dense, BatchNorm, Dropout, Dense, BatchNorm, Dropout, Dense.\">\n",
    "<figcaption style=\"textalign: center; font-style: italic\"><center>Diagram of a binary classifier.</center></figcaption>\n",
    "</figure>\n"
   ]
  },
  {
   "cell_type": "code",
   "execution_count": 3,
   "id": "e6c5a0ad",
   "metadata": {
    "execution": {
     "iopub.execute_input": "2023-08-23T10:05:04.958688Z",
     "iopub.status.busy": "2023-08-23T10:05:04.958282Z",
     "iopub.status.idle": "2023-08-23T10:05:14.659479Z",
     "shell.execute_reply": "2023-08-23T10:05:14.658231Z"
    },
    "lines_to_next_cell": 2,
    "papermill": {
     "duration": 9.710845,
     "end_time": "2023-08-23T10:05:14.662401",
     "exception": false,
     "start_time": "2023-08-23T10:05:04.951556",
     "status": "completed"
    },
    "tags": []
   },
   "outputs": [
    {
     "name": "stderr",
     "output_type": "stream",
     "text": [
      "/opt/conda/lib/python3.10/site-packages/tensorflow_io/python/ops/__init__.py:98: UserWarning: unable to load libtensorflow_io_plugins.so: unable to open file: libtensorflow_io_plugins.so, from paths: ['/opt/conda/lib/python3.10/site-packages/tensorflow_io/python/ops/libtensorflow_io_plugins.so']\n",
      "caused by: ['/opt/conda/lib/python3.10/site-packages/tensorflow_io/python/ops/libtensorflow_io_plugins.so: undefined symbol: _ZN3tsl6StatusC1EN10tensorflow5error4CodeESt17basic_string_viewIcSt11char_traitsIcEENS_14SourceLocationE']\n",
      "  warnings.warn(f\"unable to load libtensorflow_io_plugins.so: {e}\")\n",
      "/opt/conda/lib/python3.10/site-packages/tensorflow_io/python/ops/__init__.py:104: UserWarning: file system plugins are not loaded: unable to open file: libtensorflow_io.so, from paths: ['/opt/conda/lib/python3.10/site-packages/tensorflow_io/python/ops/libtensorflow_io.so']\n",
      "caused by: ['/opt/conda/lib/python3.10/site-packages/tensorflow_io/python/ops/libtensorflow_io.so: undefined symbol: _ZTVN10tensorflow13GcsFileSystemE']\n",
      "  warnings.warn(f\"file system plugins are not loaded: {e}\")\n"
     ]
    },
    {
     "data": {
      "application/javascript": [
       "parent.postMessage({\"jupyterEvent\": \"custom.exercise_interaction\", \"data\": {\"outcomeType\": 1, \"valueTowardsCompletion\": 0.3333333333333333, \"interactionType\": 1, \"questionType\": 2, \"questionId\": \"1_Q1\", \"learnToolsVersion\": \"0.3.4\", \"failureMessage\": \"\", \"exceptionClass\": \"\", \"trace\": \"\"}}, \"*\")"
      ],
      "text/plain": [
       "<IPython.core.display.Javascript object>"
      ]
     },
     "metadata": {},
     "output_type": "display_data"
    },
    {
     "data": {
      "text/markdown": [
       "<span style=\"color:#33cc33\">Correct</span>"
      ],
      "text/plain": [
       "Correct"
      ]
     },
     "metadata": {},
     "output_type": "display_data"
    }
   ],
   "source": [
    "from tensorflow import keras\n",
    "from tensorflow.keras import layers\n",
    "\n",
    "# YOUR CODE HERE: define the model given in the diagram\n",
    "model = keras.Sequential([\n",
    "    layers.BatchNormalization(input_shape=input_shape),\n",
    "    \n",
    "    layers.Dense(256, activation=\"relu\"),\n",
    "    layers.BatchNormalization(),\n",
    "    layers.Dropout(0.3),\n",
    "    \n",
    "    layers.Dense(256, activation=\"relu\"),\n",
    "    layers.BatchNormalization(),\n",
    "    layers.Dropout(0.3),\n",
    "    \n",
    "    layers.Dense(1, activation=\"sigmoid\"),\n",
    "])\n",
    "\n",
    "# Check your answer\n",
    "q_1.check()"
   ]
  },
  {
   "cell_type": "markdown",
   "id": "6ad9f57f",
   "metadata": {
    "papermill": {
     "duration": 0.005689,
     "end_time": "2023-08-23T10:05:14.674313",
     "exception": false,
     "start_time": "2023-08-23T10:05:14.668624",
     "status": "completed"
    },
    "tags": []
   },
   "source": [
    "# 2) Add Optimizer, Loss, and Metric #\n",
    "\n",
    "Now compile the model with the Adam optimizer and binary versions of the cross-entropy loss and accuracy metric."
   ]
  },
  {
   "cell_type": "code",
   "execution_count": 4,
   "id": "759d3693",
   "metadata": {
    "execution": {
     "iopub.execute_input": "2023-08-23T10:05:14.688401Z",
     "iopub.status.busy": "2023-08-23T10:05:14.687871Z",
     "iopub.status.idle": "2023-08-23T10:05:14.716259Z",
     "shell.execute_reply": "2023-08-23T10:05:14.714955Z"
    },
    "lines_to_next_cell": 0,
    "papermill": {
     "duration": 0.038802,
     "end_time": "2023-08-23T10:05:14.719181",
     "exception": false,
     "start_time": "2023-08-23T10:05:14.680379",
     "status": "completed"
    },
    "tags": []
   },
   "outputs": [
    {
     "data": {
      "application/javascript": [
       "parent.postMessage({\"jupyterEvent\": \"custom.exercise_interaction\", \"data\": {\"outcomeType\": 1, \"valueTowardsCompletion\": 0.3333333333333333, \"interactionType\": 1, \"questionType\": 2, \"questionId\": \"2_Q2\", \"learnToolsVersion\": \"0.3.4\", \"failureMessage\": \"\", \"exceptionClass\": \"\", \"trace\": \"\"}}, \"*\")"
      ],
      "text/plain": [
       "<IPython.core.display.Javascript object>"
      ]
     },
     "metadata": {},
     "output_type": "display_data"
    },
    {
     "data": {
      "text/markdown": [
       "<span style=\"color:#33cc33\">Correct</span>"
      ],
      "text/plain": [
       "Correct"
      ]
     },
     "metadata": {},
     "output_type": "display_data"
    }
   ],
   "source": [
    "# YOUR CODE HERE\n",
    "model.compile(\n",
    "    optimizer='adam',\n",
    "    loss='binary_crossentropy',\n",
    "    metrics=['binary_accuracy'],\n",
    ")\n",
    "\n",
    "# Check your answer\n",
    "q_2.check()"
   ]
  },
  {
   "cell_type": "code",
   "execution_count": 5,
   "id": "19c4b77e",
   "metadata": {
    "execution": {
     "iopub.execute_input": "2023-08-23T10:05:14.734040Z",
     "iopub.status.busy": "2023-08-23T10:05:14.733649Z",
     "iopub.status.idle": "2023-08-23T10:05:14.739415Z",
     "shell.execute_reply": "2023-08-23T10:05:14.737404Z"
    },
    "lines_to_next_cell": 0,
    "papermill": {
     "duration": 0.016554,
     "end_time": "2023-08-23T10:05:14.742275",
     "exception": false,
     "start_time": "2023-08-23T10:05:14.725721",
     "status": "completed"
    },
    "tags": []
   },
   "outputs": [],
   "source": [
    "# Lines below will give you a hint or solution code\n",
    "#q_2.hint()\n",
    "#q_2.solution()"
   ]
  },
  {
   "cell_type": "markdown",
   "id": "50cc6e72",
   "metadata": {
    "papermill": {
     "duration": 0.007493,
     "end_time": "2023-08-23T10:05:14.756462",
     "exception": false,
     "start_time": "2023-08-23T10:05:14.748969",
     "status": "completed"
    },
    "tags": []
   },
   "source": [
    "Finally, run this cell to train the model and view the learning curves. It may run for around 60 to 70 epochs, which could take a minute or two."
   ]
  },
  {
   "cell_type": "code",
   "execution_count": 6,
   "id": "b0400d34",
   "metadata": {
    "execution": {
     "iopub.execute_input": "2023-08-23T10:05:14.772848Z",
     "iopub.status.busy": "2023-08-23T10:05:14.772255Z",
     "iopub.status.idle": "2023-08-23T10:07:17.911514Z",
     "shell.execute_reply": "2023-08-23T10:07:17.910435Z"
    },
    "papermill": {
     "duration": 123.150977,
     "end_time": "2023-08-23T10:07:17.914067",
     "exception": false,
     "start_time": "2023-08-23T10:05:14.763090",
     "status": "completed"
    },
    "tags": []
   },
   "outputs": [
    {
     "name": "stdout",
     "output_type": "stream",
     "text": [
      "Epoch 1/200\n",
      "175/175 [==============================] - 5s 17ms/step - loss: 0.4773 - binary_accuracy: 0.7728 - val_loss: 0.4324 - val_binary_accuracy: 0.8065\n",
      "Epoch 2/200\n",
      "175/175 [==============================] - 3s 16ms/step - loss: 0.4200 - binary_accuracy: 0.8029 - val_loss: 0.4011 - val_binary_accuracy: 0.8139\n",
      "Epoch 3/200\n",
      "175/175 [==============================] - 3s 15ms/step - loss: 0.4076 - binary_accuracy: 0.8094 - val_loss: 0.3934 - val_binary_accuracy: 0.8175\n",
      "Epoch 4/200\n",
      "175/175 [==============================] - 3s 16ms/step - loss: 0.4009 - binary_accuracy: 0.8124 - val_loss: 0.3891 - val_binary_accuracy: 0.8177\n",
      "Epoch 5/200\n",
      "175/175 [==============================] - 3s 15ms/step - loss: 0.3948 - binary_accuracy: 0.8177 - val_loss: 0.3858 - val_binary_accuracy: 0.8223\n",
      "Epoch 6/200\n",
      "175/175 [==============================] - 3s 15ms/step - loss: 0.3907 - binary_accuracy: 0.8185 - val_loss: 0.3820 - val_binary_accuracy: 0.8230\n",
      "Epoch 7/200\n",
      "175/175 [==============================] - 3s 15ms/step - loss: 0.3865 - binary_accuracy: 0.8206 - val_loss: 0.3824 - val_binary_accuracy: 0.8257\n",
      "Epoch 8/200\n",
      "175/175 [==============================] - 3s 16ms/step - loss: 0.3834 - binary_accuracy: 0.8230 - val_loss: 0.3790 - val_binary_accuracy: 0.8270\n",
      "Epoch 9/200\n",
      "175/175 [==============================] - 3s 15ms/step - loss: 0.3804 - binary_accuracy: 0.8234 - val_loss: 0.3777 - val_binary_accuracy: 0.8294\n",
      "Epoch 10/200\n",
      "175/175 [==============================] - 3s 15ms/step - loss: 0.3786 - binary_accuracy: 0.8243 - val_loss: 0.3729 - val_binary_accuracy: 0.8290\n",
      "Epoch 11/200\n",
      "175/175 [==============================] - 3s 16ms/step - loss: 0.3758 - binary_accuracy: 0.8263 - val_loss: 0.3738 - val_binary_accuracy: 0.8304\n",
      "Epoch 12/200\n",
      "175/175 [==============================] - 3s 16ms/step - loss: 0.3721 - binary_accuracy: 0.8286 - val_loss: 0.3746 - val_binary_accuracy: 0.8291\n",
      "Epoch 13/200\n",
      "175/175 [==============================] - 3s 15ms/step - loss: 0.3721 - binary_accuracy: 0.8300 - val_loss: 0.3767 - val_binary_accuracy: 0.8273\n",
      "Epoch 14/200\n",
      "175/175 [==============================] - 3s 16ms/step - loss: 0.3685 - binary_accuracy: 0.8299 - val_loss: 0.3684 - val_binary_accuracy: 0.8325\n",
      "Epoch 15/200\n",
      "175/175 [==============================] - 3s 15ms/step - loss: 0.3665 - binary_accuracy: 0.8309 - val_loss: 0.3686 - val_binary_accuracy: 0.8309\n",
      "Epoch 16/200\n",
      "175/175 [==============================] - 3s 16ms/step - loss: 0.3646 - binary_accuracy: 0.8314 - val_loss: 0.3655 - val_binary_accuracy: 0.8347\n",
      "Epoch 17/200\n",
      "175/175 [==============================] - 3s 16ms/step - loss: 0.3630 - binary_accuracy: 0.8324 - val_loss: 0.3693 - val_binary_accuracy: 0.8307\n",
      "Epoch 18/200\n",
      "175/175 [==============================] - 3s 15ms/step - loss: 0.3607 - binary_accuracy: 0.8340 - val_loss: 0.3650 - val_binary_accuracy: 0.8332\n",
      "Epoch 19/200\n",
      "175/175 [==============================] - 3s 16ms/step - loss: 0.3590 - binary_accuracy: 0.8341 - val_loss: 0.3683 - val_binary_accuracy: 0.8329\n",
      "Epoch 20/200\n",
      "175/175 [==============================] - 3s 15ms/step - loss: 0.3579 - binary_accuracy: 0.8346 - val_loss: 0.3615 - val_binary_accuracy: 0.8351\n",
      "Epoch 21/200\n",
      "175/175 [==============================] - 3s 15ms/step - loss: 0.3572 - binary_accuracy: 0.8353 - val_loss: 0.3618 - val_binary_accuracy: 0.8354\n",
      "Epoch 22/200\n",
      "175/175 [==============================] - 3s 15ms/step - loss: 0.3559 - binary_accuracy: 0.8356 - val_loss: 0.3581 - val_binary_accuracy: 0.8374\n",
      "Epoch 23/200\n",
      "175/175 [==============================] - 3s 17ms/step - loss: 0.3539 - binary_accuracy: 0.8371 - val_loss: 0.3584 - val_binary_accuracy: 0.8359\n",
      "Epoch 24/200\n",
      "175/175 [==============================] - 3s 16ms/step - loss: 0.3533 - binary_accuracy: 0.8373 - val_loss: 0.3583 - val_binary_accuracy: 0.8363\n",
      "Epoch 25/200\n",
      "175/175 [==============================] - 3s 15ms/step - loss: 0.3514 - binary_accuracy: 0.8377 - val_loss: 0.3614 - val_binary_accuracy: 0.8354\n",
      "Epoch 26/200\n",
      "175/175 [==============================] - 3s 15ms/step - loss: 0.3526 - binary_accuracy: 0.8376 - val_loss: 0.3560 - val_binary_accuracy: 0.8380\n",
      "Epoch 27/200\n",
      "175/175 [==============================] - 3s 16ms/step - loss: 0.3501 - binary_accuracy: 0.8389 - val_loss: 0.3608 - val_binary_accuracy: 0.8335\n",
      "Epoch 28/200\n",
      "175/175 [==============================] - 3s 15ms/step - loss: 0.3489 - binary_accuracy: 0.8392 - val_loss: 0.3569 - val_binary_accuracy: 0.8381\n",
      "Epoch 29/200\n",
      "175/175 [==============================] - 3s 16ms/step - loss: 0.3481 - binary_accuracy: 0.8397 - val_loss: 0.3571 - val_binary_accuracy: 0.8373\n",
      "Epoch 30/200\n",
      "175/175 [==============================] - 3s 15ms/step - loss: 0.3460 - binary_accuracy: 0.8402 - val_loss: 0.3571 - val_binary_accuracy: 0.8368\n",
      "Epoch 31/200\n",
      "175/175 [==============================] - 3s 16ms/step - loss: 0.3447 - binary_accuracy: 0.8408 - val_loss: 0.3539 - val_binary_accuracy: 0.8376\n",
      "Epoch 32/200\n",
      "175/175 [==============================] - 3s 16ms/step - loss: 0.3452 - binary_accuracy: 0.8412 - val_loss: 0.3560 - val_binary_accuracy: 0.8383\n",
      "Epoch 33/200\n",
      "175/175 [==============================] - 3s 16ms/step - loss: 0.3438 - binary_accuracy: 0.8419 - val_loss: 0.3557 - val_binary_accuracy: 0.8380\n",
      "Epoch 34/200\n",
      "175/175 [==============================] - 3s 16ms/step - loss: 0.3444 - binary_accuracy: 0.8409 - val_loss: 0.3541 - val_binary_accuracy: 0.8385\n",
      "Epoch 35/200\n",
      "175/175 [==============================] - 3s 16ms/step - loss: 0.3420 - binary_accuracy: 0.8414 - val_loss: 0.3518 - val_binary_accuracy: 0.8399\n",
      "Epoch 36/200\n",
      "175/175 [==============================] - 3s 15ms/step - loss: 0.3421 - binary_accuracy: 0.8422 - val_loss: 0.3526 - val_binary_accuracy: 0.8381\n",
      "Epoch 37/200\n",
      "175/175 [==============================] - 3s 15ms/step - loss: 0.3396 - binary_accuracy: 0.8430 - val_loss: 0.3533 - val_binary_accuracy: 0.8386\n",
      "Epoch 38/200\n",
      "175/175 [==============================] - 3s 15ms/step - loss: 0.3401 - binary_accuracy: 0.8428 - val_loss: 0.3538 - val_binary_accuracy: 0.8372\n",
      "Epoch 39/200\n",
      "175/175 [==============================] - 3s 15ms/step - loss: 0.3387 - binary_accuracy: 0.8432 - val_loss: 0.3494 - val_binary_accuracy: 0.8411\n",
      "Epoch 40/200\n",
      "175/175 [==============================] - 3s 16ms/step - loss: 0.3383 - binary_accuracy: 0.8449 - val_loss: 0.3490 - val_binary_accuracy: 0.8411\n",
      "Epoch 41/200\n",
      "175/175 [==============================] - 3s 16ms/step - loss: 0.3380 - binary_accuracy: 0.8447 - val_loss: 0.3537 - val_binary_accuracy: 0.8399\n",
      "Epoch 42/200\n",
      "175/175 [==============================] - 3s 16ms/step - loss: 0.3364 - binary_accuracy: 0.8446 - val_loss: 0.3503 - val_binary_accuracy: 0.8404\n",
      "Epoch 43/200\n",
      "175/175 [==============================] - 3s 16ms/step - loss: 0.3359 - binary_accuracy: 0.8457 - val_loss: 0.3489 - val_binary_accuracy: 0.8420\n",
      "Epoch 44/200\n",
      "175/175 [==============================] - 3s 15ms/step - loss: 0.3351 - binary_accuracy: 0.8459 - val_loss: 0.3492 - val_binary_accuracy: 0.8416\n"
     ]
    },
    {
     "data": {
      "text/plain": [
       "<Axes: title={'center': 'Accuracy'}>"
      ]
     },
     "execution_count": 6,
     "metadata": {},
     "output_type": "execute_result"
    },
    {
     "data": {
      "image/png": "[encoded data removed]",
      "text/plain": [
       "<Figure size 640x480 with 1 Axes>"
      ]
     },
     "metadata": {},
     "output_type": "display_data"
    },
    {
     "data": {
      "image/png": "[encoded data removed]",
      "text/plain": [
       "<Figure size 640x480 with 1 Axes>"
      ]
     },
     "metadata": {},
     "output_type": "display_data"
    }
   ],
   "source": [
    "early_stopping = keras.callbacks.EarlyStopping(\n",
    "    patience=5,\n",
    "    min_delta=0.001,\n",
    "    restore_best_weights=True,\n",
    ")\n",
    "history = model.fit(\n",
    "    X_train, y_train,\n",
    "    validation_data=(X_valid, y_valid),\n",
    "    batch_size=512,\n",
    "    epochs=200,\n",
    "    callbacks=[early_stopping],\n",
    ")\n",
    "\n",
    "history_df = pd.DataFrame(history.history)\n",
    "history_df.loc[:, ['loss', 'val_loss']].plot(title=\"Cross-entropy\")\n",
    "history_df.loc[:, ['binary_accuracy', 'val_binary_accuracy']].plot(title=\"Accuracy\")"
   ]
  },
  {
   "cell_type": "markdown",
   "id": "76a5c550",
   "metadata": {
    "papermill": {
     "duration": 0.192967,
     "end_time": "2023-08-23T10:07:18.300884",
     "exception": false,
     "start_time": "2023-08-23T10:07:18.107917",
     "status": "completed"
    },
    "tags": []
   },
   "source": [
    "# 3) Train and Evaluate #\n",
    "\n",
    "\n",
    "What do you think about the learning curves? Does it look like the model underfit or overfit? Was the cross-entropy loss a good stand-in for accuracy?"
   ]
  },
  {
   "cell_type": "code",
   "execution_count": 7,
   "id": "8d75ab0d",
   "metadata": {
    "execution": {
     "iopub.execute_input": "2023-08-23T10:07:18.685539Z",
     "iopub.status.busy": "2023-08-23T10:07:18.684907Z",
     "iopub.status.idle": "2023-08-23T10:07:18.693040Z",
     "shell.execute_reply": "2023-08-23T10:07:18.691972Z"
    },
    "papermill": {
     "duration": 0.204109,
     "end_time": "2023-08-23T10:07:18.695414",
     "exception": false,
     "start_time": "2023-08-23T10:07:18.491305",
     "status": "completed"
    },
    "tags": []
   },
   "outputs": [
    {
     "data": {
      "application/javascript": [
       "parent.postMessage({\"jupyterEvent\": \"custom.exercise_interaction\", \"data\": {\"outcomeType\": 1, \"valueTowardsCompletion\": 0.3333333333333333, \"interactionType\": 1, \"questionType\": 4, \"questionId\": \"3_Q3\", \"learnToolsVersion\": \"0.3.4\", \"failureMessage\": \"\", \"exceptionClass\": \"\", \"trace\": \"\"}}, \"*\")"
      ],
      "text/plain": [
       "<IPython.core.display.Javascript object>"
      ]
     },
     "metadata": {},
     "output_type": "display_data"
    },
    {
     "data": {
      "text/markdown": [
       "<span style=\"color:#33cc33\">Correct:</span> \n",
       "\n",
       "Though we can see the training loss continuing to fall, the early stopping callback prevented any overfitting. Moreover, the accuracy rose at the same rate as the cross-entropy fell, so it appears that minimizing cross-entropy was a good stand-in. All in all, it looks like this training was a success!"
      ],
      "text/plain": [
       "Correct: \n",
       "\n",
       "Though we can see the training loss continuing to fall, the early stopping callback prevented any overfitting. Moreover, the accuracy rose at the same rate as the cross-entropy fell, so it appears that minimizing cross-entropy was a good stand-in. All in all, it looks like this training was a success!"
      ]
     },
     "metadata": {},
     "output_type": "display_data"
    }
   ],
   "source": [
    "# View the solution (Run this cell to receive credit!)\n",
    "q_3.check()"
   ]
  },
  {
   "cell_type": "markdown",
   "id": "54055669",
   "metadata": {
    "papermill": {
     "duration": 0.204444,
     "end_time": "2023-08-23T10:07:19.090913",
     "exception": false,
     "start_time": "2023-08-23T10:07:18.886469",
     "status": "completed"
    },
    "tags": []
   },
   "source": [
    "# Conclusion #\n",
    "\n",
    "Congratulations! You've completed Kaggle's *Introduction to Deep Learning* course!\n",
    "\n",
    "With your new skills you're ready to take on more advanced applications like computer vision and sentiment classification. What would you like to do next?\n",
    "\n",
    "Why not try one of our *Getting Started* competitions?\n",
    "\n",
    "- Classify images with TPUs in [**Petals to the Metal**](https://www.kaggle.com/c/tpu-getting-started)\n",
    "- Create art with GANs in [**I'm Something of a Painter Myself**](https://www.kaggle.com/c/gan-getting-started)\n",
    "- Classify Tweets in [**Real or Not? NLP with Disaster Tweets**](https://www.kaggle.com/c/nlp-getting-started)\n",
    "- Detect contradiction and entailment in [**Contradictory, My Dear Watson**](https://www.kaggle.com/c/contradictory-my-dear-watson)\n",
    "\n",
    "Until next time, Kagglers!"
   ]
  },
  {
   "cell_type": "markdown",
   "id": "f0eb71ab",
   "metadata": {
    "papermill": {
     "duration": 0.191964,
     "end_time": "2023-08-23T10:07:19.483111",
     "exception": false,
     "start_time": "2023-08-23T10:07:19.291147",
     "status": "completed"
    },
    "tags": []
   },
   "source": [
    "---\n",
    "\n",
    "\n",
    "\n",
    "\n",
    "*Have questions or comments? Visit the [course discussion forum](https://www.kaggle.com/learn/intro-to-deep-learning/discussion) to chat with other learners.*"
   ]
  }
 ],
 "metadata": {
  "kernelspec": {
   "display_name": "Python 3",
   "language": "python",
   "name": "python3"
  },
  "language_info": {
   "codemirror_mode": {
    "name": "ipython",
    "version": 3
   },
   "file_extension": ".py",
   "mimetype": "text/x-python",
   "name": "python",
   "nbconvert_exporter": "python",
   "pygments_lexer": "ipython3",
   "version": "3.10.12"
  },
  "papermill": {
   "default_parameters": {},
   "duration": 151.784611,
   "end_time": "2023-08-23T10:07:22.060520",
   "environment_variables": {},
   "exception": null,
   "input_path": "__notebook__.ipynb",
   "output_path": "__notebook__.ipynb",
   "parameters": {},
   "start_time": "2023-08-23T10:04:50.275909",
   "version": "2.4.0"
  }
 },
 "nbformat": 4,
 "nbformat_minor": 5
}
