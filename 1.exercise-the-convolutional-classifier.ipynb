{
 "cells": [
  {
   "cell_type": "markdown",
   "id": "73da0e12",
   "metadata": {
    "papermill": {
     "duration": 0.010183,
     "end_time": "2023-09-02T08:28:57.996485",
     "exception": false,
     "start_time": "2023-09-02T08:28:57.986302",
     "status": "completed"
    },
    "tags": []
   },
   "source": [
    "**This notebook is an exercise in the [Computer Vision](https://www.kaggle.com/learn/computer-vision) course.  You can reference the tutorial at [this link](https://www.kaggle.com/ryanholbrook/the-convolutional-classifier).**\n",
    "\n",
    "---\n"
   ]
  },
  {
   "cell_type": "markdown",
   "id": "3f30cb3e",
   "metadata": {
    "papermill": {
     "duration": 0.009671,
     "end_time": "2023-09-02T08:28:58.015550",
     "exception": false,
     "start_time": "2023-09-02T08:28:58.005879",
     "status": "completed"
    },
    "tags": []
   },
   "source": [
    "<blockquote style=\"margin-right:auto; margin-left:auto; background-color: #ebf9ff; padding: 1em; margin:24px;\">\n",
    "    <strong>Accelerate Training with a Kaggle GPU!</strong><br>\n",
    "Did you know Kaggle offers free time with a GPU accelerator? You can speed up training neural networks in this course by switching to <strong>GPU</strong> in the <em>Accelerator</em> option on the right. (It may already be turned on.) Two things to be aware of:\n",
    "<ul>\n",
    "<li>Changing the <em>Accelerator</em> option will cause the notebook session to restart. You'll need to rerun any setup code.\n",
    "<li>You can have only one GPU session at a time, so be sure to shut the notebook down after you've finished the exercise.\n",
    "</ul>\n",
    "</blockquote>"
   ]
  },
  {
   "cell_type": "markdown",
   "id": "cd99fbd4",
   "metadata": {
    "papermill": {
     "duration": 0.008414,
     "end_time": "2023-09-02T08:28:58.032905",
     "exception": false,
     "start_time": "2023-09-02T08:28:58.024491",
     "status": "completed"
    },
    "tags": []
   },
   "source": [
    "# Introduction #\n",
    "\n",
    "In the tutorial, we saw how to build an image classifier by attaching a head of dense layers to a pretrained base. The base we used was from a model called **VGG16**. We saw that the VGG16 architecture was prone to overfitting this dataset. Over this course, you'll learn a number of ways you can improve upon this initial attempt.\n",
    "\n",
    "The first way you'll see is to use a base more appropriate to the dataset. The base this model comes from is called **InceptionV1** (also known as GoogLeNet). InceptionV1 was one of the early winners of the ImageNet competition. One of its successors, InceptionV4, is among the state of the art today.\n",
    "\n",
    "To get started, run the code cell below to set everything up."
   ]
  },
  {
   "cell_type": "code",
   "execution_count": 1,
   "id": "bcdf502c",
   "metadata": {
    "execution": {
     "iopub.execute_input": "2023-09-02T08:28:58.052899Z",
     "iopub.status.busy": "2023-09-02T08:28:58.052264Z",
     "iopub.status.idle": "2023-09-02T08:29:15.142026Z",
     "shell.execute_reply": "2023-09-02T08:29:15.140733Z"
    },
    "lines_to_next_cell": 2,
    "papermill": {
     "duration": 17.103579,
     "end_time": "2023-09-02T08:29:15.145008",
     "exception": false,
     "start_time": "2023-09-02T08:28:58.041429",
     "status": "completed"
    },
    "tags": []
   },
   "outputs": [
    {
     "name": "stdout",
     "output_type": "stream",
     "text": [
      "Found 5117 files belonging to 2 classes.\n",
      "Found 5051 files belonging to 2 classes.\n"
     ]
    }
   ],
   "source": [
    "# Setup feedback system\n",
    "from learntools.core import binder\n",
    "binder.bind(globals())\n",
    "from learntools.computer_vision.ex1 import *\n",
    "\n",
    "# Imports\n",
    "import os, warnings\n",
    "import matplotlib.pyplot as plt\n",
    "from matplotlib import gridspec\n",
    "\n",
    "import numpy as np\n",
    "import tensorflow as tf\n",
    "from tensorflow.keras.preprocessing import image_dataset_from_directory\n",
    "\n",
    "# Reproducability\n",
    "def set_seed(seed=31415):\n",
    "    np.random.seed(seed)\n",
    "    tf.random.set_seed(seed)\n",
    "    os.environ['PYTHONHASHSEED'] = str(seed)\n",
    "    os.environ['TF_DETERMINISTIC_OPS'] = '1'\n",
    "set_seed()\n",
    "\n",
    "# Set Matplotlib defaults\n",
    "plt.rc('figure', autolayout=True)\n",
    "plt.rc('axes', labelweight='bold', labelsize='large',\n",
    "       titleweight='bold', titlesize=18, titlepad=10)\n",
    "plt.rc('image', cmap='magma')\n",
    "warnings.filterwarnings(\"ignore\") # to clean up output cells\n",
    "\n",
    "\n",
    "# Load training and validation sets\n",
    "ds_train_ = image_dataset_from_directory(\n",
    "    '../input/car-or-truck/train',\n",
    "    labels='inferred',\n",
    "    label_mode='binary',\n",
    "    image_size=[128, 128],\n",
    "    interpolation='nearest',\n",
    "    batch_size=64,\n",
    "    shuffle=True,\n",
    ")\n",
    "ds_valid_ = image_dataset_from_directory(\n",
    "    '../input/car-or-truck/valid',\n",
    "    labels='inferred',\n",
    "    label_mode='binary',\n",
    "    image_size=[128, 128],\n",
    "    interpolation='nearest',\n",
    "    batch_size=64,\n",
    "    shuffle=False,\n",
    ")\n",
    "\n",
    "# Data Pipeline\n",
    "def convert_to_float(image, label):\n",
    "    image = tf.image.convert_image_dtype(image, dtype=tf.float32)\n",
    "    return image, label\n",
    "\n",
    "AUTOTUNE = tf.data.experimental.AUTOTUNE\n",
    "ds_train = (\n",
    "    ds_train_\n",
    "    .map(convert_to_float)\n",
    "    .cache()\n",
    "    .prefetch(buffer_size=AUTOTUNE)\n",
    ")\n",
    "ds_valid = (\n",
    "    ds_valid_\n",
    "    .map(convert_to_float)\n",
    "    .cache()\n",
    "    .prefetch(buffer_size=AUTOTUNE)\n",
    ")\n"
   ]
  },
  {
   "cell_type": "markdown",
   "id": "a7a2002c",
   "metadata": {
    "papermill": {
     "duration": 0.009276,
     "end_time": "2023-09-02T08:29:15.164046",
     "exception": false,
     "start_time": "2023-09-02T08:29:15.154770",
     "status": "completed"
    },
    "tags": []
   },
   "source": [
    "The **InceptionV1** model pretrained on ImageNet is available in the [TensorFlow Hub](https://www.tensorflow.org/hub/) repository, but we'll load it from a local copy. Run this cell to load InceptionV1 for your base."
   ]
  },
  {
   "cell_type": "code",
   "execution_count": 2,
   "id": "ec29c36b",
   "metadata": {
    "execution": {
     "iopub.execute_input": "2023-09-02T08:29:15.188531Z",
     "iopub.status.busy": "2023-09-02T08:29:15.186917Z",
     "iopub.status.idle": "2023-09-02T08:29:20.256604Z",
     "shell.execute_reply": "2023-09-02T08:29:20.255189Z"
    },
    "lines_to_next_cell": 0,
    "papermill": {
     "duration": 5.086164,
     "end_time": "2023-09-02T08:29:20.260554",
     "exception": false,
     "start_time": "2023-09-02T08:29:15.174390",
     "status": "completed"
    },
    "tags": []
   },
   "outputs": [],
   "source": [
    "import tensorflow_hub as hub\n",
    "\n",
    "pretrained_base = tf.keras.models.load_model(\n",
    "    '../input/cv-course-models/cv-course-models/inceptionv1'\n",
    ")"
   ]
  },
  {
   "cell_type": "markdown",
   "id": "2126898f",
   "metadata": {
    "papermill": {
     "duration": 0.008788,
     "end_time": "2023-09-02T08:29:20.280435",
     "exception": false,
     "start_time": "2023-09-02T08:29:20.271647",
     "status": "completed"
    },
    "tags": []
   },
   "source": [
    "# 1) Define Pretrained Base #\n",
    "\n",
    "Now that you have a pretrained base to do our feature extraction, decide whether this base should be trainable or not."
   ]
  },
  {
   "cell_type": "code",
   "execution_count": 3,
   "id": "fcac5a8a",
   "metadata": {
    "execution": {
     "iopub.execute_input": "2023-09-02T08:29:20.300704Z",
     "iopub.status.busy": "2023-09-02T08:29:20.300239Z",
     "iopub.status.idle": "2023-09-02T08:29:20.311934Z",
     "shell.execute_reply": "2023-09-02T08:29:20.310616Z"
    },
    "lines_to_next_cell": 0,
    "papermill": {
     "duration": 0.025006,
     "end_time": "2023-09-02T08:29:20.314355",
     "exception": false,
     "start_time": "2023-09-02T08:29:20.289349",
     "status": "completed"
    },
    "tags": []
   },
   "outputs": [
    {
     "data": {
      "application/javascript": [
       "parent.postMessage({\"jupyterEvent\": \"custom.exercise_interaction\", \"data\": {\"outcomeType\": 1, \"valueTowardsCompletion\": 0.25, \"interactionType\": 1, \"questionType\": 2, \"questionId\": \"1_Q1\", \"learnToolsVersion\": \"0.3.4\", \"failureMessage\": \"\", \"exceptionClass\": \"\", \"trace\": \"\"}}, \"*\")"
      ],
      "text/plain": [
       "<IPython.core.display.Javascript object>"
      ]
     },
     "metadata": {},
     "output_type": "display_data"
    },
    {
     "data": {
      "text/markdown": [
       "<span style=\"color:#33cc33\">Correct:</span> When doing transfer learning, it's generally not a good idea to retrain the entire base -- at least not without some care. The reason is that the random weights in the head will initially create large gradient updates, which propogate back into the base layers and destroy much of the pretraining. Using techniques known as **fine tuning** it's possible to further train the base on new data, but this requires some care to do well."
      ],
      "text/plain": [
       "Correct: When doing transfer learning, it's generally not a good idea to retrain the entire base -- at least not without some care. The reason is that the random weights in the head will initially create large gradient updates, which propogate back into the base layers and destroy much of the pretraining. Using techniques known as **fine tuning** it's possible to further train the base on new data, but this requires some care to do well."
      ]
     },
     "metadata": {},
     "output_type": "display_data"
    }
   ],
   "source": [
    "# YOUR_CODE_HERE\n",
    "pretrained_base.trainable = False\n",
    "\n",
    "# Check your answer\n",
    "q_1.check()"
   ]
  },
  {
   "cell_type": "code",
   "execution_count": 4,
   "id": "94e55ce2",
   "metadata": {
    "execution": {
     "iopub.execute_input": "2023-09-02T08:29:20.335026Z",
     "iopub.status.busy": "2023-09-02T08:29:20.334588Z",
     "iopub.status.idle": "2023-09-02T08:29:20.339658Z",
     "shell.execute_reply": "2023-09-02T08:29:20.338453Z"
    },
    "papermill": {
     "duration": 0.018742,
     "end_time": "2023-09-02T08:29:20.342264",
     "exception": false,
     "start_time": "2023-09-02T08:29:20.323522",
     "status": "completed"
    },
    "tags": []
   },
   "outputs": [],
   "source": [
    "# Lines below will give you a hint or solution code\n",
    "#q_1.hint()\n",
    "#q_1.solution()"
   ]
  },
  {
   "cell_type": "markdown",
   "id": "30b67a40",
   "metadata": {
    "papermill": {
     "duration": 0.009473,
     "end_time": "2023-09-02T08:29:20.361194",
     "exception": false,
     "start_time": "2023-09-02T08:29:20.351721",
     "status": "completed"
    },
    "tags": []
   },
   "source": [
    "# 2) Attach Head #\n",
    "\n",
    "Now that the base is defined to do the feature extraction, create a head of `Dense` layers to perform the classification, following this diagram:\n",
    "\n",
    "<figure>\n",
    "<img src=\"https://storage.googleapis.com/kaggle-media/learn/images/i5VU7Ry.png\" alt=\"Diagram of the dense head.\">\n",
    "</figure>\n"
   ]
  },
  {
   "cell_type": "code",
   "execution_count": 5,
   "id": "88c77eee",
   "metadata": {
    "execution": {
     "iopub.execute_input": "2023-09-02T08:29:20.382511Z",
     "iopub.status.busy": "2023-09-02T08:29:20.382057Z",
     "iopub.status.idle": "2023-09-02T08:29:20.416149Z",
     "shell.execute_reply": "2023-09-02T08:29:20.414748Z"
    },
    "lines_to_next_cell": 0,
    "papermill": {
     "duration": 0.047967,
     "end_time": "2023-09-02T08:29:20.418651",
     "exception": false,
     "start_time": "2023-09-02T08:29:20.370684",
     "status": "completed"
    },
    "tags": []
   },
   "outputs": [
    {
     "data": {
      "application/javascript": [
       "parent.postMessage({\"jupyterEvent\": \"custom.exercise_interaction\", \"data\": {\"outcomeType\": 1, \"valueTowardsCompletion\": 0.25, \"interactionType\": 1, \"questionType\": 2, \"questionId\": \"2_Q2\", \"learnToolsVersion\": \"0.3.4\", \"failureMessage\": \"\", \"exceptionClass\": \"\", \"trace\": \"\"}}, \"*\")"
      ],
      "text/plain": [
       "<IPython.core.display.Javascript object>"
      ]
     },
     "metadata": {},
     "output_type": "display_data"
    },
    {
     "data": {
      "text/markdown": [
       "<span style=\"color:#33cc33\">Correct</span>"
      ],
      "text/plain": [
       "Correct"
      ]
     },
     "metadata": {},
     "output_type": "display_data"
    }
   ],
   "source": [
    "from tensorflow import keras\n",
    "from tensorflow.keras import layers\n",
    "\n",
    "model = keras.Sequential([\n",
    "    pretrained_base,\n",
    "    layers.Flatten(),\n",
    "    layers.Dense(6, activation='relu'),\n",
    "    layers.Dense(1, activation='sigmoid'),\n",
    "])\n",
    "\n",
    "# Check your answer\n",
    "q_2.check()"
   ]
  },
  {
   "cell_type": "code",
   "execution_count": 6,
   "id": "3822dcb9",
   "metadata": {
    "execution": {
     "iopub.execute_input": "2023-09-02T08:29:20.440467Z",
     "iopub.status.busy": "2023-09-02T08:29:20.440031Z",
     "iopub.status.idle": "2023-09-02T08:29:20.445047Z",
     "shell.execute_reply": "2023-09-02T08:29:20.443836Z"
    },
    "papermill": {
     "duration": 0.019123,
     "end_time": "2023-09-02T08:29:20.447467",
     "exception": false,
     "start_time": "2023-09-02T08:29:20.428344",
     "status": "completed"
    },
    "tags": []
   },
   "outputs": [],
   "source": [
    "# Lines below will give you a hint or solution code\n",
    "#q_2.hint()\n",
    "#q_2.solution()"
   ]
  },
  {
   "cell_type": "markdown",
   "id": "f1672653",
   "metadata": {
    "papermill": {
     "duration": 0.009753,
     "end_time": "2023-09-02T08:29:20.467108",
     "exception": false,
     "start_time": "2023-09-02T08:29:20.457355",
     "status": "completed"
    },
    "tags": []
   },
   "source": [
    "# 3) Train #\n",
    "\n",
    "Before training a model in Keras, you need to specify an *optimizer* to perform the gradient descent, a *loss function* to be minimized, and (optionally) any *performance metrics*. The optimization algorithm we'll use for this course is called [\"Adam\"](https://keras.io/api/optimizers/adam/), which generally performs well regardless of what kind of problem you're trying to solve.\n",
    "\n",
    "The loss and the metrics, however, need to match the kind of problem you're trying to solve. Our problem is a **binary classification** problem: `Car` coded as 0, and `Truck` coded as 1. Choose an appropriate loss and an appropriate accuracy metric for binary classification."
   ]
  },
  {
   "cell_type": "code",
   "execution_count": 7,
   "id": "f88d2edd",
   "metadata": {
    "execution": {
     "iopub.execute_input": "2023-09-02T08:29:20.488949Z",
     "iopub.status.busy": "2023-09-02T08:29:20.488486Z",
     "iopub.status.idle": "2023-09-02T08:29:20.530882Z",
     "shell.execute_reply": "2023-09-02T08:29:20.529771Z"
    },
    "lines_to_next_cell": 0,
    "papermill": {
     "duration": 0.056506,
     "end_time": "2023-09-02T08:29:20.533442",
     "exception": false,
     "start_time": "2023-09-02T08:29:20.476936",
     "status": "completed"
    },
    "tags": []
   },
   "outputs": [
    {
     "data": {
      "application/javascript": [
       "parent.postMessage({\"jupyterEvent\": \"custom.exercise_interaction\", \"data\": {\"outcomeType\": 1, \"valueTowardsCompletion\": 0.25, \"interactionType\": 1, \"questionType\": 2, \"questionId\": \"3_Q3\", \"learnToolsVersion\": \"0.3.4\", \"failureMessage\": \"\", \"exceptionClass\": \"\", \"trace\": \"\"}}, \"*\")"
      ],
      "text/plain": [
       "<IPython.core.display.Javascript object>"
      ]
     },
     "metadata": {},
     "output_type": "display_data"
    },
    {
     "data": {
      "text/markdown": [
       "<span style=\"color:#33cc33\">Correct</span>"
      ],
      "text/plain": [
       "Correct"
      ]
     },
     "metadata": {},
     "output_type": "display_data"
    }
   ],
   "source": [
    "# YOUR CODE HERE: what loss function should you use for a binary\n",
    "# classification problem? (Your answer for each should be a string.)\n",
    "optimizer = tf.keras.optimizers.Adam(epsilon=0.01)\n",
    "model.compile(\n",
    "    optimizer='adam',\n",
    "    loss='binary_crossentropy',\n",
    "    metrics=['binary_accuracy'],\n",
    ")\n",
    "\n",
    "# Check your answer\n",
    "q_3.check()"
   ]
  },
  {
   "cell_type": "code",
   "execution_count": 8,
   "id": "0967a2be",
   "metadata": {
    "execution": {
     "iopub.execute_input": "2023-09-02T08:29:20.557439Z",
     "iopub.status.busy": "2023-09-02T08:29:20.556992Z",
     "iopub.status.idle": "2023-09-02T08:29:20.562535Z",
     "shell.execute_reply": "2023-09-02T08:29:20.561309Z"
    },
    "lines_to_next_cell": 0,
    "papermill": {
     "duration": 0.020926,
     "end_time": "2023-09-02T08:29:20.564927",
     "exception": false,
     "start_time": "2023-09-02T08:29:20.544001",
     "status": "completed"
    },
    "tags": []
   },
   "outputs": [],
   "source": [
    "# Lines below will give you a hint or solution code\n",
    "#q_3.hint()\n",
    "#q_3.solution()"
   ]
  },
  {
   "cell_type": "code",
   "execution_count": 9,
   "id": "9c440762",
   "metadata": {
    "execution": {
     "iopub.execute_input": "2023-09-02T08:29:20.588668Z",
     "iopub.status.busy": "2023-09-02T08:29:20.587423Z",
     "iopub.status.idle": "2023-09-02T08:29:20.592338Z",
     "shell.execute_reply": "2023-09-02T08:29:20.591289Z"
    },
    "papermill": {
     "duration": 0.018878,
     "end_time": "2023-09-02T08:29:20.594595",
     "exception": false,
     "start_time": "2023-09-02T08:29:20.575717",
     "status": "completed"
    },
    "tags": []
   },
   "outputs": [],
   "source": [
    "#history = model.fit(\n",
    "    #ds_train,\n",
    "    #validation_data=ds_valid,\n",
    "    #epochs=30,\n",
    "#)"
   ]
  },
  {
   "cell_type": "markdown",
   "id": "1eb846aa",
   "metadata": {
    "papermill": {
     "duration": 0.010376,
     "end_time": "2023-09-02T08:29:20.615360",
     "exception": false,
     "start_time": "2023-09-02T08:29:20.604984",
     "status": "completed"
    },
    "tags": []
   },
   "source": [
    "Run the cell below to plot the loss and metric curves for this training run."
   ]
  },
  {
   "cell_type": "code",
   "execution_count": 10,
   "id": "272340fd",
   "metadata": {
    "execution": {
     "iopub.execute_input": "2023-09-02T08:29:20.638951Z",
     "iopub.status.busy": "2023-09-02T08:29:20.637798Z",
     "iopub.status.idle": "2023-09-02T08:29:20.643052Z",
     "shell.execute_reply": "2023-09-02T08:29:20.642160Z"
    },
    "papermill": {
     "duration": 0.019284,
     "end_time": "2023-09-02T08:29:20.645178",
     "exception": false,
     "start_time": "2023-09-02T08:29:20.625894",
     "status": "completed"
    },
    "tags": []
   },
   "outputs": [],
   "source": [
    "#import pandas as pd\n",
    "#history_frame = pd.DataFrame(history.history)\n",
    "#history_frame.loc[:, ['loss', 'val_loss']].plot()\n",
    "#history_frame.loc[:, ['binary_accuracy', 'val_binary_accuracy']].plot();"
   ]
  },
  {
   "cell_type": "markdown",
   "id": "cde9010c",
   "metadata": {
    "papermill": {
     "duration": 0.011419,
     "end_time": "2023-09-02T08:29:20.668318",
     "exception": false,
     "start_time": "2023-09-02T08:29:20.656899",
     "status": "completed"
    },
    "tags": []
   },
   "source": [
    "# 4) Examine Loss and Accuracy #\n",
    "\n",
    "Do you notice a difference between these learning curves and the curves for VGG16 from the tutorial? What does this difference tell you about what this model (InceptionV2) learned compared to VGG16? Are there ways in which one is better than the other? Worse?\n",
    "\n",
    "After you've thought about it, run the cell below to see the answer."
   ]
  },
  {
   "cell_type": "code",
   "execution_count": 11,
   "id": "9dec217b",
   "metadata": {
    "execution": {
     "iopub.execute_input": "2023-09-02T08:29:20.691259Z",
     "iopub.status.busy": "2023-09-02T08:29:20.690899Z",
     "iopub.status.idle": "2023-09-02T08:29:20.699034Z",
     "shell.execute_reply": "2023-09-02T08:29:20.697963Z"
    },
    "papermill": {
     "duration": 0.022705,
     "end_time": "2023-09-02T08:29:20.701423",
     "exception": false,
     "start_time": "2023-09-02T08:29:20.678718",
     "status": "completed"
    },
    "tags": []
   },
   "outputs": [
    {
     "data": {
      "application/javascript": [
       "parent.postMessage({\"jupyterEvent\": \"custom.exercise_interaction\", \"data\": {\"outcomeType\": 1, \"valueTowardsCompletion\": 0.25, \"interactionType\": 1, \"questionType\": 4, \"questionId\": \"4_Q4\", \"learnToolsVersion\": \"0.3.4\", \"failureMessage\": \"\", \"exceptionClass\": \"\", \"trace\": \"\"}}, \"*\")"
      ],
      "text/plain": [
       "<IPython.core.display.Javascript object>"
      ]
     },
     "metadata": {},
     "output_type": "display_data"
    },
    {
     "data": {
      "text/markdown": [
       "<span style=\"color:#33cc33\">Correct:</span> \n",
       "\n",
       "That the training loss and validation loss stay fairly close is evidence that the model isn't just memorizing the training data, but rather learning general properties of the two classes. But, because this model converges at a loss greater than the VGG16 model, it's likely that it is underfitting some, and could benefit from some extra capacity.\n"
      ],
      "text/plain": [
       "Correct: \n",
       "\n",
       "That the training loss and validation loss stay fairly close is evidence that the model isn't just memorizing the training data, but rather learning general properties of the two classes. But, because this model converges at a loss greater than the VGG16 model, it's likely that it is underfitting some, and could benefit from some extra capacity."
      ]
     },
     "metadata": {},
     "output_type": "display_data"
    }
   ],
   "source": [
    "# View the solution (Run this code cell to receive credit!)\n",
    "q_4.check()"
   ]
  },
  {
   "cell_type": "markdown",
   "id": "9e9db7e4",
   "metadata": {
    "papermill": {
     "duration": 0.010594,
     "end_time": "2023-09-02T08:29:20.722812",
     "exception": false,
     "start_time": "2023-09-02T08:29:20.712218",
     "status": "completed"
    },
    "tags": []
   },
   "source": [
    "# Conclusion #\n",
    "\n",
    "In this first lesson, you learned the basics of **convolutional image classifiers**, that they consist of a **base** for extracting features from images, and a **head** which uses the features to decide the image's class. You also saw how to build a classifier with **transfer learning** on pretrained base. "
   ]
  },
  {
   "cell_type": "markdown",
   "id": "4e09f356",
   "metadata": {
    "papermill": {
     "duration": 0.010389,
     "end_time": "2023-09-02T08:29:20.743998",
     "exception": false,
     "start_time": "2023-09-02T08:29:20.733609",
     "status": "completed"
    },
    "tags": []
   },
   "source": [
    "# Keep Going #\n",
    "\n",
    "Move on to [**Lesson 2**](https://www.kaggle.com/ryanholbrook/convolution-and-relu) for a detailed look at how the base does this feature extraction. (It's really cool!)"
   ]
  },
  {
   "cell_type": "markdown",
   "id": "3bd6b837",
   "metadata": {
    "papermill": {
     "duration": 0.011138,
     "end_time": "2023-09-02T08:29:20.765991",
     "exception": false,
     "start_time": "2023-09-02T08:29:20.754853",
     "status": "completed"
    },
    "tags": []
   },
   "source": [
    "---\n",
    "\n",
    "\n",
    "\n",
    "\n",
    "*Have questions or comments? Visit the [course discussion forum](https://www.kaggle.com/learn/computer-vision/discussion) to chat with other learners.*"
   ]
  }
 ],
 "kernelspec": {
  "display_name": "Python 3",
  "language": "python",
  "name": "python3"
 },
 "language_info": {
  "codemirror_mode": {
   "name": "ipython",
   "version": 3
  },
  "file_extension": ".py",
  "mimetype": "text/x-python",
  "name": "python",
  "nbconvert_exporter": "python",
  "pygments_lexer": "ipython3",
  "version": "3.6.4"
 },
 "metadata": {
  "jupytext": {
   "formats": "ipynb,md",
   "split_at_heading": true
  },
  "kernelspec": {
   "display_name": "Python 3",
   "language": "python",
   "name": "python3"
  },
  "language_info": {
   "codemirror_mode": {
    "name": "ipython",
    "version": 3
   },
   "file_extension": ".py",
   "mimetype": "text/x-python",
   "name": "python",
   "nbconvert_exporter": "python",
   "pygments_lexer": "ipython3",
   "version": "3.10.12"
  },
  "papermill": {
   "default_parameters": {},
   "duration": 29.637124,
   "end_time": "2023-09-02T08:29:23.690644",
   "environment_variables": {},
   "exception": null,
   "input_path": "__notebook__.ipynb",
   "output_path": "__notebook__.ipynb",
   "parameters": {},
   "start_time": "2023-09-02T08:28:54.053520",
   "version": "2.4.0"
  }
 },
 "nbformat": 4,
 "nbformat_minor": 5
}
