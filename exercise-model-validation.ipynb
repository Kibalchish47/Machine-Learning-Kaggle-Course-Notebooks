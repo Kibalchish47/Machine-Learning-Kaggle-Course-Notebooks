{
 "cells": [
  {
   "cell_type": "markdown",
   "id": "3bc84f81",
   "metadata": {
    "papermill": {
     "duration": 0.00661,
     "end_time": "2023-08-23T08:47:57.718582",
     "exception": false,
     "start_time": "2023-08-23T08:47:57.711972",
     "status": "completed"
    },
    "tags": []
   },
   "source": [
    "**This notebook is an exercise in the [Introduction to Machine Learning](https://www.kaggle.com/learn/intro-to-machine-learning) course.  You can reference the tutorial at [this link](https://www.kaggle.com/dansbecker/model-validation).**\n",
    "\n",
    "---\n"
   ]
  },
  {
   "cell_type": "markdown",
   "id": "f9e22c51",
   "metadata": {
    "papermill": {
     "duration": 0.005533,
     "end_time": "2023-08-23T08:47:57.730129",
     "exception": false,
     "start_time": "2023-08-23T08:47:57.724596",
     "status": "completed"
    },
    "tags": []
   },
   "source": [
    "## Recap\n",
    "You've built a model. In this exercise you will test how good your model is.\n",
    "\n",
    "Run the cell below to set up your coding environment where the previous exercise left off."
   ]
  },
  {
   "cell_type": "code",
   "execution_count": 1,
   "id": "79eab6a1",
   "metadata": {
    "execution": {
     "iopub.execute_input": "2023-08-23T08:47:57.745105Z",
     "iopub.status.busy": "2023-08-23T08:47:57.743548Z",
     "iopub.status.idle": "2023-08-23T08:47:59.706649Z",
     "shell.execute_reply": "2023-08-23T08:47:59.705131Z"
    },
    "papermill": {
     "duration": 1.973152,
     "end_time": "2023-08-23T08:47:59.709195",
     "exception": false,
     "start_time": "2023-08-23T08:47:57.736043",
     "status": "completed"
    },
    "tags": []
   },
   "outputs": [
    {
     "name": "stderr",
     "output_type": "stream",
     "text": [
      "/opt/conda/lib/python3.10/site-packages/scipy/__init__.py:146: UserWarning: A NumPy version >=1.16.5 and <1.23.0 is required for this version of SciPy (detected version 1.23.5\n",
      "  warnings.warn(f\"A NumPy version >={np_minversion} and <{np_maxversion}\"\n"
     ]
    },
    {
     "name": "stdout",
     "output_type": "stream",
     "text": [
      "First in-sample predictions: [208500. 181500. 223500. 140000. 250000.]\n",
      "Actual target values for those homes: [208500, 181500, 223500, 140000, 250000]\n",
      "Setup Complete\n"
     ]
    }
   ],
   "source": [
    "# Code you have previously used to load data\n",
    "import pandas as pd\n",
    "from sklearn.tree import DecisionTreeRegressor\n",
    "\n",
    "# Path of the file to read\n",
    "iowa_file_path = '../input/home-data-for-ml-course/train.csv'\n",
    "\n",
    "home_data = pd.read_csv(iowa_file_path)\n",
    "y = home_data.SalePrice\n",
    "feature_columns = ['LotArea', 'YearBuilt', '1stFlrSF', '2ndFlrSF', 'FullBath', 'BedroomAbvGr', 'TotRmsAbvGrd']\n",
    "X = home_data[feature_columns]\n",
    "\n",
    "# Specify Model\n",
    "iowa_model = DecisionTreeRegressor()\n",
    "# Fit Model\n",
    "iowa_model.fit(X, y)\n",
    "\n",
    "print(\"First in-sample predictions:\", iowa_model.predict(X.head()))\n",
    "print(\"Actual target values for those homes:\", y.head().tolist())\n",
    "\n",
    "# Set up code checking\n",
    "from learntools.core import binder\n",
    "binder.bind(globals())\n",
    "from learntools.machine_learning.ex4 import *\n",
    "print(\"Setup Complete\")"
   ]
  },
  {
   "cell_type": "markdown",
   "id": "24cb230e",
   "metadata": {
    "papermill": {
     "duration": 0.005953,
     "end_time": "2023-08-23T08:47:59.721358",
     "exception": false,
     "start_time": "2023-08-23T08:47:59.715405",
     "status": "completed"
    },
    "tags": []
   },
   "source": [
    "# Exercises\n",
    "\n",
    "## Step 1: Split Your Data\n",
    "Use the `train_test_split` function to split up your data.\n",
    "\n",
    "Give it the argument `random_state=1` so the `check` functions know what to expect when verifying your code.\n",
    "\n",
    "Recall, your features are loaded in the DataFrame **X** and your target is loaded in **y**.\n"
   ]
  },
  {
   "cell_type": "code",
   "execution_count": 2,
   "id": "bdfbb5eb",
   "metadata": {
    "execution": {
     "iopub.execute_input": "2023-08-23T08:47:59.736179Z",
     "iopub.status.busy": "2023-08-23T08:47:59.735663Z",
     "iopub.status.idle": "2023-08-23T08:47:59.754867Z",
     "shell.execute_reply": "2023-08-23T08:47:59.753511Z"
    },
    "papermill": {
     "duration": 0.030024,
     "end_time": "2023-08-23T08:47:59.757446",
     "exception": false,
     "start_time": "2023-08-23T08:47:59.727422",
     "status": "completed"
    },
    "tags": []
   },
   "outputs": [
    {
     "data": {
      "application/javascript": [
       "parent.postMessage({\"jupyterEvent\": \"custom.exercise_interaction\", \"data\": {\"outcomeType\": 1, \"valueTowardsCompletion\": 0.25, \"interactionType\": 1, \"questionType\": 2, \"questionId\": \"1_SplitData\", \"learnToolsVersion\": \"0.3.4\", \"failureMessage\": \"\", \"exceptionClass\": \"\", \"trace\": \"\"}}, \"*\")"
      ],
      "text/plain": [
       "<IPython.core.display.Javascript object>"
      ]
     },
     "metadata": {},
     "output_type": "display_data"
    },
    {
     "data": {
      "text/markdown": [
       "<span style=\"color:#33cc33\">Correct</span>"
      ],
      "text/plain": [
       "Correct"
      ]
     },
     "metadata": {},
     "output_type": "display_data"
    }
   ],
   "source": [
    "# Import the train_test_split function and uncomment\n",
    "from sklearn.model_selection import train_test_split\n",
    "# fill in and uncomment\n",
    "train_X, val_X, train_y, val_y = train_test_split(X, y, random_state=1)\n",
    "\n",
    "# Check your answer\n",
    "step_1.check()"
   ]
  },
  {
   "cell_type": "code",
   "execution_count": 3,
   "id": "0f30c166",
   "metadata": {
    "execution": {
     "iopub.execute_input": "2023-08-23T08:47:59.773924Z",
     "iopub.status.busy": "2023-08-23T08:47:59.773528Z",
     "iopub.status.idle": "2023-08-23T08:47:59.779242Z",
     "shell.execute_reply": "2023-08-23T08:47:59.777844Z"
    },
    "papermill": {
     "duration": 0.017904,
     "end_time": "2023-08-23T08:47:59.781851",
     "exception": false,
     "start_time": "2023-08-23T08:47:59.763947",
     "status": "completed"
    },
    "tags": []
   },
   "outputs": [],
   "source": [
    "# The lines below will show you a hint or the solution.\n",
    "# step_1.hint() \n",
    "# step_1.solution()"
   ]
  },
  {
   "cell_type": "markdown",
   "id": "eaf8af14",
   "metadata": {
    "papermill": {
     "duration": 0.006582,
     "end_time": "2023-08-23T08:47:59.795142",
     "exception": false,
     "start_time": "2023-08-23T08:47:59.788560",
     "status": "completed"
    },
    "tags": []
   },
   "source": [
    "## Step 2: Specify and Fit the Model\n",
    "\n",
    "Create a `DecisionTreeRegressor` model and fit it to the relevant data.\n",
    "Set `random_state` to 1 again when creating the model."
   ]
  },
  {
   "cell_type": "code",
   "execution_count": 4,
   "id": "49dc3711",
   "metadata": {
    "execution": {
     "iopub.execute_input": "2023-08-23T08:47:59.811196Z",
     "iopub.status.busy": "2023-08-23T08:47:59.810185Z",
     "iopub.status.idle": "2023-08-23T08:47:59.843929Z",
     "shell.execute_reply": "2023-08-23T08:47:59.842654Z"
    },
    "papermill": {
     "duration": 0.044562,
     "end_time": "2023-08-23T08:47:59.846300",
     "exception": false,
     "start_time": "2023-08-23T08:47:59.801738",
     "status": "completed"
    },
    "tags": []
   },
   "outputs": [
    {
     "name": "stdout",
     "output_type": "stream",
     "text": [
      "[186500. 184000. 130000.  92000. 164500. 220000. 335000. 144152. 215000.\n",
      " 262000.]\n",
      "[186500. 184000. 130000.  92000. 164500. 220000. 335000. 144152. 215000.\n",
      " 262000.]\n"
     ]
    },
    {
     "data": {
      "application/javascript": [
       "parent.postMessage({\"jupyterEvent\": \"custom.exercise_interaction\", \"data\": {\"outcomeType\": 1, \"valueTowardsCompletion\": 0.25, \"interactionType\": 1, \"questionType\": 2, \"questionId\": \"2_FitModelWithTrain\", \"learnToolsVersion\": \"0.3.4\", \"failureMessage\": \"\", \"exceptionClass\": \"\", \"trace\": \"\"}}, \"*\")"
      ],
      "text/plain": [
       "<IPython.core.display.Javascript object>"
      ]
     },
     "metadata": {},
     "output_type": "display_data"
    },
    {
     "data": {
      "text/markdown": [
       "<span style=\"color:#33cc33\">Correct</span>"
      ],
      "text/plain": [
       "Correct"
      ]
     },
     "metadata": {},
     "output_type": "display_data"
    }
   ],
   "source": [
    "# You imported DecisionTreeRegressor in your last exercise\n",
    "# and that code has been copied to the setup code above. So, no need to\n",
    "# import it again\n",
    "from sklearn.tree import DecisionTreeRegressor\n",
    "\n",
    "# Specify the model\n",
    "iowa_model = DecisionTreeRegressor(random_state=1)\n",
    "\n",
    "# Fit iowa_model with the training data.\n",
    "iowa_model.fit(train_X, train_y)\n",
    "\n",
    "# Check your answer\n",
    "step_2.check()"
   ]
  },
  {
   "cell_type": "code",
   "execution_count": 5,
   "id": "74dfb1b3",
   "metadata": {
    "execution": {
     "iopub.execute_input": "2023-08-23T08:47:59.862631Z",
     "iopub.status.busy": "2023-08-23T08:47:59.862114Z",
     "iopub.status.idle": "2023-08-23T08:47:59.872995Z",
     "shell.execute_reply": "2023-08-23T08:47:59.871727Z"
    },
    "papermill": {
     "duration": 0.022808,
     "end_time": "2023-08-23T08:47:59.876050",
     "exception": false,
     "start_time": "2023-08-23T08:47:59.853242",
     "status": "completed"
    },
    "tags": []
   },
   "outputs": [
    {
     "data": {
      "application/javascript": [
       "parent.postMessage({\"jupyterEvent\": \"custom.exercise_interaction\", \"data\": {\"interactionType\": 3, \"questionType\": 2, \"questionId\": \"2_FitModelWithTrain\", \"learnToolsVersion\": \"0.3.4\", \"valueTowardsCompletion\": 0.0, \"failureMessage\": \"\", \"exceptionClass\": \"\", \"trace\": \"\", \"outcomeType\": 4}}, \"*\")"
      ],
      "text/plain": [
       "<IPython.core.display.Javascript object>"
      ]
     },
     "metadata": {},
     "output_type": "display_data"
    },
    {
     "data": {
      "text/markdown": [
       "<span style=\"color:#33cc99\">Solution:</span> \n",
       "```python\n",
       "iowa_model = DecisionTreeRegressor(random_state=1)\n",
       "iowa_model.fit(train_X, train_y)\n",
       "```"
      ],
      "text/plain": [
       "Solution: \n",
       "```python\n",
       "iowa_model = DecisionTreeRegressor(random_state=1)\n",
       "iowa_model.fit(train_X, train_y)\n",
       "```"
      ]
     },
     "metadata": {},
     "output_type": "display_data"
    }
   ],
   "source": [
    "# step_2.hint()\n",
    "step_2.solution()"
   ]
  },
  {
   "cell_type": "markdown",
   "id": "9269ca10",
   "metadata": {
    "papermill": {
     "duration": 0.00742,
     "end_time": "2023-08-23T08:47:59.891326",
     "exception": false,
     "start_time": "2023-08-23T08:47:59.883906",
     "status": "completed"
    },
    "tags": []
   },
   "source": [
    "## Step 3: Make Predictions with Validation data\n"
   ]
  },
  {
   "cell_type": "code",
   "execution_count": 6,
   "id": "fae43a18",
   "metadata": {
    "execution": {
     "iopub.execute_input": "2023-08-23T08:47:59.909081Z",
     "iopub.status.busy": "2023-08-23T08:47:59.908653Z",
     "iopub.status.idle": "2023-08-23T08:47:59.923571Z",
     "shell.execute_reply": "2023-08-23T08:47:59.922192Z"
    },
    "papermill": {
     "duration": 0.027055,
     "end_time": "2023-08-23T08:47:59.926090",
     "exception": false,
     "start_time": "2023-08-23T08:47:59.899035",
     "status": "completed"
    },
    "tags": []
   },
   "outputs": [
    {
     "data": {
      "application/javascript": [
       "parent.postMessage({\"jupyterEvent\": \"custom.exercise_interaction\", \"data\": {\"outcomeType\": 1, \"valueTowardsCompletion\": 0.25, \"interactionType\": 1, \"questionType\": 2, \"questionId\": \"3_ValPreds\", \"learnToolsVersion\": \"0.3.4\", \"failureMessage\": \"\", \"exceptionClass\": \"\", \"trace\": \"\"}}, \"*\")"
      ],
      "text/plain": [
       "<IPython.core.display.Javascript object>"
      ]
     },
     "metadata": {},
     "output_type": "display_data"
    },
    {
     "data": {
      "text/markdown": [
       "<span style=\"color:#33cc33\">Correct</span>"
      ],
      "text/plain": [
       "Correct"
      ]
     },
     "metadata": {},
     "output_type": "display_data"
    }
   ],
   "source": [
    "# Predict with all validation observations\n",
    "val_predictions = iowa_model.predict(val_X)\n",
    "\n",
    "# Check your answer\n",
    "step_3.check()"
   ]
  },
  {
   "cell_type": "code",
   "execution_count": 7,
   "id": "495572d1",
   "metadata": {
    "execution": {
     "iopub.execute_input": "2023-08-23T08:47:59.944483Z",
     "iopub.status.busy": "2023-08-23T08:47:59.944008Z",
     "iopub.status.idle": "2023-08-23T08:47:59.949168Z",
     "shell.execute_reply": "2023-08-23T08:47:59.947785Z"
    },
    "papermill": {
     "duration": 0.017517,
     "end_time": "2023-08-23T08:47:59.951522",
     "exception": false,
     "start_time": "2023-08-23T08:47:59.934005",
     "status": "completed"
    },
    "tags": []
   },
   "outputs": [],
   "source": [
    "# step_3.hint()\n",
    "# step_3.solution()"
   ]
  },
  {
   "cell_type": "markdown",
   "id": "60b45d9f",
   "metadata": {
    "papermill": {
     "duration": 0.007605,
     "end_time": "2023-08-23T08:47:59.967361",
     "exception": false,
     "start_time": "2023-08-23T08:47:59.959756",
     "status": "completed"
    },
    "tags": []
   },
   "source": [
    "Inspect your predictions and actual values from validation data."
   ]
  },
  {
   "cell_type": "code",
   "execution_count": 8,
   "id": "bd463651",
   "metadata": {
    "execution": {
     "iopub.execute_input": "2023-08-23T08:47:59.985014Z",
     "iopub.status.busy": "2023-08-23T08:47:59.984615Z",
     "iopub.status.idle": "2023-08-23T08:47:59.991059Z",
     "shell.execute_reply": "2023-08-23T08:47:59.989712Z"
    },
    "papermill": {
     "duration": 0.018604,
     "end_time": "2023-08-23T08:47:59.993972",
     "exception": false,
     "start_time": "2023-08-23T08:47:59.975368",
     "status": "completed"
    },
    "tags": []
   },
   "outputs": [
    {
     "name": "stdout",
     "output_type": "stream",
     "text": [
      "\n",
      "<learntools.core.constants.PlaceholderValue object at 0x7d36858275b0>\n"
     ]
    }
   ],
   "source": [
    "# print the top few validation predictions\n",
    "print(___)\n",
    "# print the top few actual prices from validation data\n",
    "print(____)"
   ]
  },
  {
   "cell_type": "markdown",
   "id": "17cd185d",
   "metadata": {
    "papermill": {
     "duration": 0.009635,
     "end_time": "2023-08-23T08:48:00.012522",
     "exception": false,
     "start_time": "2023-08-23T08:48:00.002887",
     "status": "completed"
    },
    "tags": []
   },
   "source": [
    "What do you notice that is different from what you saw with in-sample predictions (which are printed after the top code cell in this page).\n",
    "\n",
    "Do you remember why validation predictions differ from in-sample (or training) predictions? This is an important idea from the last lesson.\n",
    "\n",
    "## Step 4: Calculate the Mean Absolute Error in Validation Data\n"
   ]
  },
  {
   "cell_type": "code",
   "execution_count": 9,
   "id": "e5413568",
   "metadata": {
    "execution": {
     "iopub.execute_input": "2023-08-23T08:48:00.031577Z",
     "iopub.status.busy": "2023-08-23T08:48:00.031163Z",
     "iopub.status.idle": "2023-08-23T08:48:00.044526Z",
     "shell.execute_reply": "2023-08-23T08:48:00.043211Z"
    },
    "papermill": {
     "duration": 0.025892,
     "end_time": "2023-08-23T08:48:00.046944",
     "exception": false,
     "start_time": "2023-08-23T08:48:00.021052",
     "status": "completed"
    },
    "tags": []
   },
   "outputs": [
    {
     "name": "stdout",
     "output_type": "stream",
     "text": [
      "29652.931506849316\n"
     ]
    },
    {
     "data": {
      "application/javascript": [
       "parent.postMessage({\"jupyterEvent\": \"custom.exercise_interaction\", \"data\": {\"outcomeType\": 1, \"valueTowardsCompletion\": 0.25, \"interactionType\": 1, \"questionType\": 1, \"questionId\": \"4_MAE\", \"learnToolsVersion\": \"0.3.4\", \"failureMessage\": \"\", \"exceptionClass\": \"\", \"trace\": \"\"}}, \"*\")"
      ],
      "text/plain": [
       "<IPython.core.display.Javascript object>"
      ]
     },
     "metadata": {},
     "output_type": "display_data"
    },
    {
     "data": {
      "text/markdown": [
       "<span style=\"color:#33cc33\">Correct</span>"
      ],
      "text/plain": [
       "Correct"
      ]
     },
     "metadata": {},
     "output_type": "display_data"
    }
   ],
   "source": [
    "from sklearn.metrics import mean_absolute_error\n",
    "val_mae = mean_absolute_error(val_y, val_predictions)\n",
    "\n",
    "# uncomment following line to see the validation_mae\n",
    "print(val_mae)\n",
    "\n",
    "# Check your answer\n",
    "step_4.check()"
   ]
  },
  {
   "cell_type": "code",
   "execution_count": 10,
   "id": "7a4df51c",
   "metadata": {
    "execution": {
     "iopub.execute_input": "2023-08-23T08:48:00.066545Z",
     "iopub.status.busy": "2023-08-23T08:48:00.065871Z",
     "iopub.status.idle": "2023-08-23T08:48:00.069962Z",
     "shell.execute_reply": "2023-08-23T08:48:00.069119Z"
    },
    "papermill": {
     "duration": 0.016877,
     "end_time": "2023-08-23T08:48:00.072404",
     "exception": false,
     "start_time": "2023-08-23T08:48:00.055527",
     "status": "completed"
    },
    "tags": []
   },
   "outputs": [],
   "source": [
    "# step_4.hint()\n",
    "# step_4.solution()"
   ]
  },
  {
   "cell_type": "markdown",
   "id": "b0a65ea3",
   "metadata": {
    "papermill": {
     "duration": 0.008597,
     "end_time": "2023-08-23T08:48:00.089583",
     "exception": false,
     "start_time": "2023-08-23T08:48:00.080986",
     "status": "completed"
    },
    "tags": []
   },
   "source": [
    "Is that MAE good?  There isn't a general rule for what values are good that applies across applications. But you'll see how to use (and improve) this number in the next step.\n",
    "\n",
    "# Keep Going\n",
    "\n",
    "You are ready for **[Underfitting and Overfitting](https://www.kaggle.com/dansbecker/underfitting-and-overfitting).**\n"
   ]
  },
  {
   "cell_type": "markdown",
   "id": "152da329",
   "metadata": {
    "papermill": {
     "duration": 0.008208,
     "end_time": "2023-08-23T08:48:00.106632",
     "exception": false,
     "start_time": "2023-08-23T08:48:00.098424",
     "status": "completed"
    },
    "tags": []
   },
   "source": [
    "---\n",
    "\n",
    "\n",
    "\n",
    "\n",
    "*Have questions or comments? Visit the [course discussion forum](https://www.kaggle.com/learn/intro-to-machine-learning/discussion) to chat with other learners.*"
   ]
  }
 ],
 "metadata": {
  "kernelspec": {
   "display_name": "Python 3",
   "language": "python",
   "name": "python3"
  },
  "language_info": {
   "codemirror_mode": {
    "name": "ipython",
    "version": 3
   },
   "file_extension": ".py",
   "mimetype": "text/x-python",
   "name": "python",
   "nbconvert_exporter": "python",
   "pygments_lexer": "ipython3",
   "version": "3.10.12"
  },
  "papermill": {
   "default_parameters": {},
   "duration": 16.665384,
   "end_time": "2023-08-23T08:48:01.239809",
   "environment_variables": {},
   "exception": null,
   "input_path": "__notebook__.ipynb",
   "output_path": "__notebook__.ipynb",
   "parameters": {},
   "start_time": "2023-08-23T08:47:44.574425",
   "version": "2.4.0"
  }
 },
 "nbformat": 4,
 "nbformat_minor": 5
}
