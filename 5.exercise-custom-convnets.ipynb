{
 "cells": [
  {
   "cell_type": "markdown",
   "id": "a6aeedd3",
   "metadata": {
    "papermill": {
     "duration": 0.008138,
     "end_time": "2023-09-02T08:51:14.973049",
     "exception": false,
     "start_time": "2023-09-02T08:51:14.964911",
     "status": "completed"
    },
    "tags": []
   },
   "source": [
    "**This notebook is an exercise in the [Computer Vision](https://www.kaggle.com/learn/computer-vision) course.  You can reference the tutorial at [this link](https://www.kaggle.com/ryanholbrook/custom-convnets).**\n",
    "\n",
    "---\n"
   ]
  },
  {
   "cell_type": "markdown",
   "id": "9e968f0e",
   "metadata": {
    "papermill": {
     "duration": 0.005512,
     "end_time": "2023-09-02T08:51:14.985424",
     "exception": false,
     "start_time": "2023-09-02T08:51:14.979912",
     "status": "completed"
    },
    "tags": []
   },
   "source": [
    "# Introduction #\n",
    "\n",
    "In these exercises, you'll build a custom convnet with performance competitive to the VGG16 model from Lesson 1.\n",
    "\n",
    "Get started by running the code cell below."
   ]
  },
  {
   "cell_type": "code",
   "execution_count": 1,
   "id": "b0843a51",
   "metadata": {
    "execution": {
     "iopub.execute_input": "2023-09-02T08:51:14.999581Z",
     "iopub.status.busy": "2023-09-02T08:51:14.998442Z",
     "iopub.status.idle": "2023-09-02T08:51:38.958496Z",
     "shell.execute_reply": "2023-09-02T08:51:38.957234Z"
    },
    "papermill": {
     "duration": 23.969812,
     "end_time": "2023-09-02T08:51:38.961026",
     "exception": false,
     "start_time": "2023-09-02T08:51:14.991214",
     "status": "completed"
    },
    "tags": []
   },
   "outputs": [
    {
     "name": "stdout",
     "output_type": "stream",
     "text": [
      "Found 5117 files belonging to 2 classes.\n",
      "Found 5051 files belonging to 2 classes.\n"
     ]
    }
   ],
   "source": [
    "# Setup feedback system\n",
    "from learntools.core import binder\n",
    "binder.bind(globals())\n",
    "from learntools.computer_vision.ex5 import *\n",
    "\n",
    "# Imports\n",
    "import os, warnings\n",
    "import matplotlib.pyplot as plt\n",
    "from matplotlib import gridspec\n",
    "\n",
    "import numpy as np\n",
    "import tensorflow as tf\n",
    "from tensorflow.keras.preprocessing import image_dataset_from_directory\n",
    "\n",
    "# Reproducability\n",
    "def set_seed(seed=31415):\n",
    "    np.random.seed(seed)\n",
    "    tf.random.set_seed(seed)\n",
    "    os.environ['PYTHONHASHSEED'] = str(seed)\n",
    "    os.environ['TF_DETERMINISTIC_OPS'] = '1'\n",
    "set_seed()\n",
    "\n",
    "# Set Matplotlib defaults\n",
    "plt.rc('figure', autolayout=True)\n",
    "plt.rc('axes', labelweight='bold', labelsize='large',\n",
    "       titleweight='bold', titlesize=18, titlepad=10)\n",
    "plt.rc('image', cmap='magma')\n",
    "warnings.filterwarnings(\"ignore\") # to clean up output cells\n",
    "\n",
    "\n",
    "# Load training and validation sets\n",
    "ds_train_ = image_dataset_from_directory(\n",
    "    '../input/car-or-truck/train',\n",
    "    labels='inferred',\n",
    "    label_mode='binary',\n",
    "    image_size=[128, 128],\n",
    "    interpolation='nearest',\n",
    "    batch_size=64,\n",
    "    shuffle=True,\n",
    ")\n",
    "ds_valid_ = image_dataset_from_directory(\n",
    "    '../input/car-or-truck/valid',\n",
    "    labels='inferred',\n",
    "    label_mode='binary',\n",
    "    image_size=[128, 128],\n",
    "    interpolation='nearest',\n",
    "    batch_size=64,\n",
    "    shuffle=False,\n",
    ")\n",
    "\n",
    "# Data Pipeline\n",
    "def convert_to_float(image, label):\n",
    "    image = tf.image.convert_image_dtype(image, dtype=tf.float32)\n",
    "    return image, label\n",
    "\n",
    "AUTOTUNE = tf.data.experimental.AUTOTUNE\n",
    "ds_train = (\n",
    "    ds_train_\n",
    "    .map(convert_to_float)\n",
    "    .cache()\n",
    "    .prefetch(buffer_size=AUTOTUNE)\n",
    ")\n",
    "ds_valid = (\n",
    "    ds_valid_\n",
    "    .map(convert_to_float)\n",
    "    .cache()\n",
    "    .prefetch(buffer_size=AUTOTUNE)\n",
    ")\n"
   ]
  },
  {
   "cell_type": "markdown",
   "id": "f27a4f11",
   "metadata": {
    "papermill": {
     "duration": 0.005594,
     "end_time": "2023-09-02T08:51:38.972867",
     "exception": false,
     "start_time": "2023-09-02T08:51:38.967273",
     "status": "completed"
    },
    "tags": []
   },
   "source": [
    "# Design a Convnet #\n",
    "\n",
    "Let's design a convolutional network with a block architecture like we saw in the tutorial. The model from the example had three blocks, each with a single convolutional layer. Its performance on the \"Car or Truck\" problem was okay, but far from what the pretrained VGG16 could achieve. It might be that our simple network lacks the ability to extract sufficiently complex features. We could try improving the model either by adding more blocks or by adding convolutions to the blocks we have.\n",
    "\n",
    "Let's go with the second approach. We'll keep the three block structure, but increase the number of `Conv2D` layer in the second block to two, and in the third block to three.\n",
    "\n",
    "<figure>\n",
    "<!-- <img src=\"./images/2-convmodel-2.png\" width=\"250\" alt=\"Diagram of a convolutional model.\"> -->\n",
    "<img src=\"https://storage.googleapis.com/kaggle-media/learn/images/Vko6nCK.png\" width=\"250\" alt=\"Diagram of a convolutional model.\">\n",
    "</figure>\n",
    "\n",
    "# 1) Define Model #\n",
    "\n",
    "Given the diagram above, complete the model by defining the layers of the third block."
   ]
  },
  {
   "cell_type": "code",
   "execution_count": 2,
   "id": "6f6e8c60",
   "metadata": {
    "execution": {
     "iopub.execute_input": "2023-09-02T08:51:38.986751Z",
     "iopub.status.busy": "2023-09-02T08:51:38.986335Z",
     "iopub.status.idle": "2023-09-02T08:51:39.172519Z",
     "shell.execute_reply": "2023-09-02T08:51:39.171666Z"
    },
    "lines_to_next_cell": 0,
    "papermill": {
     "duration": 0.195904,
     "end_time": "2023-09-02T08:51:39.174673",
     "exception": false,
     "start_time": "2023-09-02T08:51:38.978769",
     "status": "completed"
    },
    "tags": []
   },
   "outputs": [
    {
     "data": {
      "application/javascript": [
       "parent.postMessage({\"jupyterEvent\": \"custom.exercise_interaction\", \"data\": {\"outcomeType\": 1, \"valueTowardsCompletion\": 0.3333333333333333, \"interactionType\": 1, \"questionType\": 2, \"questionId\": \"1_Q1\", \"learnToolsVersion\": \"0.3.4\", \"failureMessage\": \"\", \"exceptionClass\": \"\", \"trace\": \"\"}}, \"*\")"
      ],
      "text/plain": [
       "<IPython.core.display.Javascript object>"
      ]
     },
     "metadata": {},
     "output_type": "display_data"
    },
    {
     "data": {
      "text/markdown": [
       "<span style=\"color:#33cc33\">Correct</span>"
      ],
      "text/plain": [
       "Correct"
      ]
     },
     "metadata": {},
     "output_type": "display_data"
    }
   ],
   "source": [
    "from tensorflow import keras\n",
    "from tensorflow.keras import layers\n",
    "\n",
    "model = keras.Sequential([\n",
    "    # Block One\n",
    "    layers.Conv2D(filters=32, kernel_size=3, activation='relu', padding='same',\n",
    "                  input_shape=[128, 128, 3]),\n",
    "    layers.MaxPool2D(),\n",
    "\n",
    "    # Block Two\n",
    "    layers.Conv2D(filters=64, kernel_size=3, activation='relu', padding='same'),\n",
    "    layers.MaxPool2D(),\n",
    "\n",
    "    # Block Three\n",
    "    layers.Conv2D(filters=128, kernel_size=3, activation='relu', padding='same'),\n",
    "    layers.Conv2D(filters=128, kernel_size=3, activation='relu', padding='same'),\n",
    "    layers.MaxPool2D(),\n",
    "\n",
    "    # Head\n",
    "    layers.Flatten(),\n",
    "    layers.Dense(6, activation='relu'),\n",
    "    layers.Dropout(0.2),\n",
    "    layers.Dense(1, activation='sigmoid'),\n",
    "])\n",
    "\n",
    "# Check your answer\n",
    "q_1.check()"
   ]
  },
  {
   "cell_type": "code",
   "execution_count": 3,
   "id": "3b411ead",
   "metadata": {
    "execution": {
     "iopub.execute_input": "2023-09-02T08:51:39.189487Z",
     "iopub.status.busy": "2023-09-02T08:51:39.188636Z",
     "iopub.status.idle": "2023-09-02T08:51:39.192904Z",
     "shell.execute_reply": "2023-09-02T08:51:39.192097Z"
    },
    "papermill": {
     "duration": 0.013698,
     "end_time": "2023-09-02T08:51:39.194814",
     "exception": false,
     "start_time": "2023-09-02T08:51:39.181116",
     "status": "completed"
    },
    "tags": []
   },
   "outputs": [],
   "source": [
    "# Lines below will give you a hint or solution code\n",
    "#q_1.hint()\n",
    "#q_1.solution()"
   ]
  },
  {
   "cell_type": "markdown",
   "id": "b52f146a",
   "metadata": {
    "papermill": {
     "duration": 0.006374,
     "end_time": "2023-09-02T08:51:39.207479",
     "exception": false,
     "start_time": "2023-09-02T08:51:39.201105",
     "status": "completed"
    },
    "tags": []
   },
   "source": [
    "# 2) Compile #\n",
    "\n",
    "To prepare for training, compile the model with an appropriate loss and accuracy metric for the \"Car or Truck\" dataset."
   ]
  },
  {
   "cell_type": "code",
   "execution_count": 4,
   "id": "d03621b7",
   "metadata": {
    "execution": {
     "iopub.execute_input": "2023-09-02T08:51:39.222241Z",
     "iopub.status.busy": "2023-09-02T08:51:39.221809Z",
     "iopub.status.idle": "2023-09-02T08:51:39.244486Z",
     "shell.execute_reply": "2023-09-02T08:51:39.243233Z"
    },
    "lines_to_next_cell": 0,
    "papermill": {
     "duration": 0.033084,
     "end_time": "2023-09-02T08:51:39.246806",
     "exception": false,
     "start_time": "2023-09-02T08:51:39.213722",
     "status": "completed"
    },
    "tags": []
   },
   "outputs": [
    {
     "data": {
      "application/javascript": [
       "parent.postMessage({\"jupyterEvent\": \"custom.exercise_interaction\", \"data\": {\"outcomeType\": 1, \"valueTowardsCompletion\": 0.3333333333333333, \"interactionType\": 1, \"questionType\": 2, \"questionId\": \"2_Q2\", \"learnToolsVersion\": \"0.3.4\", \"failureMessage\": \"\", \"exceptionClass\": \"\", \"trace\": \"\"}}, \"*\")"
      ],
      "text/plain": [
       "<IPython.core.display.Javascript object>"
      ]
     },
     "metadata": {},
     "output_type": "display_data"
    },
    {
     "data": {
      "text/markdown": [
       "<span style=\"color:#33cc33\">Correct</span>"
      ],
      "text/plain": [
       "Correct"
      ]
     },
     "metadata": {},
     "output_type": "display_data"
    }
   ],
   "source": [
    "model.compile(\n",
    "    optimizer=tf.keras.optimizers.Adam(learning_rate=0.0001),\n",
    "    loss='binary_crossentropy',\n",
    "    metrics=['binary_accuracy'],\n",
    ")\n",
    "\n",
    "# Check your answer\n",
    "q_2.check()"
   ]
  },
  {
   "cell_type": "code",
   "execution_count": 5,
   "id": "3df0c189",
   "metadata": {
    "execution": {
     "iopub.execute_input": "2023-09-02T08:51:39.262289Z",
     "iopub.status.busy": "2023-09-02T08:51:39.261877Z",
     "iopub.status.idle": "2023-09-02T08:51:39.282257Z",
     "shell.execute_reply": "2023-09-02T08:51:39.281267Z"
    },
    "lines_to_next_cell": 0,
    "papermill": {
     "duration": 0.030975,
     "end_time": "2023-09-02T08:51:39.284414",
     "exception": false,
     "start_time": "2023-09-02T08:51:39.253439",
     "status": "completed"
    },
    "tags": []
   },
   "outputs": [
    {
     "data": {
      "application/javascript": [
       "parent.postMessage({\"jupyterEvent\": \"custom.exercise_interaction\", \"data\": {\"outcomeType\": 1, \"valueTowardsCompletion\": 0.3333333333333333, \"interactionType\": 1, \"questionType\": 2, \"questionId\": \"2_Q2\", \"learnToolsVersion\": \"0.3.4\", \"failureMessage\": \"\", \"exceptionClass\": \"\", \"trace\": \"\"}}, \"*\")"
      ],
      "text/plain": [
       "<IPython.core.display.Javascript object>"
      ]
     },
     "metadata": {},
     "output_type": "display_data"
    },
    {
     "data": {
      "text/markdown": [
       "<span style=\"color:#33cc33\">Correct</span>"
      ],
      "text/plain": [
       "Correct"
      ]
     },
     "metadata": {},
     "output_type": "display_data"
    }
   ],
   "source": [
    "model.compile(\n",
    "    optimizer=tf.keras.optimizers.Adam(epsilon=0.01),\n",
    "    loss='binary_crossentropy',\n",
    "    metrics=['binary_accuracy'],\n",
    ")\n",
    "q_2.assert_check_passed()"
   ]
  },
  {
   "cell_type": "code",
   "execution_count": 6,
   "id": "43bac4a2",
   "metadata": {
    "execution": {
     "iopub.execute_input": "2023-09-02T08:51:39.300086Z",
     "iopub.status.busy": "2023-09-02T08:51:39.299686Z",
     "iopub.status.idle": "2023-09-02T08:51:39.304642Z",
     "shell.execute_reply": "2023-09-02T08:51:39.303372Z"
    },
    "lines_to_next_cell": 0,
    "papermill": {
     "duration": 0.015157,
     "end_time": "2023-09-02T08:51:39.306859",
     "exception": false,
     "start_time": "2023-09-02T08:51:39.291702",
     "status": "completed"
    },
    "tags": []
   },
   "outputs": [],
   "source": [
    "# Lines below will give you a hint or solution code\n",
    "#q_2.hint()\n",
    "#q_2.solution()"
   ]
  },
  {
   "cell_type": "markdown",
   "id": "b632de7b",
   "metadata": {
    "papermill": {
     "duration": 0.00745,
     "end_time": "2023-09-02T08:51:39.321539",
     "exception": false,
     "start_time": "2023-09-02T08:51:39.314089",
     "status": "completed"
    },
    "tags": []
   },
   "source": [
    "Finally, let's test the performance of this new model. First run this cell to fit the model to the training set."
   ]
  },
  {
   "cell_type": "code",
   "execution_count": 7,
   "id": "81688eb8",
   "metadata": {
    "execution": {
     "iopub.execute_input": "2023-09-02T08:51:39.337319Z",
     "iopub.status.busy": "2023-09-02T08:51:39.336910Z",
     "iopub.status.idle": "2023-09-02T08:51:39.341311Z",
     "shell.execute_reply": "2023-09-02T08:51:39.340361Z"
    },
    "papermill": {
     "duration": 0.014501,
     "end_time": "2023-09-02T08:51:39.343217",
     "exception": false,
     "start_time": "2023-09-02T08:51:39.328716",
     "status": "completed"
    },
    "tags": []
   },
   "outputs": [],
   "source": [
    "#history = model.fit(\n",
    "    #ds_train,\n",
    "    #validation_data=ds_valid,\n",
    "    #epochs=50,\n",
    "#)"
   ]
  },
  {
   "cell_type": "markdown",
   "id": "39fde9d7",
   "metadata": {
    "papermill": {
     "duration": 0.006584,
     "end_time": "2023-09-02T08:51:39.356960",
     "exception": false,
     "start_time": "2023-09-02T08:51:39.350376",
     "status": "completed"
    },
    "tags": []
   },
   "source": [
    "And now run the cell below to plot the loss and metric curves for this training run."
   ]
  },
  {
   "cell_type": "code",
   "execution_count": 8,
   "id": "fddf9a17",
   "metadata": {
    "execution": {
     "iopub.execute_input": "2023-09-02T08:51:39.372737Z",
     "iopub.status.busy": "2023-09-02T08:51:39.372323Z",
     "iopub.status.idle": "2023-09-02T08:51:39.377227Z",
     "shell.execute_reply": "2023-09-02T08:51:39.375981Z"
    },
    "papermill": {
     "duration": 0.015638,
     "end_time": "2023-09-02T08:51:39.379431",
     "exception": false,
     "start_time": "2023-09-02T08:51:39.363793",
     "status": "completed"
    },
    "tags": []
   },
   "outputs": [],
   "source": [
    "#import pandas as pd\n",
    "#history_frame = pd.DataFrame(history.history)\n",
    "#history_frame.loc[:, ['loss', 'val_loss']].plot()\n",
    "#history_frame.loc[:, ['binary_accuracy', 'val_binary_accuracy']].plot();"
   ]
  },
  {
   "cell_type": "markdown",
   "id": "5024ec90",
   "metadata": {
    "papermill": {
     "duration": 0.006806,
     "end_time": "2023-09-02T08:51:39.393331",
     "exception": false,
     "start_time": "2023-09-02T08:51:39.386525",
     "status": "completed"
    },
    "tags": []
   },
   "source": [
    "# 3) Train the Model #\n",
    "\n",
    "How would you interpret these training curves? Did this model improve upon the model from the tutorial?"
   ]
  },
  {
   "cell_type": "code",
   "execution_count": 9,
   "id": "13d837c0",
   "metadata": {
    "execution": {
     "iopub.execute_input": "2023-09-02T08:51:39.408668Z",
     "iopub.status.busy": "2023-09-02T08:51:39.408263Z",
     "iopub.status.idle": "2023-09-02T08:51:39.416297Z",
     "shell.execute_reply": "2023-09-02T08:51:39.415223Z"
    },
    "lines_to_next_cell": 0,
    "papermill": {
     "duration": 0.018197,
     "end_time": "2023-09-02T08:51:39.418257",
     "exception": false,
     "start_time": "2023-09-02T08:51:39.400060",
     "status": "completed"
    },
    "tags": []
   },
   "outputs": [
    {
     "data": {
      "application/javascript": [
       "parent.postMessage({\"jupyterEvent\": \"custom.exercise_interaction\", \"data\": {\"outcomeType\": 1, \"valueTowardsCompletion\": 0.3333333333333333, \"interactionType\": 1, \"questionType\": 4, \"questionId\": \"3_Q3\", \"learnToolsVersion\": \"0.3.4\", \"failureMessage\": \"\", \"exceptionClass\": \"\", \"trace\": \"\"}}, \"*\")"
      ],
      "text/plain": [
       "<IPython.core.display.Javascript object>"
      ]
     },
     "metadata": {},
     "output_type": "display_data"
    },
    {
     "data": {
      "text/markdown": [
       "<span style=\"color:#33cc33\">Correct:</span> \n",
       "\n",
       "\n",
       "The learning curves for the model from the tutorial diverged fairly rapidly. This would indicate that it was prone to overfitting and in need of some regularization. The additional layer in our new model would make it even more prone to overfitting. However, adding some regularization with the `Dropout` layer helped prevent this. These changes improved the validation accuracy of the model by several points.\n"
      ],
      "text/plain": [
       "Correct: \n",
       "\n",
       "\n",
       "The learning curves for the model from the tutorial diverged fairly rapidly. This would indicate that it was prone to overfitting and in need of some regularization. The additional layer in our new model would make it even more prone to overfitting. However, adding some regularization with the `Dropout` layer helped prevent this. These changes improved the validation accuracy of the model by several points."
      ]
     },
     "metadata": {},
     "output_type": "display_data"
    }
   ],
   "source": [
    "# View the solution (Run this code cell to receive credit!)\n",
    "q_3.check()"
   ]
  },
  {
   "cell_type": "markdown",
   "id": "211d738f",
   "metadata": {
    "papermill": {
     "duration": 0.006893,
     "end_time": "2023-09-02T08:51:39.433261",
     "exception": false,
     "start_time": "2023-09-02T08:51:39.426368",
     "status": "completed"
    },
    "tags": []
   },
   "source": [
    "# Conclusion #\n",
    "\n",
    "These exercises showed you how to design a custom convolutional network to solve a specific classification problem. Though most models these days will be built on top of a pretrained base, it certain circumstances a smaller custom convnet might still be preferable -- such as with a smaller or unusual dataset or when computing resources are very limited. As you saw here, for certain problems they can perform just as well as a pretrained model.\n",
    "\n",
    "# Keep Going #\n",
    "\n",
    "Continue on to [**Lesson 6**](https://www.kaggle.com/ryanholbrook/data-augmentation), where you'll learn a widely-used technique that can give a boost to your training data: **data augmentation**."
   ]
  },
  {
   "cell_type": "markdown",
   "id": "404512b7",
   "metadata": {
    "papermill": {
     "duration": 0.006989,
     "end_time": "2023-09-02T08:51:39.447291",
     "exception": false,
     "start_time": "2023-09-02T08:51:39.440302",
     "status": "completed"
    },
    "tags": []
   },
   "source": [
    "---\n",
    "\n",
    "\n",
    "\n",
    "\n",
    "*Have questions or comments? Visit the [course discussion forum](https://www.kaggle.com/learn/computer-vision/discussion) to chat with other learners.*"
   ]
  }
 ],
 "kernelspec": {
  "display_name": "Python 3",
  "language": "python",
  "name": "python3"
 },
 "language_info": {
  "codemirror_mode": {
   "name": "ipython",
   "version": 3
  },
  "file_extension": ".py",
  "mimetype": "text/x-python",
  "name": "python",
  "nbconvert_exporter": "python",
  "pygments_lexer": "ipython3",
  "version": "3.6.4"
 },
 "metadata": {
  "jupytext": {
   "formats": "md,ipynb"
  },
  "kernelspec": {
   "display_name": "Python 3",
   "language": "python",
   "name": "python3"
  },
  "language_info": {
   "codemirror_mode": {
    "name": "ipython",
    "version": 3
   },
   "file_extension": ".py",
   "mimetype": "text/x-python",
   "name": "python",
   "nbconvert_exporter": "python",
   "pygments_lexer": "ipython3",
   "version": "3.10.12"
  },
  "papermill": {
   "default_parameters": {},
   "duration": 30.405598,
   "end_time": "2023-09-02T08:51:41.987613",
   "environment_variables": {},
   "exception": null,
   "input_path": "__notebook__.ipynb",
   "output_path": "__notebook__.ipynb",
   "parameters": {},
   "start_time": "2023-09-02T08:51:11.582015",
   "version": "2.4.0"
  }
 },
 "nbformat": 4,
 "nbformat_minor": 5
}
