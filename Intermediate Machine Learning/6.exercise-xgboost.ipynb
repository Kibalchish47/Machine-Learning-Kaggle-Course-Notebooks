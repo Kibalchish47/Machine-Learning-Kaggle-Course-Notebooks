{
 "cells": [
  {
   "cell_type": "markdown",
   "id": "66ba12c2",
   "metadata": {
    "papermill": {
     "duration": 0.004925,
     "end_time": "2023-08-24T09:51:34.859493",
     "exception": false,
     "start_time": "2023-08-24T09:51:34.854568",
     "status": "completed"
    },
    "tags": []
   },
   "source": [
    "**This notebook is an exercise in the [Intermediate Machine Learning](https://www.kaggle.com/learn/intermediate-machine-learning) course.  You can reference the tutorial at [this link](https://www.kaggle.com/alexisbcook/xgboost).**\n",
    "\n",
    "---\n"
   ]
  },
  {
   "cell_type": "markdown",
   "id": "2e57afd8",
   "metadata": {
    "papermill": {
     "duration": 0.004022,
     "end_time": "2023-08-24T09:51:34.867804",
     "exception": false,
     "start_time": "2023-08-24T09:51:34.863782",
     "status": "completed"
    },
    "tags": []
   },
   "source": [
    "In this exercise, you will use your new knowledge to train a model with **gradient boosting**.\n",
    "\n",
    "# Setup\n",
    "\n",
    "The questions below will give you feedback on your work. Run the following cell to set up the feedback system."
   ]
  },
  {
   "cell_type": "code",
   "execution_count": 1,
   "id": "8b10bc63",
   "metadata": {
    "execution": {
     "iopub.execute_input": "2023-08-24T09:51:34.877949Z",
     "iopub.status.busy": "2023-08-24T09:51:34.877601Z",
     "iopub.status.idle": "2023-08-24T09:51:37.217049Z",
     "shell.execute_reply": "2023-08-24T09:51:37.216291Z"
    },
    "papermill": {
     "duration": 2.347753,
     "end_time": "2023-08-24T09:51:37.219796",
     "exception": false,
     "start_time": "2023-08-24T09:51:34.872043",
     "status": "completed"
    },
    "tags": []
   },
   "outputs": [
    {
     "name": "stderr",
     "output_type": "stream",
     "text": [
      "/opt/conda/lib/python3.10/site-packages/scipy/__init__.py:146: UserWarning: A NumPy version >=1.16.5 and <1.23.0 is required for this version of SciPy (detected version 1.23.5\n",
      "  warnings.warn(f\"A NumPy version >={np_minversion} and <{np_maxversion}\"\n"
     ]
    },
    {
     "name": "stdout",
     "output_type": "stream",
     "text": [
      "Setup Complete\n"
     ]
    }
   ],
   "source": [
    "# Set up code checking\n",
    "import os\n",
    "if not os.path.exists(\"../input/train.csv\"):\n",
    "    os.symlink(\"../input/home-data-for-ml-course/train.csv\", \"../input/train.csv\")  \n",
    "    os.symlink(\"../input/home-data-for-ml-course/test.csv\", \"../input/test.csv\") \n",
    "from learntools.core import binder\n",
    "binder.bind(globals())\n",
    "from learntools.ml_intermediate.ex6 import *\n",
    "print(\"Setup Complete\")"
   ]
  },
  {
   "cell_type": "markdown",
   "id": "c1f68395",
   "metadata": {
    "papermill": {
     "duration": 0.004433,
     "end_time": "2023-08-24T09:51:37.229993",
     "exception": false,
     "start_time": "2023-08-24T09:51:37.225560",
     "status": "completed"
    },
    "tags": []
   },
   "source": [
    "You will work with the [Housing Prices Competition for Kaggle Learn Users](https://www.kaggle.com/c/home-data-for-ml-course) dataset from the previous exercise. \n",
    "\n",
    "![Ames Housing dataset image](https://storage.googleapis.com/kaggle-media/learn/images/lTJVG4e.png)\n",
    "\n",
    "Run the next code cell without changes to load the training and validation sets in `X_train`, `X_valid`, `y_train`, and `y_valid`.  The test set is loaded in `X_test`."
   ]
  },
  {
   "cell_type": "code",
   "execution_count": 2,
   "id": "16619297",
   "metadata": {
    "execution": {
     "iopub.execute_input": "2023-08-24T09:51:37.241804Z",
     "iopub.status.busy": "2023-08-24T09:51:37.240544Z",
     "iopub.status.idle": "2023-08-24T09:51:37.382100Z",
     "shell.execute_reply": "2023-08-24T09:51:37.380771Z"
    },
    "papermill": {
     "duration": 0.150124,
     "end_time": "2023-08-24T09:51:37.384636",
     "exception": false,
     "start_time": "2023-08-24T09:51:37.234512",
     "status": "completed"
    },
    "tags": []
   },
   "outputs": [],
   "source": [
    "import pandas as pd\n",
    "from sklearn.model_selection import train_test_split\n",
    "\n",
    "# Read the data\n",
    "X = pd.read_csv('../input/train.csv', index_col='Id')\n",
    "X_test_full = pd.read_csv('../input/test.csv', index_col='Id')\n",
    "\n",
    "# Remove rows with missing target, separate target from predictors\n",
    "X.dropna(axis=0, subset=['SalePrice'], inplace=True)\n",
    "y = X.SalePrice              \n",
    "X.drop(['SalePrice'], axis=1, inplace=True)\n",
    "\n",
    "# Break off validation set from training data\n",
    "X_train_full, X_valid_full, y_train, y_valid = train_test_split(X, y, train_size=0.8, test_size=0.2,\n",
    "                                                                random_state=0)\n",
    "\n",
    "# \"Cardinality\" means the number of unique values in a column\n",
    "# Select categorical columns with relatively low cardinality (convenient but arbitrary)\n",
    "low_cardinality_cols = [cname for cname in X_train_full.columns if X_train_full[cname].nunique() < 10 and \n",
    "                        X_train_full[cname].dtype == \"object\"]\n",
    "\n",
    "# Select numeric columns\n",
    "numeric_cols = [cname for cname in X_train_full.columns if X_train_full[cname].dtype in ['int64', 'float64']]\n",
    "\n",
    "# Keep selected columns only\n",
    "my_cols = low_cardinality_cols + numeric_cols\n",
    "X_train = X_train_full[my_cols].copy()\n",
    "X_valid = X_valid_full[my_cols].copy()\n",
    "X_test = X_test_full[my_cols].copy()\n",
    "\n",
    "# One-hot encode the data (to shorten the code, we use pandas)\n",
    "X_train = pd.get_dummies(X_train)\n",
    "X_valid = pd.get_dummies(X_valid)\n",
    "X_test = pd.get_dummies(X_test)\n",
    "X_train, X_valid = X_train.align(X_valid, join='left', axis=1)\n",
    "X_train, X_test = X_train.align(X_test, join='left', axis=1)"
   ]
  },
  {
   "cell_type": "markdown",
   "id": "7de2ee01",
   "metadata": {
    "papermill": {
     "duration": 0.005521,
     "end_time": "2023-08-24T09:51:37.394793",
     "exception": false,
     "start_time": "2023-08-24T09:51:37.389272",
     "status": "completed"
    },
    "tags": []
   },
   "source": [
    "# Step 1: Build model\n",
    "\n",
    "### Part A\n",
    "\n",
    "In this step, you'll build and train your first model with gradient boosting.\n",
    "\n",
    "- Begin by setting `my_model_1` to an XGBoost model.  Use the [XGBRegressor](https://xgboost.readthedocs.io/en/latest/python/python_api.html#xgboost.XGBRegressor) class, and set the random seed to 0 (`random_state=0`).  **Leave all other parameters as default.**\n",
    "- Then, fit the model to the training data in `X_train` and `y_train`."
   ]
  },
  {
   "cell_type": "code",
   "execution_count": 3,
   "id": "12a20dfc",
   "metadata": {
    "execution": {
     "iopub.execute_input": "2023-08-24T09:51:37.406553Z",
     "iopub.status.busy": "2023-08-24T09:51:37.406199Z",
     "iopub.status.idle": "2023-08-24T09:51:38.010675Z",
     "shell.execute_reply": "2023-08-24T09:51:38.010011Z"
    },
    "papermill": {
     "duration": 0.61255,
     "end_time": "2023-08-24T09:51:38.012991",
     "exception": false,
     "start_time": "2023-08-24T09:51:37.400441",
     "status": "completed"
    },
    "tags": []
   },
   "outputs": [
    {
     "data": {
      "application/javascript": [
       "parent.postMessage({\"jupyterEvent\": \"custom.exercise_interaction\", \"data\": {\"outcomeType\": 1, \"valueTowardsCompletion\": 0.5, \"interactionType\": 1, \"questionType\": 2, \"questionId\": \"1.1_Model1A\", \"learnToolsVersion\": \"0.3.4\", \"failureMessage\": \"\", \"exceptionClass\": \"\", \"trace\": \"\"}}, \"*\")"
      ],
      "text/plain": [
       "<IPython.core.display.Javascript object>"
      ]
     },
     "metadata": {},
     "output_type": "display_data"
    },
    {
     "data": {
      "text/markdown": [
       "<span style=\"color:#33cc33\">Correct</span>"
      ],
      "text/plain": [
       "Correct"
      ]
     },
     "metadata": {},
     "output_type": "display_data"
    }
   ],
   "source": [
    "from xgboost import XGBRegressor\n",
    "\n",
    "my_model_1 = XGBRegressor(random_state=0)\n",
    "my_model_1.fit(X_train, y_train)\n",
    "\n",
    "# Check your answer\n",
    "step_1.a.check()"
   ]
  },
  {
   "cell_type": "code",
   "execution_count": 4,
   "id": "0090c451",
   "metadata": {
    "execution": {
     "iopub.execute_input": "2023-08-24T09:51:38.024409Z",
     "iopub.status.busy": "2023-08-24T09:51:38.023872Z",
     "iopub.status.idle": "2023-08-24T09:51:38.027068Z",
     "shell.execute_reply": "2023-08-24T09:51:38.026403Z"
    },
    "papermill": {
     "duration": 0.0107,
     "end_time": "2023-08-24T09:51:38.028643",
     "exception": false,
     "start_time": "2023-08-24T09:51:38.017943",
     "status": "completed"
    },
    "tags": []
   },
   "outputs": [],
   "source": [
    "# Lines below will give you a hint or solution code\n",
    "#step_1.a.hint()\n",
    "#step_1.a.solution()"
   ]
  },
  {
   "cell_type": "markdown",
   "id": "44267d0f",
   "metadata": {
    "papermill": {
     "duration": 0.00446,
     "end_time": "2023-08-24T09:51:38.037795",
     "exception": false,
     "start_time": "2023-08-24T09:51:38.033335",
     "status": "completed"
    },
    "tags": []
   },
   "source": [
    "### Part B\n",
    "\n",
    "Set `predictions_1` to the model's predictions for the validation data.  Recall that the validation features are stored in `X_valid`."
   ]
  },
  {
   "cell_type": "code",
   "execution_count": 5,
   "id": "9bb18e3a",
   "metadata": {
    "execution": {
     "iopub.execute_input": "2023-08-24T09:51:38.048942Z",
     "iopub.status.busy": "2023-08-24T09:51:38.048430Z",
     "iopub.status.idle": "2023-08-24T09:51:38.067567Z",
     "shell.execute_reply": "2023-08-24T09:51:38.066842Z"
    },
    "papermill": {
     "duration": 0.026904,
     "end_time": "2023-08-24T09:51:38.069329",
     "exception": false,
     "start_time": "2023-08-24T09:51:38.042425",
     "status": "completed"
    },
    "tags": []
   },
   "outputs": [
    {
     "data": {
      "application/javascript": [
       "parent.postMessage({\"jupyterEvent\": \"custom.exercise_interaction\", \"data\": {\"outcomeType\": 1, \"valueTowardsCompletion\": 0.5, \"interactionType\": 1, \"questionType\": 2, \"questionId\": \"1.2_Model1B\", \"learnToolsVersion\": \"0.3.4\", \"failureMessage\": \"\", \"exceptionClass\": \"\", \"trace\": \"\"}}, \"*\")"
      ],
      "text/plain": [
       "<IPython.core.display.Javascript object>"
      ]
     },
     "metadata": {},
     "output_type": "display_data"
    },
    {
     "data": {
      "text/markdown": [
       "<span style=\"color:#33cc33\">Correct</span>"
      ],
      "text/plain": [
       "Correct"
      ]
     },
     "metadata": {},
     "output_type": "display_data"
    }
   ],
   "source": [
    "from sklearn.metrics import mean_absolute_error\n",
    "\n",
    "# Get predictions\n",
    "predictions_1 = my_model_1.predict(X_valid)\n",
    "\n",
    "# Check your answer\n",
    "step_1.b.check()"
   ]
  },
  {
   "cell_type": "code",
   "execution_count": 6,
   "id": "fdab14f4",
   "metadata": {
    "execution": {
     "iopub.execute_input": "2023-08-24T09:51:38.080718Z",
     "iopub.status.busy": "2023-08-24T09:51:38.080243Z",
     "iopub.status.idle": "2023-08-24T09:51:38.083804Z",
     "shell.execute_reply": "2023-08-24T09:51:38.083222Z"
    },
    "papermill": {
     "duration": 0.01123,
     "end_time": "2023-08-24T09:51:38.085518",
     "exception": false,
     "start_time": "2023-08-24T09:51:38.074288",
     "status": "completed"
    },
    "tags": []
   },
   "outputs": [],
   "source": [
    "# Lines below will give you a hint or solution code\n",
    "#step_1.b.hint()\n",
    "#step_1.b.solution()"
   ]
  },
  {
   "cell_type": "markdown",
   "id": "292c5710",
   "metadata": {
    "papermill": {
     "duration": 0.004483,
     "end_time": "2023-08-24T09:51:38.094882",
     "exception": false,
     "start_time": "2023-08-24T09:51:38.090399",
     "status": "completed"
    },
    "tags": []
   },
   "source": [
    "### Part C\n",
    "\n",
    "Finally, use the `mean_absolute_error()` function to calculate the mean absolute error (MAE) corresponding to the predictions for the validation set.  Recall that the labels for the validation data are stored in `y_valid`."
   ]
  },
  {
   "cell_type": "code",
   "execution_count": 7,
   "id": "de6d70b4",
   "metadata": {
    "execution": {
     "iopub.execute_input": "2023-08-24T09:51:38.106137Z",
     "iopub.status.busy": "2023-08-24T09:51:38.105582Z",
     "iopub.status.idle": "2023-08-24T09:51:38.115683Z",
     "shell.execute_reply": "2023-08-24T09:51:38.114433Z"
    },
    "papermill": {
     "duration": 0.018025,
     "end_time": "2023-08-24T09:51:38.117605",
     "exception": false,
     "start_time": "2023-08-24T09:51:38.099580",
     "status": "completed"
    },
    "tags": []
   },
   "outputs": [
    {
     "name": "stdout",
     "output_type": "stream",
     "text": [
      "Mean Absolute Error: 17663\n"
     ]
    },
    {
     "data": {
      "application/javascript": [
       "parent.postMessage({\"jupyterEvent\": \"custom.exercise_interaction\", \"data\": {\"outcomeType\": 1, \"valueTowardsCompletion\": 0.5, \"interactionType\": 1, \"questionType\": 2, \"questionId\": \"1.3_Model1C\", \"learnToolsVersion\": \"0.3.4\", \"failureMessage\": \"\", \"exceptionClass\": \"\", \"trace\": \"\"}}, \"*\")"
      ],
      "text/plain": [
       "<IPython.core.display.Javascript object>"
      ]
     },
     "metadata": {},
     "output_type": "display_data"
    },
    {
     "data": {
      "text/markdown": [
       "<span style=\"color:#33cc33\">Correct</span>"
      ],
      "text/plain": [
       "Correct"
      ]
     },
     "metadata": {},
     "output_type": "display_data"
    }
   ],
   "source": [
    "# Calculate MAE\n",
    "mae_1 = mean_absolute_error(predictions_1, y_valid)\n",
    "\n",
    "# Uncomment to print MAE\n",
    "print(\"Mean Absolute Error:\" , round(mae_1))\n",
    "\n",
    "# Check your answer\n",
    "step_1.c.check()"
   ]
  },
  {
   "cell_type": "code",
   "execution_count": 8,
   "id": "0bcc2e68",
   "metadata": {
    "execution": {
     "iopub.execute_input": "2023-08-24T09:51:38.129199Z",
     "iopub.status.busy": "2023-08-24T09:51:38.128861Z",
     "iopub.status.idle": "2023-08-24T09:51:38.132385Z",
     "shell.execute_reply": "2023-08-24T09:51:38.131746Z"
    },
    "papermill": {
     "duration": 0.011368,
     "end_time": "2023-08-24T09:51:38.134049",
     "exception": false,
     "start_time": "2023-08-24T09:51:38.122681",
     "status": "completed"
    },
    "tags": []
   },
   "outputs": [],
   "source": [
    "# Lines below will give you a hint or solution code\n",
    "#step_1.c.hint()\n",
    "#step_1.c.solution()"
   ]
  },
  {
   "cell_type": "markdown",
   "id": "b52469ec",
   "metadata": {
    "papermill": {
     "duration": 0.004972,
     "end_time": "2023-08-24T09:51:38.144334",
     "exception": false,
     "start_time": "2023-08-24T09:51:38.139362",
     "status": "completed"
    },
    "tags": []
   },
   "source": [
    "# Step 2: Improve the model\n",
    "\n",
    "Now that you've trained a default model as baseline, it's time to tinker with the parameters, to see if you can get better performance!\n",
    "- Begin by setting `my_model_2` to an XGBoost model, using the [XGBRegressor](https://xgboost.readthedocs.io/en/latest/python/python_api.html#xgboost.XGBRegressor) class.  Use what you learned in the previous tutorial to figure out how to change the default parameters (like `n_estimators` and `learning_rate`) to get better results.\n",
    "- Then, fit the model to the training data in `X_train` and `y_train`.\n",
    "- Set `predictions_2` to the model's predictions for the validation data.  Recall that the validation features are stored in `X_valid`.\n",
    "- Finally, use the `mean_absolute_error()` function to calculate the mean absolute error (MAE) corresponding to the predictions on the validation set.  Recall that the labels for the validation data are stored in `y_valid`.\n",
    "\n",
    "In order for this step to be marked correct, your model in `my_model_2` must attain lower MAE than the model in `my_model_1`. "
   ]
  },
  {
   "cell_type": "code",
   "execution_count": 9,
   "id": "76f727d4",
   "metadata": {
    "execution": {
     "iopub.execute_input": "2023-08-24T09:51:38.156309Z",
     "iopub.status.busy": "2023-08-24T09:51:38.155799Z",
     "iopub.status.idle": "2023-08-24T09:51:38.751327Z",
     "shell.execute_reply": "2023-08-24T09:51:38.750631Z"
    },
    "papermill": {
     "duration": 0.604057,
     "end_time": "2023-08-24T09:51:38.753481",
     "exception": false,
     "start_time": "2023-08-24T09:51:38.149424",
     "status": "completed"
    },
    "tags": []
   },
   "outputs": [
    {
     "name": "stderr",
     "output_type": "stream",
     "text": [
      "/opt/conda/lib/python3.10/site-packages/xgboost/sklearn.py:835: UserWarning: `early_stopping_rounds` in `fit` method is deprecated for better compatibility with scikit-learn, use `early_stopping_rounds` in constructor or`set_params` instead.\n",
      "  warnings.warn(\n"
     ]
    },
    {
     "name": "stdout",
     "output_type": "stream",
     "text": [
      "Mean Absolute Error: 17611\n"
     ]
    },
    {
     "data": {
      "application/javascript": [
       "parent.postMessage({\"jupyterEvent\": \"custom.exercise_interaction\", \"data\": {\"outcomeType\": 1, \"valueTowardsCompletion\": 0.5, \"interactionType\": 1, \"questionType\": 2, \"questionId\": \"2_Model2\", \"learnToolsVersion\": \"0.3.4\", \"failureMessage\": \"\", \"exceptionClass\": \"\", \"trace\": \"\"}}, \"*\")"
      ],
      "text/plain": [
       "<IPython.core.display.Javascript object>"
      ]
     },
     "metadata": {},
     "output_type": "display_data"
    },
    {
     "data": {
      "text/markdown": [
       "<span style=\"color:#33cc33\">Correct</span>"
      ],
      "text/plain": [
       "Correct"
      ]
     },
     "metadata": {},
     "output_type": "display_data"
    }
   ],
   "source": [
    "my_model_2 = XGBRegressor(n_estimators=1000)\n",
    "\n",
    "my_model_2.fit(X_train, y_train, \n",
    "             early_stopping_rounds=10, \n",
    "             eval_set=[(X_valid, y_valid)],\n",
    "             verbose=False)\n",
    "\n",
    "# Get predictions\n",
    "predictions_2 = my_model_2.predict(X_valid) # Your code here\n",
    "\n",
    "# Calculate MAE\n",
    "mae_2 = mean_absolute_error(predictions_2, y_valid)\n",
    "\n",
    "# Uncomment to print MAE\n",
    "print(\"Mean Absolute Error:\" , round(mae_2))\n",
    "\n",
    "# Check your answer\n",
    "step_2.check()"
   ]
  },
  {
   "cell_type": "code",
   "execution_count": 10,
   "id": "c1340532",
   "metadata": {
    "execution": {
     "iopub.execute_input": "2023-08-24T09:51:38.766414Z",
     "iopub.status.busy": "2023-08-24T09:51:38.765607Z",
     "iopub.status.idle": "2023-08-24T09:51:38.769014Z",
     "shell.execute_reply": "2023-08-24T09:51:38.768405Z"
    },
    "papermill": {
     "duration": 0.011762,
     "end_time": "2023-08-24T09:51:38.771009",
     "exception": false,
     "start_time": "2023-08-24T09:51:38.759247",
     "status": "completed"
    },
    "tags": []
   },
   "outputs": [],
   "source": [
    "# Lines below will give you a hint or solution code\n",
    "#step_2.hint()\n",
    "#step_2.solution()"
   ]
  },
  {
   "cell_type": "markdown",
   "id": "77e5f484",
   "metadata": {
    "papermill": {
     "duration": 0.005127,
     "end_time": "2023-08-24T09:51:38.782071",
     "exception": false,
     "start_time": "2023-08-24T09:51:38.776944",
     "status": "completed"
    },
    "tags": []
   },
   "source": [
    "# Step 3: Break the model\n",
    "\n",
    "In this step, you will create a model that performs worse than the original model in Step 1.  This will help you to develop your intuition for how to set parameters.  You might even find that you accidentally get better performance, which is ultimately a nice problem to have and a valuable learning experience!\n",
    "- Begin by setting `my_model_3` to an XGBoost model, using the [XGBRegressor](https://xgboost.readthedocs.io/en/latest/python/python_api.html#xgboost.XGBRegressor) class.  Use what you learned in the previous tutorial to figure out how to change the default parameters (like `n_estimators` and `learning_rate`) to design a model to get high MAE.\n",
    "- Then, fit the model to the training data in `X_train` and `y_train`.\n",
    "- Set `predictions_3` to the model's predictions for the validation data.  Recall that the validation features are stored in `X_valid`.\n",
    "- Finally, use the `mean_absolute_error()` function to calculate the mean absolute error (MAE) corresponding to the predictions on the validation set.  Recall that the labels for the validation data are stored in `y_valid`.\n",
    "\n",
    "In order for this step to be marked correct, your model in `my_model_3` must attain higher MAE than the model in `my_model_1`. "
   ]
  },
  {
   "cell_type": "code",
   "execution_count": 11,
   "id": "740fdc23",
   "metadata": {
    "execution": {
     "iopub.execute_input": "2023-08-24T09:51:38.795798Z",
     "iopub.status.busy": "2023-08-24T09:51:38.795141Z",
     "iopub.status.idle": "2023-08-24T09:51:39.384683Z",
     "shell.execute_reply": "2023-08-24T09:51:39.383479Z"
    },
    "papermill": {
     "duration": 0.599145,
     "end_time": "2023-08-24T09:51:39.386532",
     "exception": false,
     "start_time": "2023-08-24T09:51:38.787387",
     "status": "completed"
    },
    "tags": []
   },
   "outputs": [
    {
     "name": "stderr",
     "output_type": "stream",
     "text": [
      "/opt/conda/lib/python3.10/site-packages/xgboost/sklearn.py:835: UserWarning: `early_stopping_rounds` in `fit` method is deprecated for better compatibility with scikit-learn, use `early_stopping_rounds` in constructor or`set_params` instead.\n",
      "  warnings.warn(\n"
     ]
    },
    {
     "name": "stdout",
     "output_type": "stream",
     "text": [
      "Mean Absolute Error: 17611\n"
     ]
    },
    {
     "data": {
      "application/javascript": [
       "parent.postMessage({\"jupyterEvent\": \"custom.exercise_interaction\", \"data\": {\"outcomeType\": 2, \"failureMessage\": \"You must specify the parameters in `my_model_3` so that it attains higher MAE than the model in `my_model_1`.\", \"interactionType\": 1, \"questionType\": 2, \"questionId\": \"3_Model3\", \"learnToolsVersion\": \"0.3.4\", \"valueTowardsCompletion\": 0.0, \"exceptionClass\": \"\", \"trace\": \"\"}}, \"*\")"
      ],
      "text/plain": [
       "<IPython.core.display.Javascript object>"
      ]
     },
     "metadata": {},
     "output_type": "display_data"
    },
    {
     "data": {
      "text/markdown": [
       "<span style=\"color:#cc3333\">Incorrect:</span> You must specify the parameters in `my_model_3` so that it attains higher MAE than the model in `my_model_1`."
      ],
      "text/plain": [
       "Incorrect: You must specify the parameters in `my_model_3` so that it attains higher MAE than the model in `my_model_1`."
      ]
     },
     "metadata": {},
     "output_type": "display_data"
    }
   ],
   "source": [
    "my_model_3 = XGBRegressor(n_estimators=1000)\n",
    "\n",
    "my_model_3.fit(X_train, y_train, \n",
    "             early_stopping_rounds=10, \n",
    "             eval_set=[(X_valid, y_valid)],\n",
    "             verbose=False)\n",
    "\n",
    "# Get predictions\n",
    "predictions_3 = my_model_3.predict(X_valid) # Your code here\n",
    "\n",
    "# Calculate MAE\n",
    "mae_3 = mean_absolute_error(predictions_3, y_valid)\n",
    "\n",
    "# MAE\n",
    "print(\"Mean Absolute Error:\" , round(mae_3))\n",
    "\n",
    "# Check your answer\n",
    "step_3.check()"
   ]
  },
  {
   "cell_type": "code",
   "execution_count": 12,
   "id": "d7bb9505",
   "metadata": {
    "execution": {
     "iopub.execute_input": "2023-08-24T09:51:39.400797Z",
     "iopub.status.busy": "2023-08-24T09:51:39.400428Z",
     "iopub.status.idle": "2023-08-24T09:51:39.405837Z",
     "shell.execute_reply": "2023-08-24T09:51:39.404386Z"
    },
    "papermill": {
     "duration": 0.015397,
     "end_time": "2023-08-24T09:51:39.407913",
     "exception": false,
     "start_time": "2023-08-24T09:51:39.392516",
     "status": "completed"
    },
    "tags": []
   },
   "outputs": [],
   "source": [
    "# Lines below will give you a hint or solution code\n",
    "#step_3.hint()\n",
    "#step_3.solution()"
   ]
  },
  {
   "cell_type": "markdown",
   "id": "e9948b6f",
   "metadata": {
    "papermill": {
     "duration": 0.005579,
     "end_time": "2023-08-24T09:51:39.419790",
     "exception": false,
     "start_time": "2023-08-24T09:51:39.414211",
     "status": "completed"
    },
    "tags": []
   },
   "source": [
    "# Keep going\n",
    "\n",
    "Continue to learn about **[data leakage](https://www.kaggle.com/alexisbcook/data-leakage)**.  This is an important issue for a data scientist to understand, and it has the potential to ruin your models in subtle and dangerous ways!"
   ]
  },
  {
   "cell_type": "markdown",
   "id": "d5cbeb68",
   "metadata": {
    "papermill": {
     "duration": 0.005718,
     "end_time": "2023-08-24T09:51:39.431420",
     "exception": false,
     "start_time": "2023-08-24T09:51:39.425702",
     "status": "completed"
    },
    "tags": []
   },
   "source": [
    "---\n",
    "\n",
    "\n",
    "\n",
    "\n",
    "*Have questions or comments? Visit the [course discussion forum](https://www.kaggle.com/learn/intermediate-machine-learning/discussion) to chat with other learners.*"
   ]
  }
 ],
 "metadata": {
  "kernelspec": {
   "display_name": "Python 3",
   "language": "python",
   "name": "python3"
  },
  "language_info": {
   "codemirror_mode": {
    "name": "ipython",
    "version": 3
   },
   "file_extension": ".py",
   "mimetype": "text/x-python",
   "name": "python",
   "nbconvert_exporter": "python",
   "pygments_lexer": "ipython3",
   "version": "3.10.12"
  },
  "papermill": {
   "default_parameters": {},
   "duration": 13.769539,
   "end_time": "2023-08-24T09:51:40.358734",
   "environment_variables": {},
   "exception": null,
   "input_path": "__notebook__.ipynb",
   "output_path": "__notebook__.ipynb",
   "parameters": {},
   "start_time": "2023-08-24T09:51:26.589195",
   "version": "2.4.0"
  }
 },
 "nbformat": 4,
 "nbformat_minor": 5
}
