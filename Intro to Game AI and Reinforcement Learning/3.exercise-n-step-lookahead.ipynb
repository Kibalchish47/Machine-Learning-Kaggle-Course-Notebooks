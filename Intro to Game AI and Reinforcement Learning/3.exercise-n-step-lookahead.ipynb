{
 "cells": [
  {
   "cell_type": "markdown",
   "id": "048d433f",
   "metadata": {
    "papermill": {
     "duration": 0.006545,
     "end_time": "2023-09-02T09:46:33.348779",
     "exception": false,
     "start_time": "2023-09-02T09:46:33.342234",
     "status": "completed"
    },
    "tags": []
   },
   "source": [
    "**This notebook is an exercise in the [Intro to Game AI and Reinforcement Learning](https://www.kaggle.com/learn/intro-to-game-ai-and-reinforcement-learning) course.  You can reference the tutorial at [this link](https://www.kaggle.com/alexisbcook/n-step-lookahead).**\n",
    "\n",
    "---\n"
   ]
  },
  {
   "cell_type": "markdown",
   "id": "268acc2b",
   "metadata": {
    "papermill": {
     "duration": 0.00568,
     "end_time": "2023-09-02T09:46:33.360928",
     "exception": false,
     "start_time": "2023-09-02T09:46:33.355248",
     "status": "completed"
    },
    "tags": []
   },
   "source": [
    "# Introduction\n",
    "\n",
    "In the tutorial, you learned how to build a reasonably intelligent agent with the minimax algorithm.  In this exercise, you will check your understanding and submit your own agent to the competition."
   ]
  },
  {
   "cell_type": "code",
   "execution_count": 1,
   "id": "25e5340b",
   "metadata": {
    "execution": {
     "iopub.execute_input": "2023-09-02T09:46:33.374358Z",
     "iopub.status.busy": "2023-09-02T09:46:33.373940Z",
     "iopub.status.idle": "2023-09-02T09:46:33.747503Z",
     "shell.execute_reply": "2023-09-02T09:46:33.745655Z"
    },
    "papermill": {
     "duration": 0.383636,
     "end_time": "2023-09-02T09:46:33.750312",
     "exception": false,
     "start_time": "2023-09-02T09:46:33.366676",
     "status": "completed"
    },
    "tags": []
   },
   "outputs": [],
   "source": [
    "from learntools.core import binder\n",
    "binder.bind(globals())\n",
    "from learntools.game_ai.ex3 import *"
   ]
  },
  {
   "cell_type": "markdown",
   "id": "f569f59b",
   "metadata": {
    "papermill": {
     "duration": 0.00598,
     "end_time": "2023-09-02T09:46:33.761946",
     "exception": false,
     "start_time": "2023-09-02T09:46:33.755966",
     "status": "completed"
    },
    "tags": []
   },
   "source": [
    "### 1) A closer look\n",
    "\n",
    "The heuristic from the tutorial looks at all groups of four adjacent grid locations on the same row, column, or diagonal and assigns points for each occurrence of the following patterns:\n",
    "\n",
    "<center>\n",
    "<img src=\"https://storage.googleapis.com/kaggle-media/learn/images/3NvBEGL.png\" width=70%><br/>\n",
    "</center>\n",
    "\n",
    "Is it really necessary to use so many numbers to define the heuristic?  Consider simplifying it, as in the image below.\n",
    "\n",
    "<center>\n",
    "<img src=\"https://storage.googleapis.com/kaggle-media/learn/images/grViegG.png\" width=70%><br/>\n",
    "</center>\n",
    "\n",
    "How would each heuristic score the potential moves in the example below (where, in this case, the agent looks only one step ahead)?  Which heuristic would lead to the agent selecting the better move?\n",
    "\n",
    "<center>\n",
    "<img src=\"https://storage.googleapis.com/kaggle-media/learn/images/LWPLy7N.png\" width=100%><br/>\n",
    "</center>"
   ]
  },
  {
   "cell_type": "code",
   "execution_count": 2,
   "id": "d138cd5f",
   "metadata": {
    "execution": {
     "iopub.execute_input": "2023-09-02T09:46:33.775253Z",
     "iopub.status.busy": "2023-09-02T09:46:33.774757Z",
     "iopub.status.idle": "2023-09-02T09:46:33.780959Z",
     "shell.execute_reply": "2023-09-02T09:46:33.779195Z"
    },
    "papermill": {
     "duration": 0.015037,
     "end_time": "2023-09-02T09:46:33.782943",
     "exception": false,
     "start_time": "2023-09-02T09:46:33.767906",
     "status": "completed"
    },
    "tags": []
   },
   "outputs": [],
   "source": [
    "#q_1.hint()"
   ]
  },
  {
   "cell_type": "code",
   "execution_count": 3,
   "id": "fd507f64",
   "metadata": {
    "execution": {
     "iopub.execute_input": "2023-09-02T09:46:33.796015Z",
     "iopub.status.busy": "2023-09-02T09:46:33.795631Z",
     "iopub.status.idle": "2023-09-02T09:46:33.806835Z",
     "shell.execute_reply": "2023-09-02T09:46:33.805523Z"
    },
    "papermill": {
     "duration": 0.019979,
     "end_time": "2023-09-02T09:46:33.808811",
     "exception": false,
     "start_time": "2023-09-02T09:46:33.788832",
     "status": "completed"
    },
    "tags": []
   },
   "outputs": [
    {
     "data": {
      "application/javascript": [
       "parent.postMessage({\"jupyterEvent\": \"custom.exercise_interaction\", \"data\": {\"interactionType\": 3, \"questionType\": 4, \"questionId\": \"1_WorseHeuristic\", \"learnToolsVersion\": \"0.3.4\", \"valueTowardsCompletion\": 0.0, \"failureMessage\": \"\", \"exceptionClass\": \"\", \"trace\": \"\", \"outcomeType\": 4}}, \"*\")"
      ],
      "text/plain": [
       "<IPython.core.display.Javascript object>"
      ]
     },
     "metadata": {},
     "output_type": "display_data"
    },
    {
     "data": {
      "text/markdown": [
       "<span style=\"color:#33cc99\">Solution:</span> The first heuristic is guaranteed to select column 2 to block the opponent from winning.  The second heuristic selects either column 2 or column 3 (where it selects each with 50% probability). Thus, for this game board, the first heuristic is better. In general, we can expect that the first heuristic is a better heuristic, since we cannot trust the second heuristic to block the opponent from winning."
      ],
      "text/plain": [
       "Solution: The first heuristic is guaranteed to select column 2 to block the opponent from winning.  The second heuristic selects either column 2 or column 3 (where it selects each with 50% probability). Thus, for this game board, the first heuristic is better. In general, we can expect that the first heuristic is a better heuristic, since we cannot trust the second heuristic to block the opponent from winning."
      ]
     },
     "metadata": {},
     "output_type": "display_data"
    }
   ],
   "source": [
    "# Check your answer (Run this code cell to receive credit!)\n",
    "q_1.solution()"
   ]
  },
  {
   "cell_type": "markdown",
   "id": "3f2fbb0f",
   "metadata": {
    "papermill": {
     "duration": 0.005526,
     "end_time": "2023-09-02T09:46:33.820140",
     "exception": false,
     "start_time": "2023-09-02T09:46:33.814614",
     "status": "completed"
    },
    "tags": []
   },
   "source": [
    "### 2) Count the leaves\n",
    "\n",
    "In the tutorial, we worked with a small game tree.\n",
    "\n",
    "<center>\n",
    "<img src=\"https://storage.googleapis.com/kaggle-media/learn/images/BrRe7Bu.png\" width=90%><br/>\n",
    "</center>\n",
    "\n",
    "The game tree above has 8 leaf nodes that appear at the bottom of the tree.  By definition, \"leaf nodes\" in a game tree are nodes that don't have nodes below them.\n",
    "\n",
    "In the ConnectX competition, the game trees will be much larger!  \n",
    "\n",
    "To see this, consider a minimax agent that is trying to plan its first move, where all columns in the game board are  empty.  Say the agent builds a game tree of depth 3.  How many leaf nodes are in the game tree?  \n",
    "\n",
    "Use your answer to fill in the blank below."
   ]
  },
  {
   "cell_type": "code",
   "execution_count": 4,
   "id": "194c7235",
   "metadata": {
    "execution": {
     "iopub.execute_input": "2023-09-02T09:46:33.832749Z",
     "iopub.status.busy": "2023-09-02T09:46:33.832399Z",
     "iopub.status.idle": "2023-09-02T09:46:33.841391Z",
     "shell.execute_reply": "2023-09-02T09:46:33.840136Z"
    },
    "papermill": {
     "duration": 0.018088,
     "end_time": "2023-09-02T09:46:33.843716",
     "exception": false,
     "start_time": "2023-09-02T09:46:33.825628",
     "status": "completed"
    },
    "tags": []
   },
   "outputs": [
    {
     "data": {
      "application/javascript": [
       "parent.postMessage({\"jupyterEvent\": \"custom.exercise_interaction\", \"data\": {\"outcomeType\": 1, \"valueTowardsCompletion\": 0.2, \"interactionType\": 1, \"questionType\": 1, \"questionId\": \"2_NumLeaves\", \"learnToolsVersion\": \"0.3.4\", \"failureMessage\": \"\", \"exceptionClass\": \"\", \"trace\": \"\"}}, \"*\")"
      ],
      "text/plain": [
       "<IPython.core.display.Javascript object>"
      ]
     },
     "metadata": {},
     "output_type": "display_data"
    },
    {
     "data": {
      "text/markdown": [
       "<span style=\"color:#33cc33\">Correct</span>"
      ],
      "text/plain": [
       "Correct"
      ]
     },
     "metadata": {},
     "output_type": "display_data"
    }
   ],
   "source": [
    "# Fill in the blank\n",
    "num_leaves = 7*7*7\n",
    "\n",
    "# Check your answer\n",
    "q_2.check()"
   ]
  },
  {
   "cell_type": "code",
   "execution_count": 5,
   "id": "7ba9e5c3",
   "metadata": {
    "execution": {
     "iopub.execute_input": "2023-09-02T09:46:33.857975Z",
     "iopub.status.busy": "2023-09-02T09:46:33.857583Z",
     "iopub.status.idle": "2023-09-02T09:46:33.861996Z",
     "shell.execute_reply": "2023-09-02T09:46:33.860895Z"
    },
    "papermill": {
     "duration": 0.013854,
     "end_time": "2023-09-02T09:46:33.863701",
     "exception": false,
     "start_time": "2023-09-02T09:46:33.849847",
     "status": "completed"
    },
    "tags": []
   },
   "outputs": [],
   "source": [
    "# Lines below will give you a hint or solution code\n",
    "#q_2.hint()\n",
    "#q_2.solution()"
   ]
  },
  {
   "cell_type": "markdown",
   "id": "15f43dc6",
   "metadata": {
    "papermill": {
     "duration": 0.005722,
     "end_time": "2023-09-02T09:46:33.876777",
     "exception": false,
     "start_time": "2023-09-02T09:46:33.871055",
     "status": "completed"
    },
    "tags": []
   },
   "source": [
    "### 3) Which move will the agent select?\n",
    "\n",
    "In this question, you'll check your understanding of the minimax algorithm.  Remember that with this algorithm, \n",
    "> The agent chooses moves to get a score that is as high as possible, and it assumes the opponent will counteract this by choosing moves to force the score to be as low as possible.\n",
    "\n",
    "Consider the toy example below of a game tree that the agent will use to select its next move.  \n",
    "<center>\n",
    "<img src=\"https://storage.googleapis.com/kaggle-media/learn/images/QlfWGM9.png\" width=80%><br/>\n",
    "</center>\n",
    "\n",
    "Which move will the agent select?  Use your answer to set the value of the `selected_move` variable below.  Your answer should be one of `1`, `2`, or `3`."
   ]
  },
  {
   "cell_type": "code",
   "execution_count": 6,
   "id": "7f13d7bd",
   "metadata": {
    "execution": {
     "iopub.execute_input": "2023-09-02T09:46:33.889482Z",
     "iopub.status.busy": "2023-09-02T09:46:33.889179Z",
     "iopub.status.idle": "2023-09-02T09:46:33.895924Z",
     "shell.execute_reply": "2023-09-02T09:46:33.894830Z"
    },
    "papermill": {
     "duration": 0.015137,
     "end_time": "2023-09-02T09:46:33.897646",
     "exception": false,
     "start_time": "2023-09-02T09:46:33.882509",
     "status": "completed"
    },
    "tags": []
   },
   "outputs": [
    {
     "data": {
      "application/javascript": [
       "parent.postMessage({\"jupyterEvent\": \"custom.exercise_interaction\", \"data\": {\"outcomeType\": 1, \"valueTowardsCompletion\": 0.2, \"interactionType\": 1, \"questionType\": 2, \"questionId\": \"3_WhichMove\", \"learnToolsVersion\": \"0.3.4\", \"failureMessage\": \"\", \"exceptionClass\": \"\", \"trace\": \"\"}}, \"*\")"
      ],
      "text/plain": [
       "<IPython.core.display.Javascript object>"
      ]
     },
     "metadata": {},
     "output_type": "display_data"
    },
    {
     "data": {
      "text/markdown": [
       "<span style=\"color:#33cc33\">Correct</span>"
      ],
      "text/plain": [
       "Correct"
      ]
     },
     "metadata": {},
     "output_type": "display_data"
    }
   ],
   "source": [
    "# Fill in the blank\n",
    "selected_move = 3\n",
    "\n",
    "# Check your answer\n",
    "q_3.check()"
   ]
  },
  {
   "cell_type": "code",
   "execution_count": 7,
   "id": "a147550d",
   "metadata": {
    "execution": {
     "iopub.execute_input": "2023-09-02T09:46:33.912256Z",
     "iopub.status.busy": "2023-09-02T09:46:33.911895Z",
     "iopub.status.idle": "2023-09-02T09:46:33.916443Z",
     "shell.execute_reply": "2023-09-02T09:46:33.914885Z"
    },
    "papermill": {
     "duration": 0.014806,
     "end_time": "2023-09-02T09:46:33.918929",
     "exception": false,
     "start_time": "2023-09-02T09:46:33.904123",
     "status": "completed"
    },
    "tags": []
   },
   "outputs": [],
   "source": [
    "# Lines below will give you a hint or solution code\n",
    "#q_3.hint()\n",
    "#q_3.solution()"
   ]
  },
  {
   "cell_type": "markdown",
   "id": "03160219",
   "metadata": {
    "papermill": {
     "duration": 0.006193,
     "end_time": "2023-09-02T09:46:33.931616",
     "exception": false,
     "start_time": "2023-09-02T09:46:33.925423",
     "status": "completed"
    },
    "tags": []
   },
   "source": [
    "### 4) Examine the assumptions\n",
    "\n",
    "The minimax agent assumes that its opponent plays optimally (with respect to the heuristic, and using a game tree of limited depth).  But this is almost never the case, in practice: it's far more likely for the agent to encounter a suboptimal (that is: worse than optimal) opponent.  \n",
    "\n",
    "Say the minimax agent encounters a suboptimal opponent. Should we expect the minimax agent to still play the game well, despite the contradiction with its assumptions?  If so, why?"
   ]
  },
  {
   "cell_type": "code",
   "execution_count": 8,
   "id": "cf7a67b8",
   "metadata": {
    "execution": {
     "iopub.execute_input": "2023-09-02T09:46:33.946413Z",
     "iopub.status.busy": "2023-09-02T09:46:33.945760Z",
     "iopub.status.idle": "2023-09-02T09:46:33.949285Z",
     "shell.execute_reply": "2023-09-02T09:46:33.948648Z"
    },
    "papermill": {
     "duration": 0.013688,
     "end_time": "2023-09-02T09:46:33.951711",
     "exception": false,
     "start_time": "2023-09-02T09:46:33.938023",
     "status": "completed"
    },
    "tags": []
   },
   "outputs": [],
   "source": [
    "#q_4.hint()"
   ]
  },
  {
   "cell_type": "code",
   "execution_count": 9,
   "id": "787d0915",
   "metadata": {
    "execution": {
     "iopub.execute_input": "2023-09-02T09:46:33.966648Z",
     "iopub.status.busy": "2023-09-02T09:46:33.966008Z",
     "iopub.status.idle": "2023-09-02T09:46:33.972325Z",
     "shell.execute_reply": "2023-09-02T09:46:33.971661Z"
    },
    "papermill": {
     "duration": 0.015543,
     "end_time": "2023-09-02T09:46:33.973995",
     "exception": false,
     "start_time": "2023-09-02T09:46:33.958452",
     "status": "completed"
    },
    "tags": []
   },
   "outputs": [
    {
     "data": {
      "application/javascript": [
       "parent.postMessage({\"jupyterEvent\": \"custom.exercise_interaction\", \"data\": {\"interactionType\": 3, \"questionType\": 4, \"questionId\": \"4_Assumptions\", \"learnToolsVersion\": \"0.3.4\", \"valueTowardsCompletion\": 0.0, \"failureMessage\": \"\", \"exceptionClass\": \"\", \"trace\": \"\", \"outcomeType\": 4}}, \"*\")"
      ],
      "text/plain": [
       "<IPython.core.display.Javascript object>"
      ]
     },
     "metadata": {},
     "output_type": "display_data"
    },
    {
     "data": {
      "text/markdown": [
       "<span style=\"color:#33cc99\">Solution:</span> We can still expect the minimax agent to perform well. On a high level, assuming an optimal opponent simply overestimates the opponent, but does not break the algorithm.  The effect of overestimating the opponent is merely that the minimax agent will take longer to win, than if it had a more accurate understanding of its opponent.  For instance, the minimax agent is highly unlikely to select the same column three times in its first three moves (since it assumes an optimal opponent that will certainly block the winning play in the next move), but this is not a bad initial strategy for playing against an agent that selects columns completely at random."
      ],
      "text/plain": [
       "Solution: We can still expect the minimax agent to perform well. On a high level, assuming an optimal opponent simply overestimates the opponent, but does not break the algorithm.  The effect of overestimating the opponent is merely that the minimax agent will take longer to win, than if it had a more accurate understanding of its opponent.  For instance, the minimax agent is highly unlikely to select the same column three times in its first three moves (since it assumes an optimal opponent that will certainly block the winning play in the next move), but this is not a bad initial strategy for playing against an agent that selects columns completely at random."
      ]
     },
     "metadata": {},
     "output_type": "display_data"
    }
   ],
   "source": [
    "# Check your answer (Run this code cell to receive credit!)\n",
    "q_4.solution()"
   ]
  },
  {
   "cell_type": "markdown",
   "id": "63b85bfc",
   "metadata": {
    "papermill": {
     "duration": 0.006282,
     "end_time": "2023-09-02T09:46:33.986860",
     "exception": false,
     "start_time": "2023-09-02T09:46:33.980578",
     "status": "completed"
    },
    "tags": []
   },
   "source": [
    "### 5) Submit to the competition\n",
    "\n",
    "Now, it's time to submit an agent to the competition!  Use the next code cell to define an agent.  (You can see an example of how to write a valid agent in **[this notebook](https://www.kaggle.com/alexisbcook/create-a-connectx-agent)**.)\n",
    "\n",
    "If you decide to use the minimax code from the tutorial, you might like to add [**alpha-beta pruning**](https://en.wikipedia.org/wiki/Alpha%E2%80%93beta_pruning) to decrease the computation time (i.e., get the minimax algorithm to run much faster!).  In this case, \"alpha\" and \"beta\" to refer to two values that are maintained while the algorithm is running, that help to identify early stopping conditions.  \n",
    "\n",
    "Without alpha-beta pruning, minimax evaluates each leaf node.  With alpha-beta pruning, minimax only evaluates nodes that could provide information that affects the agent's choice of action.  Put another way, it identifies nodes that could not possibly affect the final result and avoids evaluating them."
   ]
  },
  {
   "cell_type": "code",
   "execution_count": 10,
   "id": "af861d76",
   "metadata": {
    "execution": {
     "iopub.execute_input": "2023-09-02T09:46:34.001239Z",
     "iopub.status.busy": "2023-09-02T09:46:34.000593Z",
     "iopub.status.idle": "2023-09-02T09:46:34.005155Z",
     "shell.execute_reply": "2023-09-02T09:46:34.004248Z"
    },
    "papermill": {
     "duration": 0.014495,
     "end_time": "2023-09-02T09:46:34.007557",
     "exception": false,
     "start_time": "2023-09-02T09:46:33.993062",
     "status": "completed"
    },
    "tags": []
   },
   "outputs": [],
   "source": [
    "def my_agent(obs, config):\n",
    "    # Your code here: Amend the agent!\n",
    "    import random\n",
    "    valid_moves = [col for col in range(config.columns) if obs.board[col] == 0]\n",
    "    return random.choice(valid_moves)"
   ]
  },
  {
   "cell_type": "code",
   "execution_count": 11,
   "id": "1038564a",
   "metadata": {
    "execution": {
     "iopub.execute_input": "2023-09-02T09:46:34.023260Z",
     "iopub.status.busy": "2023-09-02T09:46:34.022577Z",
     "iopub.status.idle": "2023-09-02T09:46:34.029576Z",
     "shell.execute_reply": "2023-09-02T09:46:34.028754Z"
    },
    "papermill": {
     "duration": 0.017152,
     "end_time": "2023-09-02T09:46:34.031586",
     "exception": false,
     "start_time": "2023-09-02T09:46:34.014434",
     "status": "completed"
    },
    "tags": []
   },
   "outputs": [
    {
     "data": {
      "application/javascript": [
       "parent.postMessage({\"jupyterEvent\": \"custom.exercise_interaction\", \"data\": {\"outcomeType\": 1, \"valueTowardsCompletion\": 0.2, \"interactionType\": 1, \"questionType\": 2, \"questionId\": \"5_JustSubmitEx3\", \"learnToolsVersion\": \"0.3.4\", \"failureMessage\": \"\", \"exceptionClass\": \"\", \"trace\": \"\"}}, \"*\")"
      ],
      "text/plain": [
       "<IPython.core.display.Javascript object>"
      ]
     },
     "metadata": {},
     "output_type": "display_data"
    },
    {
     "data": {
      "text/markdown": [
       "<span style=\"color:#33cc33\">Thank you for creating an agent!</span>"
      ],
      "text/plain": [
       "Thank you for creating an agent!"
      ]
     },
     "metadata": {},
     "output_type": "display_data"
    }
   ],
   "source": [
    "# Run this code cell to get credit for creating an agent\n",
    "q_5.check()"
   ]
  },
  {
   "cell_type": "code",
   "execution_count": 12,
   "id": "f6b20279",
   "metadata": {
    "execution": {
     "iopub.execute_input": "2023-09-02T09:46:34.050349Z",
     "iopub.status.busy": "2023-09-02T09:46:34.050031Z",
     "iopub.status.idle": "2023-09-02T09:46:34.056335Z",
     "shell.execute_reply": "2023-09-02T09:46:34.055564Z"
    },
    "papermill": {
     "duration": 0.020221,
     "end_time": "2023-09-02T09:46:34.059676",
     "exception": false,
     "start_time": "2023-09-02T09:46:34.039455",
     "status": "completed"
    },
    "tags": []
   },
   "outputs": [
    {
     "name": "stdout",
     "output_type": "stream",
     "text": [
      "<function my_agent at 0x7ec314c7fc70> written to submission.py\n"
     ]
    }
   ],
   "source": [
    "import inspect\n",
    "import os\n",
    "\n",
    "def write_agent_to_file(function, file):\n",
    "    with open(file, \"a\" if os.path.exists(file) else \"w\") as f:\n",
    "        f.write(inspect.getsource(function))\n",
    "        print(function, \"written to\", file)\n",
    "\n",
    "write_agent_to_file(my_agent, \"submission.py\")"
   ]
  },
  {
   "cell_type": "markdown",
   "id": "e1b00db5",
   "metadata": {
    "papermill": {
     "duration": 0.006467,
     "end_time": "2023-09-02T09:46:34.072962",
     "exception": false,
     "start_time": "2023-09-02T09:46:34.066495",
     "status": "completed"
    },
    "tags": []
   },
   "source": [
    "Then, follow these steps to submit your agent to the competition:\n",
    "1. Begin by clicking on the **Save Version** button in the top right corner of the window.  This will generate a pop-up window.  \n",
    "2. Ensure that the **Save and Run All** option is selected, and then click on the **Save** button.\n",
    "3. This generates a window in the bottom left corner of the notebook.  After it has finished running, click on the number to the right of the **Save Version** button.  This pulls up a list of versions on the right of the screen.  Click on the ellipsis **(...)** to the right of the most recent version, and select **Open in Viewer**.  This brings you into view mode of the same page. You will need to scroll down to get back to these instructions.\n",
    "4. Click on the **Data** tab near the top of the screen.  Then, click on the file you would like to submit, and click on the **Submit** button to submit your results to the leaderboard.\n",
    "\n",
    "You have now successfully submitted to the competition!\n",
    "\n",
    "If you want to keep working to improve your performance, select the **Edit** button in the top right of the screen. Then you can change your code and repeat the process. There's a lot of room to improve, and you will climb up the leaderboard as you work.\n",
    "\n",
    "\n",
    "Go to **\"My Submissions\"** to view your score and episodes being played.\n",
    "\n",
    "# Keep going\n",
    "\n",
    "Move on to learn how to **[use deep reinforcement learning](https://www.kaggle.com/alexisbcook/deep-reinforcement-learning)** to develop an agent without a heuristic!"
   ]
  },
  {
   "cell_type": "markdown",
   "id": "0398c6f9",
   "metadata": {
    "papermill": {
     "duration": 0.006408,
     "end_time": "2023-09-02T09:46:34.086311",
     "exception": false,
     "start_time": "2023-09-02T09:46:34.079903",
     "status": "completed"
    },
    "tags": []
   },
   "source": [
    "---\n",
    "\n",
    "\n",
    "\n",
    "\n",
    "*Have questions or comments? Visit the [course discussion forum](https://www.kaggle.com/learn/intro-to-game-ai-and-reinforcement-learning/discussion) to chat with other learners.*"
   ]
  }
 ],
 "kernelspec": {
  "display_name": "Python 3",
  "language": "python",
  "name": "python3"
 },
 "language_info": {
  "codemirror_mode": {
   "name": "ipython",
   "version": 3
  },
  "file_extension": ".py",
  "mimetype": "text/x-python",
  "name": "python",
  "nbconvert_exporter": "python",
  "pygments_lexer": "ipython3",
  "version": "3.6.4"
 },
 "metadata": {
  "kernelspec": {
   "display_name": "Python 3",
   "language": "python",
   "name": "python3"
  },
  "language_info": {
   "codemirror_mode": {
    "name": "ipython",
    "version": 3
   },
   "file_extension": ".py",
   "mimetype": "text/x-python",
   "name": "python",
   "nbconvert_exporter": "python",
   "pygments_lexer": "ipython3",
   "version": "3.10.12"
  },
  "papermill": {
   "default_parameters": {},
   "duration": 4.164792,
   "end_time": "2023-09-02T09:46:34.511896",
   "environment_variables": {},
   "exception": null,
   "input_path": "__notebook__.ipynb",
   "output_path": "__notebook__.ipynb",
   "parameters": {},
   "start_time": "2023-09-02T09:46:30.347104",
   "version": "2.4.0"
  }
 },
 "nbformat": 4,
 "nbformat_minor": 5
}
