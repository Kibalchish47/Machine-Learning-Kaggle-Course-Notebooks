{
 "cells": [
  {
   "cell_type": "markdown",
   "id": "39105b18",
   "metadata": {
    "papermill": {
     "duration": 0.005242,
     "end_time": "2023-08-29T07:42:39.965173",
     "exception": false,
     "start_time": "2023-08-29T07:42:39.959931",
     "status": "completed"
    },
    "tags": []
   },
   "source": [
    "**This notebook is an exercise in the [Data Cleaning](https://www.kaggle.com/learn/data-cleaning) course.  You can reference the tutorial at [this link](https://www.kaggle.com/alexisbcook/character-encodings).**\n",
    "\n",
    "---\n"
   ]
  },
  {
   "cell_type": "markdown",
   "id": "0d4544a9",
   "metadata": {
    "papermill": {
     "duration": 0.003925,
     "end_time": "2023-08-29T07:42:39.973771",
     "exception": false,
     "start_time": "2023-08-29T07:42:39.969846",
     "status": "completed"
    },
    "tags": []
   },
   "source": [
    "In this exercise, you'll apply what you learned in the **Character encodings** tutorial.\n",
    "\n",
    "# Setup\n",
    "\n",
    "The questions below will give you feedback on your work. Run the following cell to set up the feedback system."
   ]
  },
  {
   "cell_type": "code",
   "execution_count": 1,
   "id": "f7f20f47",
   "metadata": {
    "execution": {
     "iopub.execute_input": "2023-08-29T07:42:39.983783Z",
     "iopub.status.busy": "2023-08-29T07:42:39.983412Z",
     "iopub.status.idle": "2023-08-29T07:42:40.072449Z",
     "shell.execute_reply": "2023-08-29T07:42:40.071182Z"
    },
    "papermill": {
     "duration": 0.096929,
     "end_time": "2023-08-29T07:42:40.074863",
     "exception": false,
     "start_time": "2023-08-29T07:42:39.977934",
     "status": "completed"
    },
    "tags": []
   },
   "outputs": [
    {
     "name": "stdout",
     "output_type": "stream",
     "text": [
      "Setup Complete\n"
     ]
    }
   ],
   "source": [
    "from learntools.core import binder\n",
    "binder.bind(globals())\n",
    "from learntools.data_cleaning.ex4 import *\n",
    "print(\"Setup Complete\")"
   ]
  },
  {
   "cell_type": "markdown",
   "id": "54706003",
   "metadata": {
    "papermill": {
     "duration": 0.006364,
     "end_time": "2023-08-29T07:42:40.085934",
     "exception": false,
     "start_time": "2023-08-29T07:42:40.079570",
     "status": "completed"
    },
    "tags": []
   },
   "source": [
    "# Get our environment set up\n",
    "\n",
    "The first thing we'll need to do is load in the libraries we'll be using."
   ]
  },
  {
   "cell_type": "code",
   "execution_count": 2,
   "id": "c2e3d3d4",
   "metadata": {
    "execution": {
     "iopub.execute_input": "2023-08-29T07:42:40.100346Z",
     "iopub.status.busy": "2023-08-29T07:42:40.099281Z",
     "iopub.status.idle": "2023-08-29T07:42:40.104934Z",
     "shell.execute_reply": "2023-08-29T07:42:40.103874Z"
    },
    "papermill": {
     "duration": 0.015105,
     "end_time": "2023-08-29T07:42:40.106967",
     "exception": false,
     "start_time": "2023-08-29T07:42:40.091862",
     "status": "completed"
    },
    "tags": []
   },
   "outputs": [],
   "source": [
    "# modules we'll use\n",
    "import pandas as pd\n",
    "import numpy as np\n",
    "\n",
    "# helpful character encoding module\n",
    "import charset_normalizer\n",
    "\n",
    "# set seed for reproducibility\n",
    "np.random.seed(0)"
   ]
  },
  {
   "cell_type": "markdown",
   "id": "86256170",
   "metadata": {
    "papermill": {
     "duration": 0.004219,
     "end_time": "2023-08-29T07:42:40.115651",
     "exception": false,
     "start_time": "2023-08-29T07:42:40.111432",
     "status": "completed"
    },
    "tags": []
   },
   "source": [
    "# 1) What are encodings?\n",
    "\n",
    "You're working with a dataset composed of bytes.  Run the code cell below to print a sample entry."
   ]
  },
  {
   "cell_type": "code",
   "execution_count": 3,
   "id": "d1ede9ed",
   "metadata": {
    "execution": {
     "iopub.execute_input": "2023-08-29T07:42:40.126034Z",
     "iopub.status.busy": "2023-08-29T07:42:40.125668Z",
     "iopub.status.idle": "2023-08-29T07:42:40.130649Z",
     "shell.execute_reply": "2023-08-29T07:42:40.129706Z"
    },
    "papermill": {
     "duration": 0.013087,
     "end_time": "2023-08-29T07:42:40.133028",
     "exception": false,
     "start_time": "2023-08-29T07:42:40.119941",
     "status": "completed"
    },
    "tags": []
   },
   "outputs": [
    {
     "name": "stdout",
     "output_type": "stream",
     "text": [
      "b'\\xa7A\\xa6n'\n",
      "data type: <class 'bytes'>\n"
     ]
    }
   ],
   "source": [
    "sample_entry = b'\\xa7A\\xa6n'\n",
    "print(sample_entry)\n",
    "print('data type:', type(sample_entry))"
   ]
  },
  {
   "cell_type": "markdown",
   "id": "96181120",
   "metadata": {
    "papermill": {
     "duration": 0.004307,
     "end_time": "2023-08-29T07:42:40.142477",
     "exception": false,
     "start_time": "2023-08-29T07:42:40.138170",
     "status": "completed"
    },
    "tags": []
   },
   "source": [
    "You notice that it doesn't use the standard UTF-8 encoding. \n",
    "\n",
    "Use the next code cell to create a variable `new_entry` that changes the encoding from `\"big5-tw\"` to `\"utf-8\"`.  `new_entry` should have the bytes datatype."
   ]
  },
  {
   "cell_type": "code",
   "execution_count": 4,
   "id": "36981607",
   "metadata": {
    "execution": {
     "iopub.execute_input": "2023-08-29T07:42:40.153231Z",
     "iopub.status.busy": "2023-08-29T07:42:40.152871Z",
     "iopub.status.idle": "2023-08-29T07:42:40.162882Z",
     "shell.execute_reply": "2023-08-29T07:42:40.161673Z"
    },
    "papermill": {
     "duration": 0.018467,
     "end_time": "2023-08-29T07:42:40.165541",
     "exception": false,
     "start_time": "2023-08-29T07:42:40.147074",
     "status": "completed"
    },
    "tags": []
   },
   "outputs": [
    {
     "data": {
      "application/javascript": [
       "parent.postMessage({\"jupyterEvent\": \"custom.exercise_interaction\", \"data\": {\"outcomeType\": 1, \"valueTowardsCompletion\": 0.3333333333333333, \"interactionType\": 1, \"questionType\": 1, \"questionId\": \"1_EncodingsIntro\", \"learnToolsVersion\": \"0.3.4\", \"failureMessage\": \"\", \"exceptionClass\": \"\", \"trace\": \"\"}}, \"*\")"
      ],
      "text/plain": [
       "<IPython.core.display.Javascript object>"
      ]
     },
     "metadata": {},
     "output_type": "display_data"
    },
    {
     "data": {
      "text/markdown": [
       "<span style=\"color:#33cc33\">Correct</span>"
      ],
      "text/plain": [
       "Correct"
      ]
     },
     "metadata": {},
     "output_type": "display_data"
    }
   ],
   "source": [
    "before = sample_entry.decode(\"big5-tw\")\n",
    "new_entry = before.encode()\n",
    "\n",
    "# Check your answer\n",
    "q1.check()"
   ]
  },
  {
   "cell_type": "code",
   "execution_count": 5,
   "id": "d0171495",
   "metadata": {
    "execution": {
     "iopub.execute_input": "2023-08-29T07:42:40.179132Z",
     "iopub.status.busy": "2023-08-29T07:42:40.178759Z",
     "iopub.status.idle": "2023-08-29T07:42:40.182492Z",
     "shell.execute_reply": "2023-08-29T07:42:40.181738Z"
    },
    "papermill": {
     "duration": 0.013509,
     "end_time": "2023-08-29T07:42:40.184513",
     "exception": false,
     "start_time": "2023-08-29T07:42:40.171004",
     "status": "completed"
    },
    "tags": []
   },
   "outputs": [],
   "source": [
    "# Lines below will give you a hint or solution code\n",
    "#q1.hint()\n",
    "#q1.solution()"
   ]
  },
  {
   "cell_type": "markdown",
   "id": "47c1a811",
   "metadata": {
    "papermill": {
     "duration": 0.006072,
     "end_time": "2023-08-29T07:42:40.196284",
     "exception": false,
     "start_time": "2023-08-29T07:42:40.190212",
     "status": "completed"
    },
    "tags": []
   },
   "source": [
    "# 2) Reading in files with encoding problems\n",
    "\n",
    "Use the code cell below to read in this file at path `\"../input/fatal-police-shootings-in-the-us/PoliceKillingsUS.csv\"`.  \n",
    "\n",
    "Figure out what the correct encoding should be and read in the file to a DataFrame `police_killings`."
   ]
  },
  {
   "cell_type": "code",
   "execution_count": 6,
   "id": "afc77541",
   "metadata": {
    "execution": {
     "iopub.execute_input": "2023-08-29T07:42:40.212429Z",
     "iopub.status.busy": "2023-08-29T07:42:40.211346Z",
     "iopub.status.idle": "2023-08-29T07:42:40.242793Z",
     "shell.execute_reply": "2023-08-29T07:42:40.241989Z"
    },
    "papermill": {
     "duration": 0.046005,
     "end_time": "2023-08-29T07:42:40.249122",
     "exception": false,
     "start_time": "2023-08-29T07:42:40.203117",
     "status": "completed"
    },
    "tags": []
   },
   "outputs": [
    {
     "data": {
      "application/javascript": [
       "parent.postMessage({\"jupyterEvent\": \"custom.exercise_interaction\", \"data\": {\"outcomeType\": 1, \"valueTowardsCompletion\": 0.3333333333333333, \"interactionType\": 1, \"questionType\": 1, \"questionId\": \"2_ReadIn\", \"learnToolsVersion\": \"0.3.4\", \"failureMessage\": \"\", \"exceptionClass\": \"\", \"trace\": \"\"}}, \"*\")"
      ],
      "text/plain": [
       "<IPython.core.display.Javascript object>"
      ]
     },
     "metadata": {},
     "output_type": "display_data"
    },
    {
     "data": {
      "text/markdown": [
       "<span style=\"color:#33cc33\">Correct</span>"
      ],
      "text/plain": [
       "Correct"
      ]
     },
     "metadata": {},
     "output_type": "display_data"
    }
   ],
   "source": [
    "# TODO: Load in the DataFrame correctly.\n",
    "police_killings = pd.read_csv(\"../input/fatal-police-shootings-in-the-us/PoliceKillingsUS.csv\", encoding='Windows-1252')\n",
    "\n",
    "# Check your answer\n",
    "q2.check()"
   ]
  },
  {
   "cell_type": "markdown",
   "id": "58e52884",
   "metadata": {
    "papermill": {
     "duration": 0.006975,
     "end_time": "2023-08-29T07:42:40.265584",
     "exception": false,
     "start_time": "2023-08-29T07:42:40.258609",
     "status": "completed"
    },
    "tags": []
   },
   "source": [
    "Feel free to use any additional code cells for supplemental work.  To get credit for finishing this question, you'll need to run `q2.check()` and get a result of **Correct**."
   ]
  },
  {
   "cell_type": "code",
   "execution_count": 7,
   "id": "9e98620e",
   "metadata": {
    "execution": {
     "iopub.execute_input": "2023-08-29T07:42:40.280592Z",
     "iopub.status.busy": "2023-08-29T07:42:40.279618Z",
     "iopub.status.idle": "2023-08-29T07:42:40.318301Z",
     "shell.execute_reply": "2023-08-29T07:42:40.317096Z"
    },
    "papermill": {
     "duration": 0.049588,
     "end_time": "2023-08-29T07:42:40.320927",
     "exception": false,
     "start_time": "2023-08-29T07:42:40.271339",
     "status": "completed"
    },
    "tags": []
   },
   "outputs": [
    {
     "name": "stdout",
     "output_type": "stream",
     "text": [
      "{'encoding': 'ascii', 'language': 'English', 'confidence': 1.0}\n"
     ]
    }
   ],
   "source": [
    "# (Optional) Use this code cell for any additional work.\n",
    "# look at the first ten thousand bytes to guess the character encoding\n",
    "with open(\"../input/fatal-police-shootings-in-the-us/PoliceKillingsUS.csv\", 'rb') as rawdata:\n",
    "    result = charset_normalizer.detect(rawdata.read(10000))\n",
    "\n",
    "# check what the character encoding might be\n",
    "print(result)"
   ]
  },
  {
   "cell_type": "code",
   "execution_count": 8,
   "id": "55242677",
   "metadata": {
    "execution": {
     "iopub.execute_input": "2023-08-29T07:42:40.333363Z",
     "iopub.status.busy": "2023-08-29T07:42:40.332456Z",
     "iopub.status.idle": "2023-08-29T07:42:40.337129Z",
     "shell.execute_reply": "2023-08-29T07:42:40.336089Z"
    },
    "papermill": {
     "duration": 0.012966,
     "end_time": "2023-08-29T07:42:40.339146",
     "exception": false,
     "start_time": "2023-08-29T07:42:40.326180",
     "status": "completed"
    },
    "tags": []
   },
   "outputs": [],
   "source": [
    "# Lines below will give you a hint or solution code\n",
    "#q2.hint()\n",
    "#q2.solution()"
   ]
  },
  {
   "cell_type": "markdown",
   "id": "95679c8a",
   "metadata": {
    "papermill": {
     "duration": 0.004774,
     "end_time": "2023-08-29T07:42:40.348976",
     "exception": false,
     "start_time": "2023-08-29T07:42:40.344202",
     "status": "completed"
    },
    "tags": []
   },
   "source": [
    "# 3) Saving your files with UTF-8 encoding\n",
    "\n",
    "Save a version of the police killings dataset to CSV with UTF-8 encoding.  Your answer will be marked correct after saving this file.  \n",
    "\n",
    "Note: When using the `to_csv()` method, supply only the name of the file (e.g., `\"my_file.csv\"`).  This saves the file at the filepath `\"/kaggle/working/my_file.csv\"`."
   ]
  },
  {
   "cell_type": "code",
   "execution_count": 9,
   "id": "d179c087",
   "metadata": {
    "execution": {
     "iopub.execute_input": "2023-08-29T07:42:40.360441Z",
     "iopub.status.busy": "2023-08-29T07:42:40.360048Z",
     "iopub.status.idle": "2023-08-29T07:42:40.399454Z",
     "shell.execute_reply": "2023-08-29T07:42:40.398521Z"
    },
    "papermill": {
     "duration": 0.047514,
     "end_time": "2023-08-29T07:42:40.401408",
     "exception": false,
     "start_time": "2023-08-29T07:42:40.353894",
     "status": "completed"
    },
    "tags": []
   },
   "outputs": [
    {
     "data": {
      "application/javascript": [
       "parent.postMessage({\"jupyterEvent\": \"custom.exercise_interaction\", \"data\": {\"outcomeType\": 1, \"valueTowardsCompletion\": 0.3333333333333333, \"interactionType\": 1, \"questionType\": 2, \"questionId\": \"3_SaveCSV\", \"learnToolsVersion\": \"0.3.4\", \"failureMessage\": \"\", \"exceptionClass\": \"\", \"trace\": \"\"}}, \"*\")"
      ],
      "text/plain": [
       "<IPython.core.display.Javascript object>"
      ]
     },
     "metadata": {},
     "output_type": "display_data"
    },
    {
     "data": {
      "text/markdown": [
       "<span style=\"color:#33cc33\">Correct</span>"
      ],
      "text/plain": [
       "Correct"
      ]
     },
     "metadata": {},
     "output_type": "display_data"
    }
   ],
   "source": [
    "# TODO: Save the police killings dataset to CSV\n",
    "police_killings.to_csv(\"/kaggle/working/my_file.csv\")\n",
    "\n",
    "# Check your answer\n",
    "q3.check()"
   ]
  },
  {
   "cell_type": "code",
   "execution_count": 10,
   "id": "e00e7a57",
   "metadata": {
    "execution": {
     "iopub.execute_input": "2023-08-29T07:42:40.412986Z",
     "iopub.status.busy": "2023-08-29T07:42:40.412650Z",
     "iopub.status.idle": "2023-08-29T07:42:40.416915Z",
     "shell.execute_reply": "2023-08-29T07:42:40.415932Z"
    },
    "papermill": {
     "duration": 0.015722,
     "end_time": "2023-08-29T07:42:40.422315",
     "exception": false,
     "start_time": "2023-08-29T07:42:40.406593",
     "status": "completed"
    },
    "tags": []
   },
   "outputs": [],
   "source": [
    "# Lines below will give you a hint or solution code\n",
    "#q3.hint()\n",
    "#q3.solution()"
   ]
  },
  {
   "cell_type": "markdown",
   "id": "d5b4529f",
   "metadata": {
    "papermill": {
     "duration": 0.004946,
     "end_time": "2023-08-29T07:42:40.433489",
     "exception": false,
     "start_time": "2023-08-29T07:42:40.428543",
     "status": "completed"
    },
    "tags": []
   },
   "source": [
    "# (Optional) More practice\n",
    "\n",
    "Check out [this dataset of files in different character encodings](https://www.kaggle.com/rtatman/character-encoding-examples). Can you read in all the files with their original encodings and them save them out as UTF-8 files?\n",
    "\n",
    "If you have a file that's in UTF-8 but has just a couple of weird-looking characters in it, you can try out the [ftfy module](https://ftfy.readthedocs.io/en/latest/#) and see if it helps. \n",
    "\n",
    "# Keep going\n",
    "\n",
    "In the final lesson, learn how to [**clean up inconsistent text entries**](https://www.kaggle.com/alexisbcook/inconsistent-data-entry) in your dataset."
   ]
  },
  {
   "cell_type": "markdown",
   "id": "a3efa70a",
   "metadata": {
    "papermill": {
     "duration": 0.005645,
     "end_time": "2023-08-29T07:42:40.445816",
     "exception": false,
     "start_time": "2023-08-29T07:42:40.440171",
     "status": "completed"
    },
    "tags": []
   },
   "source": [
    "---\n",
    "\n",
    "\n",
    "\n",
    "\n",
    "*Have questions or comments? Visit the [course discussion forum](https://www.kaggle.com/learn/data-cleaning/discussion) to chat with other learners.*"
   ]
  }
 ],
 "metadata": {
  "kernelspec": {
   "display_name": "Python 3",
   "language": "python",
   "name": "python3"
  },
  "language_info": {
   "codemirror_mode": {
    "name": "ipython",
    "version": 3
   },
   "file_extension": ".py",
   "mimetype": "text/x-python",
   "name": "python",
   "nbconvert_exporter": "python",
   "pygments_lexer": "ipython3",
   "version": "3.10.12"
  },
  "papermill": {
   "default_parameters": {},
   "duration": 10.12403,
   "end_time": "2023-08-29T07:42:41.275510",
   "environment_variables": {},
   "exception": null,
   "input_path": "__notebook__.ipynb",
   "output_path": "__notebook__.ipynb",
   "parameters": {},
   "start_time": "2023-08-29T07:42:31.151480",
   "version": "2.4.0"
  }
 },
 "nbformat": 4,
 "nbformat_minor": 5
}
