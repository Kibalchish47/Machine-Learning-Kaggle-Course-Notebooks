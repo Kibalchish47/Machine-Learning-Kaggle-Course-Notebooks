{
 "cells": [
  {
   "cell_type": "markdown",
   "id": "e433fe6a",
   "metadata": {
    "papermill": {
     "duration": 0.008237,
     "end_time": "2023-09-01T09:25:18.974950",
     "exception": false,
     "start_time": "2023-09-01T09:25:18.966713",
     "status": "completed"
    },
    "tags": []
   },
   "source": [
    "**This notebook is an exercise in the [Feature Engineering](https://www.kaggle.com/learn/feature-engineering) course.  You can reference the tutorial at [this link](https://www.kaggle.com/ryanholbrook/creating-features).**\n",
    "\n",
    "---\n"
   ]
  },
  {
   "cell_type": "markdown",
   "id": "b628dcf2",
   "metadata": {
    "papermill": {
     "duration": 0.006349,
     "end_time": "2023-09-01T09:25:18.988146",
     "exception": false,
     "start_time": "2023-09-01T09:25:18.981797",
     "status": "completed"
    },
    "tags": []
   },
   "source": [
    "**Tips on Discovering New Features (from the Creating Features tutorial):** \n",
    "- Understand the features. Refer to your dataset's *data documentation*, if available.\n",
    "- Research the problem domain to acquire **domain knowledge**. If your problem is predicting house prices, do some research on real-estate for instance. Wikipedia can be a good starting point, but books and journal articles will often have the best information.\n",
    "- Study previous work. [Solution write-ups](https://www.kaggle.com/sudalairajkumar/winning-solutions-of-kaggle-competitions) from past Kaggle competitions are a great resource.\n",
    "- Use data visualization. Visualization can reveal pathologies in the distribution of a feature or complicated relationships that could be simplified. Be sure to visualize your dataset as you work through the feature engineering process."
   ]
  },
  {
   "cell_type": "markdown",
   "id": "1cf25bdf",
   "metadata": {
    "papermill": {
     "duration": 0.006556,
     "end_time": "2023-09-01T09:25:19.002152",
     "exception": false,
     "start_time": "2023-09-01T09:25:18.995596",
     "status": "completed"
    },
    "tags": []
   },
   "source": [
    "**Tips on Creating Features (from the Creating Features tutorial):**\n",
    "- It's good to keep in mind your model's own strengths and weaknesses when creating features. Here are some guidelines:\n",
    "- Linear models learn sums and differences naturally, but can't learn anything more complex.\n",
    "- Ratios seem to be difficult for most models to learn. Ratio combinations often lead to some easy performance gains.\n",
    "- Linear models and neural nets generally do better with normalized features. Neural nets especially need features scaled to values not too far from 0. Tree-based models (like random forests and XGBoost) can sometimes benefit from normalization, but usually much less so.\n",
    "- Tree models can learn to approximate almost any combination of features, but when a combination is especially important they can still benefit from having it explicitly created, especially when data is limited.\n",
    "- Counts are especially helpful for tree models, since these models don't have a natural way of aggregating information across many features at once."
   ]
  },
  {
   "cell_type": "markdown",
   "id": "88e69f9b",
   "metadata": {
    "papermill": {
     "duration": 0.006873,
     "end_time": "2023-09-01T09:25:19.015429",
     "exception": false,
     "start_time": "2023-09-01T09:25:19.008556",
     "status": "completed"
    },
    "tags": []
   },
   "source": [
    "# Introduction #\n",
    "\n",
    "In this exercise you'll start developing the features you identified in Exercise 2 as having the most potential. As you work through this exercise, you might take a moment to look at the data documentation again and consider whether the features we're creating make sense from a real-world perspective, and whether there are any useful combinations that stand out to you.\n",
    "\n",
    "Run this cell to set everything up!"
   ]
  },
  {
   "cell_type": "code",
   "execution_count": 1,
   "id": "ac774c5d",
   "metadata": {
    "execution": {
     "iopub.execute_input": "2023-09-01T09:25:19.030395Z",
     "iopub.status.busy": "2023-09-01T09:25:19.029719Z",
     "iopub.status.idle": "2023-09-01T09:25:21.230990Z",
     "shell.execute_reply": "2023-09-01T09:25:21.229504Z"
    },
    "papermill": {
     "duration": 2.211612,
     "end_time": "2023-09-01T09:25:21.233528",
     "exception": false,
     "start_time": "2023-09-01T09:25:19.021916",
     "status": "completed"
    },
    "tags": []
   },
   "outputs": [],
   "source": [
    "# Setup feedback system\n",
    "from learntools.core import binder\n",
    "binder.bind(globals())\n",
    "from learntools.feature_engineering_new.ex3 import *\n",
    "\n",
    "import numpy as np\n",
    "import pandas as pd\n",
    "from sklearn.model_selection import cross_val_score\n",
    "from xgboost import XGBRegressor\n",
    "\n",
    "\n",
    "def score_dataset(X, y, model=XGBRegressor()):\n",
    "    # Label encoding for categoricals\n",
    "    for colname in X.select_dtypes([\"category\", \"object\"]):\n",
    "        X[colname], _ = X[colname].factorize()\n",
    "    # Metric for Housing competition is RMSLE (Root Mean Squared Log Error)\n",
    "    score = cross_val_score(\n",
    "        model, X, y, cv=5, scoring=\"neg_mean_squared_log_error\",\n",
    "    )\n",
    "    score = -1 * score.mean()\n",
    "    score = np.sqrt(score)\n",
    "    return score\n",
    "\n",
    "\n",
    "# Prepare data\n",
    "df = pd.read_csv(\"../input/fe-course-data/ames.csv\")\n",
    "X = df.copy()\n",
    "y = X.pop(\"SalePrice\")"
   ]
  },
  {
   "cell_type": "markdown",
   "id": "459f2bf5",
   "metadata": {
    "papermill": {
     "duration": 0.006635,
     "end_time": "2023-09-01T09:25:21.246603",
     "exception": false,
     "start_time": "2023-09-01T09:25:21.239968",
     "status": "completed"
    },
    "tags": []
   },
   "source": [
    "-------------------------------------------------------------------------------\n",
    "\n",
    "Let's start with a few mathematical combinations. We'll focus on features describing areas -- having the same units (square-feet) makes it easy to combine them in sensible ways. Since we're using XGBoost (a tree-based model), we'll focus on ratios and sums.\n",
    "\n",
    "# 1) Create Mathematical Transforms\n",
    "\n",
    "Create the following features:\n",
    "\n",
    "- `LivLotRatio`: the ratio of `GrLivArea` to `LotArea`\n",
    "- `Spaciousness`: the sum of `FirstFlrSF` and `SecondFlrSF` divided by `TotRmsAbvGrd`\n",
    "- `TotalOutsideSF`: the sum of `WoodDeckSF`, `OpenPorchSF`, `EnclosedPorch`, `Threeseasonporch`, and `ScreenPorch`"
   ]
  },
  {
   "cell_type": "code",
   "execution_count": 2,
   "id": "f266aca5",
   "metadata": {
    "execution": {
     "iopub.execute_input": "2023-09-01T09:25:21.261424Z",
     "iopub.status.busy": "2023-09-01T09:25:21.261022Z",
     "iopub.status.idle": "2023-09-01T09:25:21.286644Z",
     "shell.execute_reply": "2023-09-01T09:25:21.285350Z"
    },
    "lines_to_next_cell": 0,
    "papermill": {
     "duration": 0.037043,
     "end_time": "2023-09-01T09:25:21.289922",
     "exception": false,
     "start_time": "2023-09-01T09:25:21.252879",
     "status": "completed"
    },
    "tags": []
   },
   "outputs": [
    {
     "data": {
      "application/javascript": [
       "parent.postMessage({\"jupyterEvent\": \"custom.exercise_interaction\", \"data\": {\"outcomeType\": 1, \"valueTowardsCompletion\": 0.2, \"interactionType\": 1, \"questionType\": 2, \"questionId\": \"1_Q1\", \"learnToolsVersion\": \"0.3.4\", \"failureMessage\": \"\", \"exceptionClass\": \"\", \"trace\": \"\"}}, \"*\")"
      ],
      "text/plain": [
       "<IPython.core.display.Javascript object>"
      ]
     },
     "metadata": {},
     "output_type": "display_data"
    },
    {
     "data": {
      "text/markdown": [
       "<span style=\"color:#33cc33\">Correct</span>"
      ],
      "text/plain": [
       "Correct"
      ]
     },
     "metadata": {},
     "output_type": "display_data"
    }
   ],
   "source": [
    "# YOUR CODE HERE\n",
    "X_1 = pd.DataFrame()  # dataframe to hold new features\n",
    "\n",
    "X_1[\"LivLotRatio\"] = df.GrLivArea / df.LotArea\n",
    "X_1[\"Spaciousness\"] = (df.FirstFlrSF + df.SecondFlrSF) / df.TotRmsAbvGrd\n",
    "X_1[\"TotalOutsideSF\"] = df.WoodDeckSF + df.OpenPorchSF + df.EnclosedPorch + df.Threeseasonporch + df.ScreenPorch\n",
    "\n",
    "# Check your answer\n",
    "q_1.check()"
   ]
  },
  {
   "cell_type": "code",
   "execution_count": 3,
   "id": "794d6972",
   "metadata": {
    "execution": {
     "iopub.execute_input": "2023-09-01T09:25:21.305223Z",
     "iopub.status.busy": "2023-09-01T09:25:21.304860Z",
     "iopub.status.idle": "2023-09-01T09:25:21.310119Z",
     "shell.execute_reply": "2023-09-01T09:25:21.308448Z"
    },
    "lines_to_next_cell": 0,
    "papermill": {
     "duration": 0.015746,
     "end_time": "2023-09-01T09:25:21.312578",
     "exception": false,
     "start_time": "2023-09-01T09:25:21.296832",
     "status": "completed"
    },
    "tags": []
   },
   "outputs": [],
   "source": [
    "# Lines below will give you a hint or solution code\n",
    "#q_1.hint()\n",
    "#q_1.solution()"
   ]
  },
  {
   "cell_type": "markdown",
   "id": "3dab68f0",
   "metadata": {
    "papermill": {
     "duration": 0.00697,
     "end_time": "2023-09-01T09:25:21.326468",
     "exception": false,
     "start_time": "2023-09-01T09:25:21.319498",
     "status": "completed"
    },
    "tags": []
   },
   "source": [
    "-------------------------------------------------------------------------------\n",
    "\n",
    "If you've discovered an interaction effect between a numeric feature and a categorical feature, you might want to model it explicitly using a one-hot encoding, like so:\n",
    "\n",
    "```\n",
    "# One-hot encode Categorical feature, adding a column prefix \"Cat\"\n",
    "X_new = pd.get_dummies(df.Categorical, prefix=\"Cat\")\n",
    "\n",
    "# Multiply row-by-row\n",
    "X_new = X_new.mul(df.Continuous, axis=0)\n",
    "\n",
    "# Join the new features to the feature set\n",
    "X = X.join(X_new)\n",
    "```\n",
    "\n",
    "# 2) Interaction with a Categorical\n",
    "\n",
    "We discovered an interaction between `BldgType` and `GrLivArea` in Exercise 2. Now create their interaction features."
   ]
  },
  {
   "cell_type": "code",
   "execution_count": 4,
   "id": "11ab813b",
   "metadata": {
    "execution": {
     "iopub.execute_input": "2023-09-01T09:25:21.341929Z",
     "iopub.status.busy": "2023-09-01T09:25:21.341600Z",
     "iopub.status.idle": "2023-09-01T09:25:21.359020Z",
     "shell.execute_reply": "2023-09-01T09:25:21.357598Z"
    },
    "lines_to_next_cell": 0,
    "papermill": {
     "duration": 0.027915,
     "end_time": "2023-09-01T09:25:21.361336",
     "exception": false,
     "start_time": "2023-09-01T09:25:21.333421",
     "status": "completed"
    },
    "tags": []
   },
   "outputs": [
    {
     "data": {
      "application/javascript": [
       "parent.postMessage({\"jupyterEvent\": \"custom.exercise_interaction\", \"data\": {\"outcomeType\": 1, \"valueTowardsCompletion\": 0.2, \"interactionType\": 1, \"questionType\": 2, \"questionId\": \"2_Q2\", \"learnToolsVersion\": \"0.3.4\", \"failureMessage\": \"\", \"exceptionClass\": \"\", \"trace\": \"\"}}, \"*\")"
      ],
      "text/plain": [
       "<IPython.core.display.Javascript object>"
      ]
     },
     "metadata": {},
     "output_type": "display_data"
    },
    {
     "data": {
      "text/markdown": [
       "<span style=\"color:#33cc33\">Correct</span>"
      ],
      "text/plain": [
       "Correct"
      ]
     },
     "metadata": {},
     "output_type": "display_data"
    }
   ],
   "source": [
    "# YOUR CODE HERE\n",
    "# One-hot encode BldgType. Use `prefix=\"Bldg\"` in `get_dummies`\n",
    "X_2 = pd.get_dummies(df.BldgType, prefix=\"Bldg\")\n",
    "# Multiply\n",
    "X_2 = X_2.mul(df.GrLivArea, axis=0)\n",
    "\n",
    "\n",
    "# Check your answer\n",
    "q_2.check()"
   ]
  },
  {
   "cell_type": "code",
   "execution_count": 5,
   "id": "2d91c658",
   "metadata": {
    "execution": {
     "iopub.execute_input": "2023-09-01T09:25:21.376954Z",
     "iopub.status.busy": "2023-09-01T09:25:21.376544Z",
     "iopub.status.idle": "2023-09-01T09:25:21.381291Z",
     "shell.execute_reply": "2023-09-01T09:25:21.380267Z"
    },
    "lines_to_next_cell": 0,
    "papermill": {
     "duration": 0.014857,
     "end_time": "2023-09-01T09:25:21.383158",
     "exception": false,
     "start_time": "2023-09-01T09:25:21.368301",
     "status": "completed"
    },
    "tags": []
   },
   "outputs": [],
   "source": [
    "# Lines below will give you a hint or solution code\n",
    "#q_2.hint()\n",
    "#q_2.solution()"
   ]
  },
  {
   "cell_type": "markdown",
   "id": "007804f2",
   "metadata": {
    "lines_to_next_cell": 0,
    "papermill": {
     "duration": 0.007528,
     "end_time": "2023-09-01T09:25:21.397761",
     "exception": false,
     "start_time": "2023-09-01T09:25:21.390233",
     "status": "completed"
    },
    "tags": []
   },
   "source": [
    "# 3) Count Feature\n",
    "\n",
    "Let's try creating a feature that describes how many kinds of outdoor areas a dwelling has. Create a feature `PorchTypes` that counts how many of the following are greater than 0.0:\n",
    "\n",
    "```\n",
    "WoodDeckSF\n",
    "OpenPorchSF\n",
    "EnclosedPorch\n",
    "Threeseasonporch\n",
    "ScreenPorch\n",
    "```"
   ]
  },
  {
   "cell_type": "code",
   "execution_count": 6,
   "id": "71fea885",
   "metadata": {
    "execution": {
     "iopub.execute_input": "2023-09-01T09:25:21.414164Z",
     "iopub.status.busy": "2023-09-01T09:25:21.413794Z",
     "iopub.status.idle": "2023-09-01T09:25:21.431236Z",
     "shell.execute_reply": "2023-09-01T09:25:21.430036Z"
    },
    "lines_to_next_cell": 0,
    "papermill": {
     "duration": 0.028017,
     "end_time": "2023-09-01T09:25:21.433177",
     "exception": false,
     "start_time": "2023-09-01T09:25:21.405160",
     "status": "completed"
    },
    "tags": []
   },
   "outputs": [
    {
     "data": {
      "application/javascript": [
       "parent.postMessage({\"jupyterEvent\": \"custom.exercise_interaction\", \"data\": {\"outcomeType\": 1, \"valueTowardsCompletion\": 0.2, \"interactionType\": 1, \"questionType\": 2, \"questionId\": \"3_Q3\", \"learnToolsVersion\": \"0.3.4\", \"failureMessage\": \"\", \"exceptionClass\": \"\", \"trace\": \"\"}}, \"*\")"
      ],
      "text/plain": [
       "<IPython.core.display.Javascript object>"
      ]
     },
     "metadata": {},
     "output_type": "display_data"
    },
    {
     "data": {
      "text/markdown": [
       "<span style=\"color:#33cc33\">Correct</span>"
      ],
      "text/plain": [
       "Correct"
      ]
     },
     "metadata": {},
     "output_type": "display_data"
    }
   ],
   "source": [
    "X_3 = pd.DataFrame()\n",
    "\n",
    "# YOUR CODE HERE\n",
    "X_3[\"PorchTypes\"] = df[[\n",
    "    \"WoodDeckSF\",\n",
    "    \"OpenPorchSF\",\n",
    "    \"EnclosedPorch\",\n",
    "    \"Threeseasonporch\",\n",
    "    \"ScreenPorch\",\n",
    "]].gt(0.0).sum(axis=1)\n",
    "\n",
    "\n",
    "# Check your answer\n",
    "q_3.check()"
   ]
  },
  {
   "cell_type": "code",
   "execution_count": 7,
   "id": "0047a6b1",
   "metadata": {
    "execution": {
     "iopub.execute_input": "2023-09-01T09:25:21.449151Z",
     "iopub.status.busy": "2023-09-01T09:25:21.448760Z",
     "iopub.status.idle": "2023-09-01T09:25:21.454194Z",
     "shell.execute_reply": "2023-09-01T09:25:21.452582Z"
    },
    "lines_to_next_cell": 0,
    "papermill": {
     "duration": 0.016683,
     "end_time": "2023-09-01T09:25:21.456821",
     "exception": false,
     "start_time": "2023-09-01T09:25:21.440138",
     "status": "completed"
    },
    "tags": []
   },
   "outputs": [],
   "source": [
    "# Lines below will give you a hint or solution code\n",
    "#q_3.hint()\n",
    "#q_3.solution()"
   ]
  },
  {
   "cell_type": "markdown",
   "id": "561b2258",
   "metadata": {
    "papermill": {
     "duration": 0.007199,
     "end_time": "2023-09-01T09:25:21.471952",
     "exception": false,
     "start_time": "2023-09-01T09:25:21.464753",
     "status": "completed"
    },
    "tags": []
   },
   "source": [
    "# 4) Break Down a Categorical Feature\n",
    "\n",
    "`MSSubClass` describes the type of a dwelling:"
   ]
  },
  {
   "cell_type": "code",
   "execution_count": 8,
   "id": "1cbe4ab7",
   "metadata": {
    "execution": {
     "iopub.execute_input": "2023-09-01T09:25:21.488970Z",
     "iopub.status.busy": "2023-09-01T09:25:21.488549Z",
     "iopub.status.idle": "2023-09-01T09:25:21.498908Z",
     "shell.execute_reply": "2023-09-01T09:25:21.497356Z"
    },
    "papermill": {
     "duration": 0.021822,
     "end_time": "2023-09-01T09:25:21.501383",
     "exception": false,
     "start_time": "2023-09-01T09:25:21.479561",
     "status": "completed"
    },
    "tags": []
   },
   "outputs": [
    {
     "data": {
      "text/plain": [
       "array(['One_Story_1946_and_Newer_All_Styles', 'Two_Story_1946_and_Newer',\n",
       "       'One_Story_PUD_1946_and_Newer',\n",
       "       'One_and_Half_Story_Finished_All_Ages', 'Split_Foyer',\n",
       "       'Two_Story_PUD_1946_and_Newer', 'Split_or_Multilevel',\n",
       "       'One_Story_1945_and_Older', 'Duplex_All_Styles_and_Ages',\n",
       "       'Two_Family_conversion_All_Styles_and_Ages',\n",
       "       'One_and_Half_Story_Unfinished_All_Ages',\n",
       "       'Two_Story_1945_and_Older', 'Two_and_Half_Story_All_Ages',\n",
       "       'One_Story_with_Finished_Attic_All_Ages',\n",
       "       'PUD_Multilevel_Split_Level_Foyer',\n",
       "       'One_and_Half_Story_PUD_All_Ages'], dtype=object)"
      ]
     },
     "execution_count": 8,
     "metadata": {},
     "output_type": "execute_result"
    }
   ],
   "source": [
    "df.MSSubClass.unique()"
   ]
  },
  {
   "cell_type": "markdown",
   "id": "02a6c064",
   "metadata": {
    "papermill": {
     "duration": 0.007681,
     "end_time": "2023-09-01T09:25:21.516883",
     "exception": false,
     "start_time": "2023-09-01T09:25:21.509202",
     "status": "completed"
    },
    "tags": []
   },
   "source": [
    "You can see that there is a more general categorization described (roughly) by the first word of each category. Create a feature containing only these first words by splitting `MSSubClass` at the first underscore `_`. (Hint: In the `split` method use an argument `n=1`.)"
   ]
  },
  {
   "cell_type": "code",
   "execution_count": 9,
   "id": "f4ef5e44",
   "metadata": {
    "execution": {
     "iopub.execute_input": "2023-09-01T09:25:21.534295Z",
     "iopub.status.busy": "2023-09-01T09:25:21.533890Z",
     "iopub.status.idle": "2023-09-01T09:25:21.634783Z",
     "shell.execute_reply": "2023-09-01T09:25:21.634153Z"
    },
    "lines_to_next_cell": 0,
    "papermill": {
     "duration": 0.111921,
     "end_time": "2023-09-01T09:25:21.636604",
     "exception": false,
     "start_time": "2023-09-01T09:25:21.524683",
     "status": "completed"
    },
    "tags": []
   },
   "outputs": [
    {
     "data": {
      "application/javascript": [
       "parent.postMessage({\"jupyterEvent\": \"custom.exercise_interaction\", \"data\": {\"outcomeType\": 1, \"valueTowardsCompletion\": 0.2, \"interactionType\": 1, \"questionType\": 2, \"questionId\": \"4_Q4\", \"learnToolsVersion\": \"0.3.4\", \"failureMessage\": \"\", \"exceptionClass\": \"\", \"trace\": \"\"}}, \"*\")"
      ],
      "text/plain": [
       "<IPython.core.display.Javascript object>"
      ]
     },
     "metadata": {},
     "output_type": "display_data"
    },
    {
     "data": {
      "text/markdown": [
       "<span style=\"color:#33cc33\">Correct</span>"
      ],
      "text/plain": [
       "Correct"
      ]
     },
     "metadata": {},
     "output_type": "display_data"
    }
   ],
   "source": [
    "X_4 = pd.DataFrame()\n",
    "\n",
    "# YOUR CODE HERE\n",
    "X_4 = pd.DataFrame()\n",
    "\n",
    "X_4[\"MSClass\"] = df.MSSubClass.str.split(\"_\", n=1, expand=True)[0]\n",
    "\n",
    "# Check your answer\n",
    "q_4.check()"
   ]
  },
  {
   "cell_type": "code",
   "execution_count": 10,
   "id": "5e9c82d8",
   "metadata": {
    "execution": {
     "iopub.execute_input": "2023-09-01T09:25:21.655454Z",
     "iopub.status.busy": "2023-09-01T09:25:21.655021Z",
     "iopub.status.idle": "2023-09-01T09:25:21.660808Z",
     "shell.execute_reply": "2023-09-01T09:25:21.659027Z"
    },
    "lines_to_next_cell": 0,
    "papermill": {
     "duration": 0.017706,
     "end_time": "2023-09-01T09:25:21.663708",
     "exception": false,
     "start_time": "2023-09-01T09:25:21.646002",
     "status": "completed"
    },
    "tags": []
   },
   "outputs": [],
   "source": [
    "# Lines below will give you a hint or solution code\n",
    "#q_4.hint()\n",
    "#q_4.solution()"
   ]
  },
  {
   "cell_type": "markdown",
   "id": "1e03822d",
   "metadata": {
    "papermill": {
     "duration": 0.007554,
     "end_time": "2023-09-01T09:25:21.679090",
     "exception": false,
     "start_time": "2023-09-01T09:25:21.671536",
     "status": "completed"
    },
    "tags": []
   },
   "source": [
    "# 5) Use a Grouped Transform\n",
    "\n",
    "The value of a home often depends on how it compares to typical homes in its neighborhood. Create a feature `MedNhbdArea` that describes the *median* of `GrLivArea` grouped on `Neighborhood`."
   ]
  },
  {
   "cell_type": "code",
   "execution_count": 11,
   "id": "62ba5e68",
   "metadata": {
    "execution": {
     "iopub.execute_input": "2023-09-01T09:25:21.697122Z",
     "iopub.status.busy": "2023-09-01T09:25:21.695980Z",
     "iopub.status.idle": "2023-09-01T09:25:21.716795Z",
     "shell.execute_reply": "2023-09-01T09:25:21.715427Z"
    },
    "lines_to_next_cell": 0,
    "papermill": {
     "duration": 0.032149,
     "end_time": "2023-09-01T09:25:21.719239",
     "exception": false,
     "start_time": "2023-09-01T09:25:21.687090",
     "status": "completed"
    },
    "tags": []
   },
   "outputs": [
    {
     "data": {
      "application/javascript": [
       "parent.postMessage({\"jupyterEvent\": \"custom.exercise_interaction\", \"data\": {\"outcomeType\": 1, \"valueTowardsCompletion\": 0.2, \"interactionType\": 1, \"questionType\": 2, \"questionId\": \"5_Q5\", \"learnToolsVersion\": \"0.3.4\", \"failureMessage\": \"\", \"exceptionClass\": \"\", \"trace\": \"\"}}, \"*\")"
      ],
      "text/plain": [
       "<IPython.core.display.Javascript object>"
      ]
     },
     "metadata": {},
     "output_type": "display_data"
    },
    {
     "data": {
      "text/markdown": [
       "<span style=\"color:#33cc33\">Correct</span>"
      ],
      "text/plain": [
       "Correct"
      ]
     },
     "metadata": {},
     "output_type": "display_data"
    }
   ],
   "source": [
    "X_5 = pd.DataFrame()\n",
    "\n",
    "# YOUR CODE HERE\n",
    "\n",
    "X_5[\"MedNhbdArea\"] = df.groupby(\"Neighborhood\")[\"GrLivArea\"].transform(\"median\")\n",
    "\n",
    "# Check your answer\n",
    "q_5.check()"
   ]
  },
  {
   "cell_type": "code",
   "execution_count": 12,
   "id": "f50a1af2",
   "metadata": {
    "execution": {
     "iopub.execute_input": "2023-09-01T09:25:21.737728Z",
     "iopub.status.busy": "2023-09-01T09:25:21.737332Z",
     "iopub.status.idle": "2023-09-01T09:25:21.742899Z",
     "shell.execute_reply": "2023-09-01T09:25:21.741476Z"
    },
    "lines_to_next_cell": 0,
    "papermill": {
     "duration": 0.017686,
     "end_time": "2023-09-01T09:25:21.745186",
     "exception": false,
     "start_time": "2023-09-01T09:25:21.727500",
     "status": "completed"
    },
    "tags": []
   },
   "outputs": [],
   "source": [
    "# Lines below will give you a hint or solution code\n",
    "#q_5.hint()\n",
    "#q_5.solution()"
   ]
  },
  {
   "cell_type": "markdown",
   "id": "fe3eb808",
   "metadata": {
    "papermill": {
     "duration": 0.007273,
     "end_time": "2023-09-01T09:25:21.760461",
     "exception": false,
     "start_time": "2023-09-01T09:25:21.753188",
     "status": "completed"
    },
    "tags": []
   },
   "source": [
    "Now you've made your first new feature set! If you like, you can run the cell below to score the model with all of your new features added:"
   ]
  },
  {
   "cell_type": "code",
   "execution_count": 13,
   "id": "5bc37946",
   "metadata": {
    "execution": {
     "iopub.execute_input": "2023-09-01T09:25:21.777674Z",
     "iopub.status.busy": "2023-09-01T09:25:21.777284Z",
     "iopub.status.idle": "2023-09-01T09:25:24.959214Z",
     "shell.execute_reply": "2023-09-01T09:25:24.958354Z"
    },
    "papermill": {
     "duration": 3.193247,
     "end_time": "2023-09-01T09:25:24.961500",
     "exception": false,
     "start_time": "2023-09-01T09:25:21.768253",
     "status": "completed"
    },
    "tags": []
   },
   "outputs": [
    {
     "data": {
      "text/plain": [
       "0.14039620568946104"
      ]
     },
     "execution_count": 13,
     "metadata": {},
     "output_type": "execute_result"
    }
   ],
   "source": [
    "X_new = X.join([X_1, X_2, X_3, X_4, X_5])\n",
    "score_dataset(X_new, y)"
   ]
  },
  {
   "cell_type": "markdown",
   "id": "9d7ac803",
   "metadata": {
    "papermill": {
     "duration": 0.007988,
     "end_time": "2023-09-01T09:25:24.978166",
     "exception": false,
     "start_time": "2023-09-01T09:25:24.970178",
     "status": "completed"
    },
    "tags": []
   },
   "source": [
    "# Keep Going #\n",
    "\n",
    "[**Untangle spatial relationships**](https://www.kaggle.com/ryanholbrook/clustering-with-k-means) by adding cluster labels to your dataset."
   ]
  },
  {
   "cell_type": "markdown",
   "id": "85d6ed3d",
   "metadata": {
    "papermill": {
     "duration": 0.007281,
     "end_time": "2023-09-01T09:25:24.992968",
     "exception": false,
     "start_time": "2023-09-01T09:25:24.985687",
     "status": "completed"
    },
    "tags": []
   },
   "source": [
    "---\n",
    "\n",
    "\n",
    "\n",
    "\n",
    "*Have questions or comments? Visit the [course discussion forum](https://www.kaggle.com/learn/feature-engineering/discussion) to chat with other learners.*"
   ]
  }
 ],
 "kernelspec": {
  "display_name": "Python 3",
  "language": "python",
  "name": "python3"
 },
 "language_info": {
  "codemirror_mode": {
   "name": "ipython",
   "version": 3
  },
  "file_extension": ".py",
  "mimetype": "text/x-python",
  "name": "python",
  "nbconvert_exporter": "python",
  "pygments_lexer": "ipython3",
  "version": "3.6.4"
 },
 "metadata": {
  "jupytext": {
   "cell_metadata_filter": "-all",
   "formats": "ipynb"
  },
  "kernelspec": {
   "display_name": "Python 3",
   "language": "python",
   "name": "python3"
  },
  "language_info": {
   "codemirror_mode": {
    "name": "ipython",
    "version": 3
   },
   "file_extension": ".py",
   "mimetype": "text/x-python",
   "name": "python",
   "nbconvert_exporter": "python",
   "pygments_lexer": "ipython3",
   "version": "3.10.12"
  },
  "papermill": {
   "default_parameters": {},
   "duration": 9.648049,
   "end_time": "2023-09-01T09:25:25.625366",
   "environment_variables": {},
   "exception": null,
   "input_path": "__notebook__.ipynb",
   "output_path": "__notebook__.ipynb",
   "parameters": {},
   "start_time": "2023-09-01T09:25:15.977317",
   "version": "2.4.0"
  }
 },
 "nbformat": 4,
 "nbformat_minor": 5
}
