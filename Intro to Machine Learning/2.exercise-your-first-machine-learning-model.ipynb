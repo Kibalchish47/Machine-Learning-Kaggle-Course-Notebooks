{
 "cells": [
  {
   "cell_type": "markdown",
   "id": "d1a879c8",
   "metadata": {
    "papermill": {
     "duration": 0.004843,
     "end_time": "2023-08-23T08:43:49.131960",
     "exception": false,
     "start_time": "2023-08-23T08:43:49.127117",
     "status": "completed"
    },
    "tags": []
   },
   "source": [
    "**This notebook is an exercise in the [Introduction to Machine Learning](https://www.kaggle.com/learn/intro-to-machine-learning) course.  You can reference the tutorial at [this link](https://www.kaggle.com/dansbecker/your-first-machine-learning-model).**\n",
    "\n",
    "---\n"
   ]
  },
  {
   "cell_type": "markdown",
   "id": "4a024aec",
   "metadata": {
    "papermill": {
     "duration": 0.003755,
     "end_time": "2023-08-23T08:43:49.139849",
     "exception": false,
     "start_time": "2023-08-23T08:43:49.136094",
     "status": "completed"
    },
    "tags": []
   },
   "source": [
    "## Recap\n",
    "So far, you have loaded your data and reviewed it with the following code. Run this cell to set up your coding environment where the previous step left off."
   ]
  },
  {
   "cell_type": "code",
   "execution_count": 1,
   "id": "28baeac2",
   "metadata": {
    "execution": {
     "iopub.execute_input": "2023-08-23T08:43:49.149957Z",
     "iopub.status.busy": "2023-08-23T08:43:49.149055Z",
     "iopub.status.idle": "2023-08-23T08:43:50.539586Z",
     "shell.execute_reply": "2023-08-23T08:43:50.538358Z"
    },
    "papermill": {
     "duration": 1.398002,
     "end_time": "2023-08-23T08:43:50.541915",
     "exception": false,
     "start_time": "2023-08-23T08:43:49.143913",
     "status": "completed"
    },
    "tags": []
   },
   "outputs": [
    {
     "name": "stderr",
     "output_type": "stream",
     "text": [
      "/opt/conda/lib/python3.10/site-packages/scipy/__init__.py:146: UserWarning: A NumPy version >=1.16.5 and <1.23.0 is required for this version of SciPy (detected version 1.23.5\n",
      "  warnings.warn(f\"A NumPy version >={np_minversion} and <{np_maxversion}\"\n"
     ]
    },
    {
     "name": "stdout",
     "output_type": "stream",
     "text": [
      "Setup Complete\n"
     ]
    }
   ],
   "source": [
    "# Code you have previously used to load data\n",
    "import pandas as pd\n",
    "\n",
    "# Path of the file to read\n",
    "iowa_file_path = '../input/home-data-for-ml-course/train.csv'\n",
    "\n",
    "home_data = pd.read_csv(iowa_file_path)\n",
    "\n",
    "# Set up code checking\n",
    "from learntools.core import binder\n",
    "binder.bind(globals())\n",
    "from learntools.machine_learning.ex3 import *\n",
    "\n",
    "print(\"Setup Complete\")"
   ]
  },
  {
   "cell_type": "markdown",
   "id": "f325cd13",
   "metadata": {
    "papermill": {
     "duration": 0.004091,
     "end_time": "2023-08-23T08:43:50.550571",
     "exception": false,
     "start_time": "2023-08-23T08:43:50.546480",
     "status": "completed"
    },
    "tags": []
   },
   "source": [
    "# Exercises\n",
    "\n",
    "## Step 1: Specify Prediction Target\n",
    "Select the target variable, which corresponds to the sales price. Save this to a new variable called `y`. You'll need to print a list of the columns to find the name of the column you need.\n"
   ]
  },
  {
   "cell_type": "code",
   "execution_count": 2,
   "id": "2cd9ca05",
   "metadata": {
    "execution": {
     "iopub.execute_input": "2023-08-23T08:43:50.560799Z",
     "iopub.status.busy": "2023-08-23T08:43:50.560415Z",
     "iopub.status.idle": "2023-08-23T08:43:50.566176Z",
     "shell.execute_reply": "2023-08-23T08:43:50.565490Z"
    },
    "papermill": {
     "duration": 0.013546,
     "end_time": "2023-08-23T08:43:50.568307",
     "exception": false,
     "start_time": "2023-08-23T08:43:50.554761",
     "status": "completed"
    },
    "tags": []
   },
   "outputs": [
    {
     "name": "stdout",
     "output_type": "stream",
     "text": [
      "Index(['Id', 'MSSubClass', 'MSZoning', 'LotFrontage', 'LotArea', 'Street',\n",
      "       'Alley', 'LotShape', 'LandContour', 'Utilities', 'LotConfig',\n",
      "       'LandSlope', 'Neighborhood', 'Condition1', 'Condition2', 'BldgType',\n",
      "       'HouseStyle', 'OverallQual', 'OverallCond', 'YearBuilt', 'YearRemodAdd',\n",
      "       'RoofStyle', 'RoofMatl', 'Exterior1st', 'Exterior2nd', 'MasVnrType',\n",
      "       'MasVnrArea', 'ExterQual', 'ExterCond', 'Foundation', 'BsmtQual',\n",
      "       'BsmtCond', 'BsmtExposure', 'BsmtFinType1', 'BsmtFinSF1',\n",
      "       'BsmtFinType2', 'BsmtFinSF2', 'BsmtUnfSF', 'TotalBsmtSF', 'Heating',\n",
      "       'HeatingQC', 'CentralAir', 'Electrical', '1stFlrSF', '2ndFlrSF',\n",
      "       'LowQualFinSF', 'GrLivArea', 'BsmtFullBath', 'BsmtHalfBath', 'FullBath',\n",
      "       'HalfBath', 'BedroomAbvGr', 'KitchenAbvGr', 'KitchenQual',\n",
      "       'TotRmsAbvGrd', 'Functional', 'Fireplaces', 'FireplaceQu', 'GarageType',\n",
      "       'GarageYrBlt', 'GarageFinish', 'GarageCars', 'GarageArea', 'GarageQual',\n",
      "       'GarageCond', 'PavedDrive', 'WoodDeckSF', 'OpenPorchSF',\n",
      "       'EnclosedPorch', '3SsnPorch', 'ScreenPorch', 'PoolArea', 'PoolQC',\n",
      "       'Fence', 'MiscFeature', 'MiscVal', 'MoSold', 'YrSold', 'SaleType',\n",
      "       'SaleCondition', 'SalePrice'],\n",
      "      dtype='object')\n"
     ]
    }
   ],
   "source": [
    "# print the list of columns in the dataset to find the name of the prediction target\n",
    "print(home_data.columns)"
   ]
  },
  {
   "cell_type": "code",
   "execution_count": 3,
   "id": "f342d6e8",
   "metadata": {
    "execution": {
     "iopub.execute_input": "2023-08-23T08:43:50.581082Z",
     "iopub.status.busy": "2023-08-23T08:43:50.580532Z",
     "iopub.status.idle": "2023-08-23T08:43:50.594607Z",
     "shell.execute_reply": "2023-08-23T08:43:50.593633Z"
    },
    "papermill": {
     "duration": 0.023489,
     "end_time": "2023-08-23T08:43:50.596560",
     "exception": false,
     "start_time": "2023-08-23T08:43:50.573071",
     "status": "completed"
    },
    "tags": []
   },
   "outputs": [
    {
     "data": {
      "application/javascript": [
       "parent.postMessage({\"jupyterEvent\": \"custom.exercise_interaction\", \"data\": {\"outcomeType\": 1, \"valueTowardsCompletion\": 0.25, \"interactionType\": 1, \"questionType\": 2, \"questionId\": \"1_SetTarget\", \"learnToolsVersion\": \"0.3.4\", \"failureMessage\": \"\", \"exceptionClass\": \"\", \"trace\": \"\"}}, \"*\")"
      ],
      "text/plain": [
       "<IPython.core.display.Javascript object>"
      ]
     },
     "metadata": {},
     "output_type": "display_data"
    },
    {
     "data": {
      "text/markdown": [
       "<span style=\"color:#33cc33\">Correct</span>"
      ],
      "text/plain": [
       "Correct"
      ]
     },
     "metadata": {},
     "output_type": "display_data"
    }
   ],
   "source": [
    "y = home_data.SalePrice\n",
    "\n",
    "# Check your answer\n",
    "step_1.check()"
   ]
  },
  {
   "cell_type": "code",
   "execution_count": 4,
   "id": "93a6b5b3",
   "metadata": {
    "execution": {
     "iopub.execute_input": "2023-08-23T08:43:50.607498Z",
     "iopub.status.busy": "2023-08-23T08:43:50.607155Z",
     "iopub.status.idle": "2023-08-23T08:43:50.611641Z",
     "shell.execute_reply": "2023-08-23T08:43:50.610671Z"
    },
    "papermill": {
     "duration": 0.012427,
     "end_time": "2023-08-23T08:43:50.613773",
     "exception": false,
     "start_time": "2023-08-23T08:43:50.601346",
     "status": "completed"
    },
    "tags": []
   },
   "outputs": [],
   "source": [
    "# The lines below will show you a hint or the solution.\n",
    "# step_1.hint() \n",
    "# step_1.solution()"
   ]
  },
  {
   "cell_type": "markdown",
   "id": "d0fbd50d",
   "metadata": {
    "papermill": {
     "duration": 0.004426,
     "end_time": "2023-08-23T08:43:50.623166",
     "exception": false,
     "start_time": "2023-08-23T08:43:50.618740",
     "status": "completed"
    },
    "tags": []
   },
   "source": [
    "## Step 2: Create X\n",
    "Now you will create a DataFrame called `X` holding the predictive features.\n",
    "\n",
    "Since you want only some columns from the original data, you'll first create a list with the names of the columns you want in `X`.\n",
    "\n",
    "You'll use just the following columns in the list (you can copy and paste the whole list to save some typing, though you'll still need to add quotes):\n",
    "  * LotArea\n",
    "  * YearBuilt\n",
    "  * 1stFlrSF\n",
    "  * 2ndFlrSF\n",
    "  * FullBath\n",
    "  * BedroomAbvGr\n",
    "  * TotRmsAbvGrd\n",
    "\n",
    "After you've created that list of features, use it to create the DataFrame that you'll use to fit the model."
   ]
  },
  {
   "cell_type": "code",
   "execution_count": 5,
   "id": "ba3f7be1",
   "metadata": {
    "execution": {
     "iopub.execute_input": "2023-08-23T08:43:50.635266Z",
     "iopub.status.busy": "2023-08-23T08:43:50.634408Z",
     "iopub.status.idle": "2023-08-23T08:43:50.651810Z",
     "shell.execute_reply": "2023-08-23T08:43:50.650386Z"
    },
    "papermill": {
     "duration": 0.025796,
     "end_time": "2023-08-23T08:43:50.654032",
     "exception": false,
     "start_time": "2023-08-23T08:43:50.628236",
     "status": "completed"
    },
    "tags": []
   },
   "outputs": [
    {
     "data": {
      "application/javascript": [
       "parent.postMessage({\"jupyterEvent\": \"custom.exercise_interaction\", \"data\": {\"outcomeType\": 1, \"valueTowardsCompletion\": 0.25, \"interactionType\": 1, \"questionType\": 2, \"questionId\": \"2_SelectPredictionData\", \"learnToolsVersion\": \"0.3.4\", \"failureMessage\": \"\", \"exceptionClass\": \"\", \"trace\": \"\"}}, \"*\")"
      ],
      "text/plain": [
       "<IPython.core.display.Javascript object>"
      ]
     },
     "metadata": {},
     "output_type": "display_data"
    },
    {
     "data": {
      "text/markdown": [
       "<span style=\"color:#33cc33\">Correct</span>"
      ],
      "text/plain": [
       "Correct"
      ]
     },
     "metadata": {},
     "output_type": "display_data"
    }
   ],
   "source": [
    "# Create the list of features below\n",
    "feature_names = [\"LotArea\", \"YearBuilt\", \"1stFlrSF\", \"2ndFlrSF\", \"FullBath\", \"BedroomAbvGr\", \"TotRmsAbvGrd\"]\n",
    "\n",
    "# Select data corresponding to features in feature_names\n",
    "X = home_data[feature_names]\n",
    "\n",
    "# Check your answer\n",
    "step_2.check()"
   ]
  },
  {
   "cell_type": "code",
   "execution_count": 6,
   "id": "ea882b22",
   "metadata": {
    "execution": {
     "iopub.execute_input": "2023-08-23T08:43:50.666577Z",
     "iopub.status.busy": "2023-08-23T08:43:50.665833Z",
     "iopub.status.idle": "2023-08-23T08:43:50.670273Z",
     "shell.execute_reply": "2023-08-23T08:43:50.669365Z"
    },
    "papermill": {
     "duration": 0.01269,
     "end_time": "2023-08-23T08:43:50.672088",
     "exception": false,
     "start_time": "2023-08-23T08:43:50.659398",
     "status": "completed"
    },
    "tags": []
   },
   "outputs": [],
   "source": [
    "# step_2.hint()\n",
    "# step_2.solution()"
   ]
  },
  {
   "cell_type": "markdown",
   "id": "53c93cc0",
   "metadata": {
    "papermill": {
     "duration": 0.004542,
     "end_time": "2023-08-23T08:43:50.681720",
     "exception": false,
     "start_time": "2023-08-23T08:43:50.677178",
     "status": "completed"
    },
    "tags": []
   },
   "source": [
    "## Review Data\n",
    "Before building a model, take a quick look at **X** to verify it looks sensible"
   ]
  },
  {
   "cell_type": "code",
   "execution_count": 7,
   "id": "650f3916",
   "metadata": {
    "execution": {
     "iopub.execute_input": "2023-08-23T08:43:50.693121Z",
     "iopub.status.busy": "2023-08-23T08:43:50.692710Z",
     "iopub.status.idle": "2023-08-23T08:43:50.724683Z",
     "shell.execute_reply": "2023-08-23T08:43:50.723769Z"
    },
    "papermill": {
     "duration": 0.040118,
     "end_time": "2023-08-23T08:43:50.726645",
     "exception": false,
     "start_time": "2023-08-23T08:43:50.686527",
     "status": "completed"
    },
    "tags": []
   },
   "outputs": [
    {
     "data": {
      "text/html": [
       "<div>\n",
       "<style scoped>\n",
       "    .dataframe tbody tr th:only-of-type {\n",
       "        vertical-align: middle;\n",
       "    }\n",
       "\n",
       "    .dataframe tbody tr th {\n",
       "        vertical-align: top;\n",
       "    }\n",
       "\n",
       "    .dataframe thead th {\n",
       "        text-align: right;\n",
       "    }\n",
       "</style>\n",
       "<table border=\"1\" class=\"dataframe\">\n",
       "  <thead>\n",
       "    <tr style=\"text-align: right;\">\n",
       "      <th></th>\n",
       "      <th>LotArea</th>\n",
       "      <th>YearBuilt</th>\n",
       "      <th>1stFlrSF</th>\n",
       "      <th>2ndFlrSF</th>\n",
       "      <th>FullBath</th>\n",
       "      <th>BedroomAbvGr</th>\n",
       "      <th>TotRmsAbvGrd</th>\n",
       "    </tr>\n",
       "  </thead>\n",
       "  <tbody>\n",
       "    <tr>\n",
       "      <th>0</th>\n",
       "      <td>8450</td>\n",
       "      <td>2003</td>\n",
       "      <td>856</td>\n",
       "      <td>854</td>\n",
       "      <td>2</td>\n",
       "      <td>3</td>\n",
       "      <td>8</td>\n",
       "    </tr>\n",
       "    <tr>\n",
       "      <th>1</th>\n",
       "      <td>9600</td>\n",
       "      <td>1976</td>\n",
       "      <td>1262</td>\n",
       "      <td>0</td>\n",
       "      <td>2</td>\n",
       "      <td>3</td>\n",
       "      <td>6</td>\n",
       "    </tr>\n",
       "    <tr>\n",
       "      <th>2</th>\n",
       "      <td>11250</td>\n",
       "      <td>2001</td>\n",
       "      <td>920</td>\n",
       "      <td>866</td>\n",
       "      <td>2</td>\n",
       "      <td>3</td>\n",
       "      <td>6</td>\n",
       "    </tr>\n",
       "    <tr>\n",
       "      <th>3</th>\n",
       "      <td>9550</td>\n",
       "      <td>1915</td>\n",
       "      <td>961</td>\n",
       "      <td>756</td>\n",
       "      <td>1</td>\n",
       "      <td>3</td>\n",
       "      <td>7</td>\n",
       "    </tr>\n",
       "    <tr>\n",
       "      <th>4</th>\n",
       "      <td>14260</td>\n",
       "      <td>2000</td>\n",
       "      <td>1145</td>\n",
       "      <td>1053</td>\n",
       "      <td>2</td>\n",
       "      <td>4</td>\n",
       "      <td>9</td>\n",
       "    </tr>\n",
       "  </tbody>\n",
       "</table>\n",
       "</div>"
      ],
      "text/plain": [
       "   LotArea  YearBuilt  1stFlrSF  2ndFlrSF  FullBath  BedroomAbvGr  \\\n",
       "0     8450       2003       856       854         2             3   \n",
       "1     9600       1976      1262         0         2             3   \n",
       "2    11250       2001       920       866         2             3   \n",
       "3     9550       1915       961       756         1             3   \n",
       "4    14260       2000      1145      1053         2             4   \n",
       "\n",
       "   TotRmsAbvGrd  \n",
       "0             8  \n",
       "1             6  \n",
       "2             6  \n",
       "3             7  \n",
       "4             9  "
      ]
     },
     "execution_count": 7,
     "metadata": {},
     "output_type": "execute_result"
    }
   ],
   "source": [
    "# Review data\n",
    "# print description or statistics from X\n",
    "X.describe()\n",
    "\n",
    "# print the top few lines\n",
    "X.head()"
   ]
  },
  {
   "cell_type": "markdown",
   "id": "9112e60f",
   "metadata": {
    "papermill": {
     "duration": 0.004789,
     "end_time": "2023-08-23T08:43:50.736754",
     "exception": false,
     "start_time": "2023-08-23T08:43:50.731965",
     "status": "completed"
    },
    "tags": []
   },
   "source": [
    "## Step 3: Specify and Fit Model\n",
    "Create a `DecisionTreeRegressor` and save it iowa_model. Ensure you've done the relevant import from sklearn to run this command.\n",
    "\n",
    "Then fit the model you just created using the data in `X` and `y` that you saved above."
   ]
  },
  {
   "cell_type": "code",
   "execution_count": 8,
   "id": "3a4790e3",
   "metadata": {
    "execution": {
     "iopub.execute_input": "2023-08-23T08:43:50.748714Z",
     "iopub.status.busy": "2023-08-23T08:43:50.747754Z",
     "iopub.status.idle": "2023-08-23T08:43:50.766982Z",
     "shell.execute_reply": "2023-08-23T08:43:50.765383Z"
    },
    "papermill": {
     "duration": 0.027645,
     "end_time": "2023-08-23T08:43:50.769335",
     "exception": false,
     "start_time": "2023-08-23T08:43:50.741690",
     "status": "completed"
    },
    "tags": []
   },
   "outputs": [
    {
     "data": {
      "application/javascript": [
       "parent.postMessage({\"jupyterEvent\": \"custom.exercise_interaction\", \"data\": {\"outcomeType\": 1, \"valueTowardsCompletion\": 0.25, \"interactionType\": 1, \"questionType\": 2, \"questionId\": \"3_CreateModel\", \"learnToolsVersion\": \"0.3.4\", \"failureMessage\": \"\", \"exceptionClass\": \"\", \"trace\": \"\"}}, \"*\")"
      ],
      "text/plain": [
       "<IPython.core.display.Javascript object>"
      ]
     },
     "metadata": {},
     "output_type": "display_data"
    },
    {
     "data": {
      "text/markdown": [
       "<span style=\"color:#33cc33\">Correct</span>"
      ],
      "text/plain": [
       "Correct"
      ]
     },
     "metadata": {},
     "output_type": "display_data"
    }
   ],
   "source": [
    "from sklearn.tree import DecisionTreeRegressor\n",
    "#specify the model. \n",
    "#For model reproducibility, set a numeric value for random_state when specifying the model\n",
    "iowa_model = DecisionTreeRegressor(random_state=1)\n",
    "\n",
    "# Fit the model\n",
    "iowa_model.fit(X, y)\n",
    "\n",
    "# Check your answer\n",
    "step_3.check()"
   ]
  },
  {
   "cell_type": "code",
   "execution_count": 9,
   "id": "0005ab37",
   "metadata": {
    "collapsed": true,
    "execution": {
     "iopub.execute_input": "2023-08-23T08:43:50.782024Z",
     "iopub.status.busy": "2023-08-23T08:43:50.781016Z",
     "iopub.status.idle": "2023-08-23T08:43:50.784951Z",
     "shell.execute_reply": "2023-08-23T08:43:50.784347Z"
    },
    "jupyter": {
     "outputs_hidden": true
    },
    "papermill": {
     "duration": 0.011931,
     "end_time": "2023-08-23T08:43:50.786698",
     "exception": false,
     "start_time": "2023-08-23T08:43:50.774767",
     "status": "completed"
    },
    "tags": []
   },
   "outputs": [],
   "source": [
    "# step_3.hint()\n",
    "# step_3.solution()"
   ]
  },
  {
   "cell_type": "markdown",
   "id": "5c5d84c1",
   "metadata": {
    "papermill": {
     "duration": 0.004888,
     "end_time": "2023-08-23T08:43:50.796919",
     "exception": false,
     "start_time": "2023-08-23T08:43:50.792031",
     "status": "completed"
    },
    "tags": []
   },
   "source": [
    "## Step 4: Make Predictions\n",
    "Make predictions with the model's `predict` command using `X` as the data. Save the results to a variable called `predictions`."
   ]
  },
  {
   "cell_type": "code",
   "execution_count": 10,
   "id": "bec97ef8",
   "metadata": {
    "execution": {
     "iopub.execute_input": "2023-08-23T08:43:50.808735Z",
     "iopub.status.busy": "2023-08-23T08:43:50.808389Z",
     "iopub.status.idle": "2023-08-23T08:43:50.820449Z",
     "shell.execute_reply": "2023-08-23T08:43:50.819521Z"
    },
    "papermill": {
     "duration": 0.020288,
     "end_time": "2023-08-23T08:43:50.822382",
     "exception": false,
     "start_time": "2023-08-23T08:43:50.802094",
     "status": "completed"
    },
    "tags": []
   },
   "outputs": [
    {
     "name": "stdout",
     "output_type": "stream",
     "text": [
      "[208500. 181500. 223500. ... 266500. 142125. 147500.]\n"
     ]
    },
    {
     "data": {
      "application/javascript": [
       "parent.postMessage({\"jupyterEvent\": \"custom.exercise_interaction\", \"data\": {\"outcomeType\": 1, \"valueTowardsCompletion\": 0.25, \"interactionType\": 1, \"questionType\": 2, \"questionId\": \"4_MakePredictions\", \"learnToolsVersion\": \"0.3.4\", \"failureMessage\": \"\", \"exceptionClass\": \"\", \"trace\": \"\"}}, \"*\")"
      ],
      "text/plain": [
       "<IPython.core.display.Javascript object>"
      ]
     },
     "metadata": {},
     "output_type": "display_data"
    },
    {
     "data": {
      "text/markdown": [
       "<span style=\"color:#33cc33\">Correct</span>"
      ],
      "text/plain": [
       "Correct"
      ]
     },
     "metadata": {},
     "output_type": "display_data"
    }
   ],
   "source": [
    "predictions = iowa_model.predict(X)\n",
    "print(predictions)\n",
    "\n",
    "# Check your answer\n",
    "step_4.check()"
   ]
  },
  {
   "cell_type": "code",
   "execution_count": 11,
   "id": "c9592d04",
   "metadata": {
    "execution": {
     "iopub.execute_input": "2023-08-23T08:43:50.836348Z",
     "iopub.status.busy": "2023-08-23T08:43:50.835999Z",
     "iopub.status.idle": "2023-08-23T08:43:50.840115Z",
     "shell.execute_reply": "2023-08-23T08:43:50.839334Z"
    },
    "papermill": {
     "duration": 0.013268,
     "end_time": "2023-08-23T08:43:50.841896",
     "exception": false,
     "start_time": "2023-08-23T08:43:50.828628",
     "status": "completed"
    },
    "tags": []
   },
   "outputs": [],
   "source": [
    "# step_4.hint()\n",
    "# step_4.solution()"
   ]
  },
  {
   "cell_type": "markdown",
   "id": "f18310b7",
   "metadata": {
    "papermill": {
     "duration": 0.005177,
     "end_time": "2023-08-23T08:43:50.852736",
     "exception": false,
     "start_time": "2023-08-23T08:43:50.847559",
     "status": "completed"
    },
    "tags": []
   },
   "source": [
    "## Think About Your Results\n",
    "\n",
    "Use the `head` method to compare the top few predictions to the actual home values (in `y`) for those same homes. Anything surprising?\n"
   ]
  },
  {
   "cell_type": "code",
   "execution_count": 12,
   "id": "ca4994e4",
   "metadata": {
    "execution": {
     "iopub.execute_input": "2023-08-23T08:43:50.865259Z",
     "iopub.status.busy": "2023-08-23T08:43:50.864939Z",
     "iopub.status.idle": "2023-08-23T08:43:50.869318Z",
     "shell.execute_reply": "2023-08-23T08:43:50.868087Z"
    },
    "papermill": {
     "duration": 0.013809,
     "end_time": "2023-08-23T08:43:50.871811",
     "exception": false,
     "start_time": "2023-08-23T08:43:50.858002",
     "status": "completed"
    },
    "tags": []
   },
   "outputs": [],
   "source": [
    "# You can write code in this cell\n"
   ]
  },
  {
   "cell_type": "markdown",
   "id": "a6cba9ed",
   "metadata": {
    "papermill": {
     "duration": 0.005382,
     "end_time": "2023-08-23T08:43:50.883180",
     "exception": false,
     "start_time": "2023-08-23T08:43:50.877798",
     "status": "completed"
    },
    "tags": []
   },
   "source": [
    "It's natural to ask how accurate the model's predictions will be and how you can improve that. That will be you're next step.\n",
    "\n",
    "# Keep Going\n",
    "\n",
    "You are ready for **[Model Validation](https://www.kaggle.com/dansbecker/model-validation).**\n"
   ]
  },
  {
   "cell_type": "markdown",
   "id": "c76f2945",
   "metadata": {
    "papermill": {
     "duration": 0.00537,
     "end_time": "2023-08-23T08:43:50.894242",
     "exception": false,
     "start_time": "2023-08-23T08:43:50.888872",
     "status": "completed"
    },
    "tags": []
   },
   "source": [
    "---\n",
    "\n",
    "\n",
    "\n",
    "\n",
    "*Have questions or comments? Visit the [course discussion forum](https://www.kaggle.com/learn/intro-to-machine-learning/discussion) to chat with other learners.*"
   ]
  }
 ],
 "metadata": {
  "kernelspec": {
   "display_name": "Python 3",
   "language": "python",
   "name": "python3"
  },
  "language_info": {
   "codemirror_mode": {
    "name": "ipython",
    "version": 3
   },
   "file_extension": ".py",
   "mimetype": "text/x-python",
   "name": "python",
   "nbconvert_exporter": "python",
   "pygments_lexer": "ipython3",
   "version": "3.10.12"
  },
  "papermill": {
   "default_parameters": {},
   "duration": 10.632989,
   "end_time": "2023-08-23T08:43:51.723084",
   "environment_variables": {},
   "exception": null,
   "input_path": "__notebook__.ipynb",
   "output_path": "__notebook__.ipynb",
   "parameters": {},
   "start_time": "2023-08-23T08:43:41.090095",
   "version": "2.4.0"
  }
 },
 "nbformat": 4,
 "nbformat_minor": 5
}
