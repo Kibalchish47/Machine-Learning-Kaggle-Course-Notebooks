{
 "cells": [
  {
   "cell_type": "markdown",
   "id": "5ba40e8f",
   "metadata": {
    "papermill": {
     "duration": 0.010879,
     "end_time": "2023-09-01T10:19:35.675407",
     "exception": false,
     "start_time": "2023-09-01T10:19:35.664528",
     "status": "completed"
    },
    "tags": []
   },
   "source": [
    "**This notebook is an exercise in the [Feature Engineering](https://www.kaggle.com/learn/feature-engineering) course.  You can reference the tutorial at [this link](https://www.kaggle.com/ryanholbrook/target-encoding).**\n",
    "\n",
    "---\n"
   ]
  },
  {
   "cell_type": "markdown",
   "id": "47d6ed68",
   "metadata": {
    "papermill": {
     "duration": 0.010096,
     "end_time": "2023-09-01T10:19:35.696112",
     "exception": false,
     "start_time": "2023-09-01T10:19:35.686016",
     "status": "completed"
    },
    "tags": []
   },
   "source": [
    "**Use Cases for Target Encoding. Target encoding is great for:**\n",
    "- **High-cardinality features:** A feature with a large number of categories can be troublesome to encode: a one-hot encoding would generate too many features and alternatives, like a label encoding, might not be appropriate for that feature. A target encoding derives numbers for the categories using the feature's most important property: its relationship with the target.\n",
    "- **Domain-motivated features:** From prior experience, you might suspect that a categorical feature should be important even if it scored poorly with a feature metric. A target encoding can help reveal a feature's true informativeness."
   ]
  },
  {
   "cell_type": "markdown",
   "id": "b4831a7d",
   "metadata": {
    "papermill": {
     "duration": 0.010093,
     "end_time": "2023-09-01T10:19:35.716112",
     "exception": false,
     "start_time": "2023-09-01T10:19:35.706019",
     "status": "completed"
    },
    "tags": []
   },
   "source": [
    "# Introduction #\n",
    "\n",
    "In this exercise, you'll apply target encoding to features in the [*Ames*](https://www.kaggle.com/c/house-prices-advanced-regression-techniques/data) dataset.\n",
    "\n",
    "Run this cell to set everything up!"
   ]
  },
  {
   "cell_type": "code",
   "execution_count": 1,
   "id": "340df431",
   "metadata": {
    "execution": {
     "iopub.execute_input": "2023-09-01T10:19:35.742252Z",
     "iopub.status.busy": "2023-09-01T10:19:35.741560Z",
     "iopub.status.idle": "2023-09-01T10:19:38.999146Z",
     "shell.execute_reply": "2023-09-01T10:19:38.997955Z"
    },
    "papermill": {
     "duration": 3.272809,
     "end_time": "2023-09-01T10:19:39.002096",
     "exception": false,
     "start_time": "2023-09-01T10:19:35.729287",
     "status": "completed"
    },
    "tags": []
   },
   "outputs": [
    {
     "name": "stderr",
     "output_type": "stream",
     "text": [
      "/tmp/ipykernel_20/3788892820.py:16: MatplotlibDeprecationWarning: The seaborn styles shipped by Matplotlib are deprecated since 3.6, as they no longer correspond to the styles shipped by seaborn. However, they will remain available as 'seaborn-v0_8-<style>'. Alternatively, directly use the seaborn API instead.\n",
      "  plt.style.use(\"seaborn-whitegrid\")\n"
     ]
    }
   ],
   "source": [
    "# Setup feedback system\n",
    "from learntools.core import binder\n",
    "binder.bind(globals())\n",
    "from learntools.feature_engineering_new.ex6 import *\n",
    "\n",
    "import matplotlib.pyplot as plt\n",
    "import numpy as np\n",
    "import pandas as pd\n",
    "import seaborn as sns\n",
    "import warnings\n",
    "from category_encoders import MEstimateEncoder\n",
    "from sklearn.model_selection import cross_val_score\n",
    "from xgboost import XGBRegressor\n",
    "\n",
    "# Set Matplotlib defaults\n",
    "plt.style.use(\"seaborn-whitegrid\")\n",
    "plt.rc(\"figure\", autolayout=True)\n",
    "plt.rc(\n",
    "    \"axes\",\n",
    "    labelweight=\"bold\",\n",
    "    labelsize=\"large\",\n",
    "    titleweight=\"bold\",\n",
    "    titlesize=14,\n",
    "    titlepad=10,\n",
    ")\n",
    "warnings.filterwarnings('ignore')\n",
    "\n",
    "\n",
    "def score_dataset(X, y, model=XGBRegressor()):\n",
    "    # Label encoding for categoricals\n",
    "    for colname in X.select_dtypes([\"category\", \"object\"]):\n",
    "        X[colname], _ = X[colname].factorize()\n",
    "    # Metric for Housing competition is RMSLE (Root Mean Squared Log Error)\n",
    "    score = cross_val_score(\n",
    "        model, X, y, cv=5, scoring=\"neg_mean_squared_log_error\",\n",
    "    )\n",
    "    score = -1 * score.mean()\n",
    "    score = np.sqrt(score)\n",
    "    return score\n",
    "\n",
    "\n",
    "df = pd.read_csv(\"../input/fe-course-data/ames.csv\")"
   ]
  },
  {
   "cell_type": "markdown",
   "id": "c5987b7e",
   "metadata": {
    "papermill": {
     "duration": 0.010177,
     "end_time": "2023-09-01T10:19:39.022858",
     "exception": false,
     "start_time": "2023-09-01T10:19:39.012681",
     "status": "completed"
    },
    "tags": []
   },
   "source": [
    "-------------------------------------------------------------------------------\n",
    "\n",
    "First you'll need to choose which features you want to apply a target encoding to. Categorical features with a large number of categories are often good candidates. Run this cell to see how many categories each categorical feature in the *Ames* dataset has."
   ]
  },
  {
   "cell_type": "code",
   "execution_count": 2,
   "id": "aea8a83e",
   "metadata": {
    "execution": {
     "iopub.execute_input": "2023-09-01T10:19:39.045550Z",
     "iopub.status.busy": "2023-09-01T10:19:39.045128Z",
     "iopub.status.idle": "2023-09-01T10:19:39.081319Z",
     "shell.execute_reply": "2023-09-01T10:19:39.080518Z"
    },
    "papermill": {
     "duration": 0.050263,
     "end_time": "2023-09-01T10:19:39.083479",
     "exception": false,
     "start_time": "2023-09-01T10:19:39.033216",
     "status": "completed"
    },
    "tags": []
   },
   "outputs": [
    {
     "data": {
      "text/plain": [
       "MSSubClass       16\n",
       "MSZoning          7\n",
       "Street            2\n",
       "Alley             3\n",
       "LotShape          4\n",
       "LandContour       4\n",
       "Utilities         3\n",
       "LotConfig         5\n",
       "LandSlope         3\n",
       "Neighborhood     28\n",
       "Condition1        9\n",
       "Condition2        8\n",
       "BldgType          5\n",
       "HouseStyle        8\n",
       "OverallQual      10\n",
       "OverallCond       9\n",
       "RoofStyle         6\n",
       "RoofMatl          8\n",
       "Exterior1st      16\n",
       "Exterior2nd      17\n",
       "MasVnrType        4\n",
       "ExterQual         4\n",
       "ExterCond         5\n",
       "Foundation        6\n",
       "BsmtQual          6\n",
       "BsmtCond          6\n",
       "BsmtExposure      5\n",
       "BsmtFinType1      7\n",
       "BsmtFinType2      7\n",
       "Heating           6\n",
       "HeatingQC         5\n",
       "CentralAir        2\n",
       "Electrical        6\n",
       "KitchenQual       5\n",
       "Functional        8\n",
       "FireplaceQu       6\n",
       "GarageType        7\n",
       "GarageFinish      4\n",
       "GarageQual        6\n",
       "GarageCond        6\n",
       "PavedDrive        3\n",
       "PoolQC            5\n",
       "Fence             5\n",
       "MiscFeature       5\n",
       "SaleType         10\n",
       "SaleCondition     6\n",
       "dtype: int64"
      ]
     },
     "execution_count": 2,
     "metadata": {},
     "output_type": "execute_result"
    }
   ],
   "source": [
    "df.select_dtypes([\"object\"]).nunique()"
   ]
  },
  {
   "cell_type": "markdown",
   "id": "320b648d",
   "metadata": {
    "papermill": {
     "duration": 0.01031,
     "end_time": "2023-09-01T10:19:39.104170",
     "exception": false,
     "start_time": "2023-09-01T10:19:39.093860",
     "status": "completed"
    },
    "tags": []
   },
   "source": [
    "We talked about how the M-estimate encoding uses smoothing to improve estimates for rare categories. To see how many times a category occurs in the dataset, you can use the `value_counts` method. This cell shows the counts for `SaleType`, but you might want to consider others as well."
   ]
  },
  {
   "cell_type": "code",
   "execution_count": 3,
   "id": "8031faf1",
   "metadata": {
    "execution": {
     "iopub.execute_input": "2023-09-01T10:19:39.127557Z",
     "iopub.status.busy": "2023-09-01T10:19:39.126570Z",
     "iopub.status.idle": "2023-09-01T10:19:39.138439Z",
     "shell.execute_reply": "2023-09-01T10:19:39.137194Z"
    },
    "papermill": {
     "duration": 0.026044,
     "end_time": "2023-09-01T10:19:39.140669",
     "exception": false,
     "start_time": "2023-09-01T10:19:39.114625",
     "status": "completed"
    },
    "tags": []
   },
   "outputs": [
    {
     "data": {
      "text/plain": [
       "SaleType\n",
       "WD       2536\n",
       "New       239\n",
       "COD        87\n",
       "ConLD      26\n",
       "CWD        12\n",
       "ConLI       9\n",
       "ConLw       8\n",
       "Oth         7\n",
       "Con         5\n",
       "VWD         1\n",
       "Name: count, dtype: int64"
      ]
     },
     "execution_count": 3,
     "metadata": {},
     "output_type": "execute_result"
    }
   ],
   "source": [
    "df[\"SaleType\"].value_counts()"
   ]
  },
  {
   "cell_type": "markdown",
   "id": "ffc04994",
   "metadata": {
    "papermill": {
     "duration": 0.010798,
     "end_time": "2023-09-01T10:19:39.162257",
     "exception": false,
     "start_time": "2023-09-01T10:19:39.151459",
     "status": "completed"
    },
    "tags": []
   },
   "source": [
    "# 1) Choose Features for Encoding\n",
    "\n",
    "Which features did you identify for target encoding? After you've thought about your answer, run the next cell for some discussion."
   ]
  },
  {
   "cell_type": "code",
   "execution_count": 4,
   "id": "aebac0ff",
   "metadata": {
    "execution": {
     "iopub.execute_input": "2023-09-01T10:19:39.185948Z",
     "iopub.status.busy": "2023-09-01T10:19:39.185266Z",
     "iopub.status.idle": "2023-09-01T10:19:39.194542Z",
     "shell.execute_reply": "2023-09-01T10:19:39.193408Z"
    },
    "papermill": {
     "duration": 0.023699,
     "end_time": "2023-09-01T10:19:39.196752",
     "exception": false,
     "start_time": "2023-09-01T10:19:39.173053",
     "status": "completed"
    },
    "tags": []
   },
   "outputs": [
    {
     "data": {
      "application/javascript": [
       "parent.postMessage({\"jupyterEvent\": \"custom.exercise_interaction\", \"data\": {\"outcomeType\": 1, \"valueTowardsCompletion\": 0.3333333333333333, \"interactionType\": 1, \"questionType\": 4, \"questionId\": \"1_Q1\", \"learnToolsVersion\": \"0.3.4\", \"failureMessage\": \"\", \"exceptionClass\": \"\", \"trace\": \"\"}}, \"*\")"
      ],
      "text/plain": [
       "<IPython.core.display.Javascript object>"
      ]
     },
     "metadata": {},
     "output_type": "display_data"
    },
    {
     "data": {
      "text/markdown": [
       "<span style=\"color:#33cc33\">Correct:</span> \n",
       "\n",
       " The `Neighborhood` feature looks promising. It has the most categories of any feature, and several categories are rare. Others that could be worth considering are `SaleType`, `MSSubClass`, `Exterior1st`, `Exterior2nd`. In fact, almost any of the nominal features would be worth trying because of the prevalence of rare categories."
      ],
      "text/plain": [
       "Correct: \n",
       "\n",
       " The `Neighborhood` feature looks promising. It has the most categories of any feature, and several categories are rare. Others that could be worth considering are `SaleType`, `MSSubClass`, `Exterior1st`, `Exterior2nd`. In fact, almost any of the nominal features would be worth trying because of the prevalence of rare categories."
      ]
     },
     "metadata": {},
     "output_type": "display_data"
    }
   ],
   "source": [
    "# View the solution (Run this cell to receive credit!)\n",
    "q_1.check()"
   ]
  },
  {
   "cell_type": "markdown",
   "id": "2d4e468d",
   "metadata": {
    "papermill": {
     "duration": 0.010693,
     "end_time": "2023-09-01T10:19:39.218717",
     "exception": false,
     "start_time": "2023-09-01T10:19:39.208024",
     "status": "completed"
    },
    "tags": []
   },
   "source": [
    "-------------------------------------------------------------------------------\n",
    "\n",
    "Now you'll apply a target encoding to your choice of feature. As we discussed in the tutorial, to avoid overfitting, we need to fit the encoder on data heldout from the training set. Run this cell to create the encoding and training splits:"
   ]
  },
  {
   "cell_type": "code",
   "execution_count": 5,
   "id": "fb7807bd",
   "metadata": {
    "execution": {
     "iopub.execute_input": "2023-09-01T10:19:39.243081Z",
     "iopub.status.busy": "2023-09-01T10:19:39.242379Z",
     "iopub.status.idle": "2023-09-01T10:19:39.258339Z",
     "shell.execute_reply": "2023-09-01T10:19:39.257326Z"
    },
    "lines_to_next_cell": 2,
    "papermill": {
     "duration": 0.031391,
     "end_time": "2023-09-01T10:19:39.261138",
     "exception": false,
     "start_time": "2023-09-01T10:19:39.229747",
     "status": "completed"
    },
    "tags": []
   },
   "outputs": [],
   "source": [
    "# Encoding split\n",
    "X_encode = df.sample(frac=0.20, random_state=0)\n",
    "y_encode = X_encode.pop(\"SalePrice\")\n",
    "\n",
    "# Training split\n",
    "X_pretrain = df.drop(X_encode.index)\n",
    "y_train = X_pretrain.pop(\"SalePrice\")"
   ]
  },
  {
   "cell_type": "markdown",
   "id": "2994264a",
   "metadata": {
    "papermill": {
     "duration": 0.010733,
     "end_time": "2023-09-01T10:19:39.283126",
     "exception": false,
     "start_time": "2023-09-01T10:19:39.272393",
     "status": "completed"
    },
    "tags": []
   },
   "source": [
    "# 2) Apply M-Estimate Encoding\n",
    "\n",
    "Apply a target encoding to your choice of categorical features. Also choose a value for the smoothing parameter `m` (any value is okay for a correct answer)."
   ]
  },
  {
   "cell_type": "code",
   "execution_count": 6,
   "id": "54ef3ebf",
   "metadata": {
    "execution": {
     "iopub.execute_input": "2023-09-01T10:19:39.306570Z",
     "iopub.status.busy": "2023-09-01T10:19:39.306180Z",
     "iopub.status.idle": "2023-09-01T10:19:39.393081Z",
     "shell.execute_reply": "2023-09-01T10:19:39.392103Z"
    },
    "lines_to_next_cell": 0,
    "papermill": {
     "duration": 0.101745,
     "end_time": "2023-09-01T10:19:39.395676",
     "exception": false,
     "start_time": "2023-09-01T10:19:39.293931",
     "status": "completed"
    },
    "tags": []
   },
   "outputs": [
    {
     "data": {
      "application/javascript": [
       "parent.postMessage({\"jupyterEvent\": \"custom.exercise_interaction\", \"data\": {\"outcomeType\": 1, \"valueTowardsCompletion\": 0.3333333333333333, \"interactionType\": 1, \"questionType\": 2, \"questionId\": \"2_Q2\", \"learnToolsVersion\": \"0.3.4\", \"failureMessage\": \"\", \"exceptionClass\": \"\", \"trace\": \"\"}}, \"*\")"
      ],
      "text/plain": [
       "<IPython.core.display.Javascript object>"
      ]
     },
     "metadata": {},
     "output_type": "display_data"
    },
    {
     "data": {
      "text/markdown": [
       "<span style=\"color:#33cc33\">Correct</span>"
      ],
      "text/plain": [
       "Correct"
      ]
     },
     "metadata": {},
     "output_type": "display_data"
    }
   ],
   "source": [
    "# YOUR CODE HERE: Create the MEstimateEncoder\n",
    "encoder = MEstimateEncoder(\n",
    "    cols=[\"Neighborhood\"],\n",
    "    m=1.0,\n",
    ")\n",
    "\n",
    "# Fit the encoder on the encoding split\n",
    "encoder.fit(X_encode, y_encode)\n",
    "\n",
    "# Encode the training split\n",
    "X_train = encoder.transform(X_pretrain, y_train)\n",
    "\n",
    "# Check your answer\n",
    "q_2.check()"
   ]
  },
  {
   "cell_type": "code",
   "execution_count": 7,
   "id": "ef62d00f",
   "metadata": {
    "execution": {
     "iopub.execute_input": "2023-09-01T10:19:39.421326Z",
     "iopub.status.busy": "2023-09-01T10:19:39.420853Z",
     "iopub.status.idle": "2023-09-01T10:19:39.425524Z",
     "shell.execute_reply": "2023-09-01T10:19:39.424438Z"
    },
    "lines_to_next_cell": 0,
    "papermill": {
     "duration": 0.02146,
     "end_time": "2023-09-01T10:19:39.428848",
     "exception": false,
     "start_time": "2023-09-01T10:19:39.407388",
     "status": "completed"
    },
    "tags": []
   },
   "outputs": [],
   "source": [
    "# Lines below will give you a hint or solution code\n",
    "#q_2.hint()\n",
    "#q_2.solution()"
   ]
  },
  {
   "cell_type": "markdown",
   "id": "f7239800",
   "metadata": {
    "papermill": {
     "duration": 0.011626,
     "end_time": "2023-09-01T10:19:39.452307",
     "exception": false,
     "start_time": "2023-09-01T10:19:39.440681",
     "status": "completed"
    },
    "tags": []
   },
   "source": [
    "If you'd like to see how the encoded feature compares to the target, you can run this cell:"
   ]
  },
  {
   "cell_type": "code",
   "execution_count": 8,
   "id": "ba6151d0",
   "metadata": {
    "execution": {
     "iopub.execute_input": "2023-09-01T10:19:39.478337Z",
     "iopub.status.busy": "2023-09-01T10:19:39.477664Z",
     "iopub.status.idle": "2023-09-01T10:19:40.129382Z",
     "shell.execute_reply": "2023-09-01T10:19:40.128166Z"
    },
    "papermill": {
     "duration": 0.668287,
     "end_time": "2023-09-01T10:19:40.132542",
     "exception": false,
     "start_time": "2023-09-01T10:19:39.464255",
     "status": "completed"
    },
    "tags": []
   },
   "outputs": [
    {
     "data": {
      "image/png": "[encoded data removed]",
      "text/plain": [
       "<Figure size 576x432 with 1 Axes>"
      ]
     },
     "metadata": {},
     "output_type": "display_data"
    }
   ],
   "source": [
    "feature = encoder.cols\n",
    "\n",
    "plt.figure(dpi=90)\n",
    "ax = sns.distplot(y_train, kde=True, hist=False)\n",
    "ax = sns.distplot(X_train[feature], color='r', ax=ax, hist=True, kde=False, norm_hist=True)\n",
    "ax.set_xlabel(\"SalePrice\");"
   ]
  },
  {
   "cell_type": "markdown",
   "id": "488914a9",
   "metadata": {
    "papermill": {
     "duration": 0.011842,
     "end_time": "2023-09-01T10:19:40.157641",
     "exception": false,
     "start_time": "2023-09-01T10:19:40.145799",
     "status": "completed"
    },
    "tags": []
   },
   "source": [
    "From the distribution plots, does it seem like the encoding is informative?\n",
    "\n",
    "And this cell will show you the score of the encoded set compared to the original set:"
   ]
  },
  {
   "cell_type": "code",
   "execution_count": 9,
   "id": "194ca179",
   "metadata": {
    "execution": {
     "iopub.execute_input": "2023-09-01T10:19:40.187704Z",
     "iopub.status.busy": "2023-09-01T10:19:40.186962Z",
     "iopub.status.idle": "2023-09-01T10:19:47.621791Z",
     "shell.execute_reply": "2023-09-01T10:19:47.620758Z"
    },
    "papermill": {
     "duration": 7.453649,
     "end_time": "2023-09-01T10:19:47.624627",
     "exception": false,
     "start_time": "2023-09-01T10:19:40.170978",
     "status": "completed"
    },
    "tags": []
   },
   "outputs": [
    {
     "name": "stdout",
     "output_type": "stream",
     "text": [
      "Baseline Score: 0.1431 RMSLE\n",
      "Score with Encoding: 0.1416 RMSLE\n"
     ]
    }
   ],
   "source": [
    "X = df.copy()\n",
    "y = X.pop(\"SalePrice\")\n",
    "score_base = score_dataset(X, y)\n",
    "score_new = score_dataset(X_train, y_train)\n",
    "\n",
    "print(f\"Baseline Score: {score_base:.4f} RMSLE\")\n",
    "print(f\"Score with Encoding: {score_new:.4f} RMSLE\")"
   ]
  },
  {
   "cell_type": "markdown",
   "id": "6e668957",
   "metadata": {
    "papermill": {
     "duration": 0.01176,
     "end_time": "2023-09-01T10:19:47.649360",
     "exception": false,
     "start_time": "2023-09-01T10:19:47.637600",
     "status": "completed"
    },
    "tags": []
   },
   "source": [
    "Do you think that target encoding was worthwhile in this case? Depending on which feature or features you chose, you may have ended up with a score significantly worse than the baseline. In that case, it's likely the extra information gained by the encoding couldn't make up for the loss of data used for the encoding."
   ]
  },
  {
   "cell_type": "markdown",
   "id": "f7ae2606",
   "metadata": {
    "papermill": {
     "duration": 0.011634,
     "end_time": "2023-09-01T10:19:47.673237",
     "exception": false,
     "start_time": "2023-09-01T10:19:47.661603",
     "status": "completed"
    },
    "tags": []
   },
   "source": [
    "-------------------------------------------------------------------------------\n",
    "\n",
    "In this question, you'll explore the problem of overfitting with target encodings. This will illustrate this importance of training fitting target encoders on data held-out from the training set.\n",
    "\n",
    "So let's see what happens when we fit the encoder and the model on the *same* dataset. To emphasize how dramatic the overfitting can be, we'll mean-encode a feature that should have no relationship with `SalePrice`, a count: `0, 1, 2, 3, 4, 5, ...`."
   ]
  },
  {
   "cell_type": "code",
   "execution_count": 10,
   "id": "1567c2c4",
   "metadata": {
    "execution": {
     "iopub.execute_input": "2023-09-01T10:19:47.699435Z",
     "iopub.status.busy": "2023-09-01T10:19:47.698393Z",
     "iopub.status.idle": "2023-09-01T10:19:51.225083Z",
     "shell.execute_reply": "2023-09-01T10:19:51.223969Z"
    },
    "papermill": {
     "duration": 3.543324,
     "end_time": "2023-09-01T10:19:51.228399",
     "exception": false,
     "start_time": "2023-09-01T10:19:47.685075",
     "status": "completed"
    },
    "tags": []
   },
   "outputs": [
    {
     "name": "stdout",
     "output_type": "stream",
     "text": [
      "Score: 0.0294 RMSLE\n"
     ]
    }
   ],
   "source": [
    "# Try experimenting with the smoothing parameter m\n",
    "# Try 0, 1, 5, 50\n",
    "m = 0\n",
    "\n",
    "X = df.copy()\n",
    "y = X.pop('SalePrice')\n",
    "\n",
    "# Create an uninformative feature\n",
    "X[\"Count\"] = range(len(X))\n",
    "X[\"Count\"][1] = 0  # actually need one duplicate value to circumvent error-checking in MEstimateEncoder\n",
    "\n",
    "# fit and transform on the same dataset\n",
    "encoder = MEstimateEncoder(cols=\"Count\", m=m)\n",
    "X = encoder.fit_transform(X, y)\n",
    "\n",
    "# Results\n",
    "score =  score_dataset(X, y)\n",
    "print(f\"Score: {score:.4f} RMSLE\")"
   ]
  },
  {
   "cell_type": "markdown",
   "id": "e6d2574b",
   "metadata": {
    "papermill": {
     "duration": 0.011633,
     "end_time": "2023-09-01T10:19:51.253183",
     "exception": false,
     "start_time": "2023-09-01T10:19:51.241550",
     "status": "completed"
    },
    "tags": []
   },
   "source": [
    "Almost a perfect score!"
   ]
  },
  {
   "cell_type": "code",
   "execution_count": 11,
   "id": "fe31f127",
   "metadata": {
    "execution": {
     "iopub.execute_input": "2023-09-01T10:19:51.279201Z",
     "iopub.status.busy": "2023-09-01T10:19:51.278754Z",
     "iopub.status.idle": "2023-09-01T10:19:51.832090Z",
     "shell.execute_reply": "2023-09-01T10:19:51.830941Z"
    },
    "papermill": {
     "duration": 0.569185,
     "end_time": "2023-09-01T10:19:51.834520",
     "exception": false,
     "start_time": "2023-09-01T10:19:51.265335",
     "status": "completed"
    },
    "tags": []
   },
   "outputs": [
    {
     "data": {
      "image/png": "[encoded data removed]",
      "text/plain": [
       "<Figure size 576x432 with 1 Axes>"
      ]
     },
     "metadata": {},
     "output_type": "display_data"
    }
   ],
   "source": [
    "plt.figure(dpi=90)\n",
    "ax = sns.distplot(y, kde=True, hist=False)\n",
    "ax = sns.distplot(X[\"Count\"], color='r', ax=ax, hist=True, kde=False, norm_hist=True)\n",
    "ax.set_xlabel(\"SalePrice\");"
   ]
  },
  {
   "cell_type": "markdown",
   "id": "cb47b259",
   "metadata": {
    "papermill": {
     "duration": 0.012199,
     "end_time": "2023-09-01T10:19:51.859276",
     "exception": false,
     "start_time": "2023-09-01T10:19:51.847077",
     "status": "completed"
    },
    "tags": []
   },
   "source": [
    "And the distributions are almost exactly the same, too.\n",
    "\n",
    "# 3) Overfitting with Target Encoders\n",
    "\n",
    "Based on your understanding of how mean-encoding works, can you explain how XGBoost was able to get an almost a perfect fit after mean-encoding the count feature?"
   ]
  },
  {
   "cell_type": "code",
   "execution_count": 12,
   "id": "be04d133",
   "metadata": {
    "execution": {
     "iopub.execute_input": "2023-09-01T10:19:51.885685Z",
     "iopub.status.busy": "2023-09-01T10:19:51.885273Z",
     "iopub.status.idle": "2023-09-01T10:19:51.894952Z",
     "shell.execute_reply": "2023-09-01T10:19:51.893827Z"
    },
    "lines_to_next_cell": 0,
    "papermill": {
     "duration": 0.025787,
     "end_time": "2023-09-01T10:19:51.897362",
     "exception": false,
     "start_time": "2023-09-01T10:19:51.871575",
     "status": "completed"
    },
    "tags": []
   },
   "outputs": [
    {
     "data": {
      "application/javascript": [
       "parent.postMessage({\"jupyterEvent\": \"custom.exercise_interaction\", \"data\": {\"outcomeType\": 1, \"valueTowardsCompletion\": 0.3333333333333333, \"interactionType\": 1, \"questionType\": 4, \"questionId\": \"3_Q3\", \"learnToolsVersion\": \"0.3.4\", \"failureMessage\": \"\", \"exceptionClass\": \"\", \"trace\": \"\"}}, \"*\")"
      ],
      "text/plain": [
       "<IPython.core.display.Javascript object>"
      ]
     },
     "metadata": {},
     "output_type": "display_data"
    },
    {
     "data": {
      "text/markdown": [
       "<span style=\"color:#33cc33\">Correct:</span> \n",
       "\n",
       "\n",
       "Since `Count` never has any duplicate values, the mean-encoded `Count` is essentially an exact copy of the target. In other words, mean-encoding turned a completely meaningless feature into a perfect feature.\n",
       "\n",
       "Now, the only reason this worked is because we trained XGBoost on the same set we used to train the encoder. If we had used a hold-out set instead, none of this \"fake\" encoding would have transferred to the training data.\n",
       "\n",
       "The lesson is that when using a target encoder it's very important to use separate data sets for training the encoder and training the model. Otherwise the results can be very disappointing!\n"
      ],
      "text/plain": [
       "Correct: \n",
       "\n",
       "\n",
       "Since `Count` never has any duplicate values, the mean-encoded `Count` is essentially an exact copy of the target. In other words, mean-encoding turned a completely meaningless feature into a perfect feature.\n",
       "\n",
       "Now, the only reason this worked is because we trained XGBoost on the same set we used to train the encoder. If we had used a hold-out set instead, none of this \"fake\" encoding would have transferred to the training data.\n",
       "\n",
       "The lesson is that when using a target encoder it's very important to use separate data sets for training the encoder and training the model. Otherwise the results can be very disappointing!"
      ]
     },
     "metadata": {},
     "output_type": "display_data"
    }
   ],
   "source": [
    "# View the solution (Run this cell to receive credit!)\n",
    "q_3.check()"
   ]
  },
  {
   "cell_type": "code",
   "execution_count": 13,
   "id": "9f315f0f",
   "metadata": {
    "execution": {
     "iopub.execute_input": "2023-09-01T10:19:51.926753Z",
     "iopub.status.busy": "2023-09-01T10:19:51.925757Z",
     "iopub.status.idle": "2023-09-01T10:19:51.930778Z",
     "shell.execute_reply": "2023-09-01T10:19:51.929688Z"
    },
    "papermill": {
     "duration": 0.022039,
     "end_time": "2023-09-01T10:19:51.933088",
     "exception": false,
     "start_time": "2023-09-01T10:19:51.911049",
     "status": "completed"
    },
    "tags": []
   },
   "outputs": [],
   "source": [
    "# Uncomment this if you'd like a hint before seeing the answer\n",
    "#q_3.hint()"
   ]
  },
  {
   "cell_type": "markdown",
   "id": "174752c8",
   "metadata": {
    "papermill": {
     "duration": 0.01268,
     "end_time": "2023-09-01T10:19:51.958538",
     "exception": false,
     "start_time": "2023-09-01T10:19:51.945858",
     "status": "completed"
    },
    "tags": []
   },
   "source": [
    "# The End #\n",
    "\n",
    "That's it for *Feature Engineering*! We hope you enjoyed your time with us.\n",
    "\n",
    "Now, are you ready to try out your new skills? Now would be a great time to join our [Housing Prices](https://www.kaggle.com/c/house-prices-advanced-regression-techniques) Getting Started competition. We've even prepared a [Bonus Lesson](https://www.kaggle.com/ryanholbrook/feature-engineering-for-house-prices) that collects all the work we've done together into a starter notebook.\n",
    "\n",
    "# References #\n",
    "Here are some great resources you might like to consult for more information. They all played a part in shaping this course:\n",
    "- *The Art of Feature Engineering*, a book by Pablo Duboue.\n",
    "- *An Empirical Analysis of Feature Engineering for Predictive Modeling*, an article by Jeff Heaton.\n",
    "- *Feature Engineering for Machine Learning*, a book by Alice Zheng and Amanda Casari. The tutorial on clustering was inspired by this excellent book.\n",
    "- *Feature Engineering and Selection*, a book by Max Kuhn and Kjell Johnson."
   ]
  },
  {
   "cell_type": "markdown",
   "id": "d501db2d",
   "metadata": {
    "papermill": {
     "duration": 0.012453,
     "end_time": "2023-09-01T10:19:51.983761",
     "exception": false,
     "start_time": "2023-09-01T10:19:51.971308",
     "status": "completed"
    },
    "tags": []
   },
   "source": [
    "---\n",
    "\n",
    "\n",
    "\n",
    "\n",
    "*Have questions or comments? Visit the [course discussion forum](https://www.kaggle.com/learn/feature-engineering/discussion) to chat with other learners.*"
   ]
  }
 ],
 "kernelspec": {
  "display_name": "Python 3",
  "language": "python",
  "name": "python3"
 },
 "language_info": {
  "codemirror_mode": {
   "name": "ipython",
   "version": 3
  },
  "file_extension": ".py",
  "mimetype": "text/x-python",
  "name": "python",
  "nbconvert_exporter": "python",
  "pygments_lexer": "ipython3",
  "version": "3.6.4"
 },
 "metadata": {
  "jupytext": {
   "cell_metadata_filter": "-all",
   "formats": "ipynb"
  },
  "kernelspec": {
   "display_name": "Python 3",
   "language": "python",
   "name": "python3"
  },
  "language_info": {
   "codemirror_mode": {
    "name": "ipython",
    "version": 3
   },
   "file_extension": ".py",
   "mimetype": "text/x-python",
   "name": "python",
   "nbconvert_exporter": "python",
   "pygments_lexer": "ipython3",
   "version": "3.10.12"
  },
  "papermill": {
   "default_parameters": {},
   "duration": 21.344647,
   "end_time": "2023-09-01T10:19:52.618157",
   "environment_variables": {},
   "exception": null,
   "input_path": "__notebook__.ipynb",
   "output_path": "__notebook__.ipynb",
   "parameters": {},
   "start_time": "2023-09-01T10:19:31.273510",
   "version": "2.4.0"
  }
 },
 "nbformat": 4,
 "nbformat_minor": 5
}
