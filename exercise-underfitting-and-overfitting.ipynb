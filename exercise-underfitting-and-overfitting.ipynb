{
 "cells": [
  {
   "cell_type": "markdown",
   "id": "ca407707",
   "metadata": {
    "papermill": {
     "duration": 0.005215,
     "end_time": "2023-08-23T08:54:31.030495",
     "exception": false,
     "start_time": "2023-08-23T08:54:31.025280",
     "status": "completed"
    },
    "tags": []
   },
   "source": [
    "**This notebook is an exercise in the [Introduction to Machine Learning](https://www.kaggle.com/learn/intro-to-machine-learning) course.  You can reference the tutorial at [this link](https://www.kaggle.com/dansbecker/underfitting-and-overfitting).**\n",
    "\n",
    "---\n"
   ]
  },
  {
   "cell_type": "markdown",
   "id": "44defc66",
   "metadata": {
    "papermill": {
     "duration": 0.00423,
     "end_time": "2023-08-23T08:54:31.039467",
     "exception": false,
     "start_time": "2023-08-23T08:54:31.035237",
     "status": "completed"
    },
    "tags": []
   },
   "source": [
    "## Recap\n",
    "You've built your first model, and now it's time to optimize the size of the tree to make better predictions. Run this cell to set up your coding environment where the previous step left off."
   ]
  },
  {
   "cell_type": "code",
   "execution_count": 1,
   "id": "b8404baa",
   "metadata": {
    "execution": {
     "iopub.execute_input": "2023-08-23T08:54:31.050471Z",
     "iopub.status.busy": "2023-08-23T08:54:31.050062Z",
     "iopub.status.idle": "2023-08-23T08:54:33.095228Z",
     "shell.execute_reply": "2023-08-23T08:54:33.093776Z"
    },
    "papermill": {
     "duration": 2.053999,
     "end_time": "2023-08-23T08:54:33.097982",
     "exception": false,
     "start_time": "2023-08-23T08:54:31.043983",
     "status": "completed"
    },
    "tags": []
   },
   "outputs": [
    {
     "name": "stderr",
     "output_type": "stream",
     "text": [
      "/opt/conda/lib/python3.10/site-packages/scipy/__init__.py:146: UserWarning: A NumPy version >=1.16.5 and <1.23.0 is required for this version of SciPy (detected version 1.23.5\n",
      "  warnings.warn(f\"A NumPy version >={np_minversion} and <{np_maxversion}\"\n"
     ]
    },
    {
     "name": "stdout",
     "output_type": "stream",
     "text": [
      "Validation MAE: 29,653\n",
      "\n",
      "Setup complete\n"
     ]
    }
   ],
   "source": [
    "# Code you have previously used to load data\n",
    "import pandas as pd\n",
    "from sklearn.metrics import mean_absolute_error\n",
    "from sklearn.model_selection import train_test_split\n",
    "from sklearn.tree import DecisionTreeRegressor\n",
    "\n",
    "# Path of the file to read\n",
    "iowa_file_path = '../input/home-data-for-ml-course/train.csv'\n",
    "\n",
    "home_data = pd.read_csv(iowa_file_path)\n",
    "# Create target object and call it y\n",
    "y = home_data.SalePrice\n",
    "# Create X\n",
    "features = ['LotArea', 'YearBuilt', '1stFlrSF', '2ndFlrSF', 'FullBath', 'BedroomAbvGr', 'TotRmsAbvGrd']\n",
    "X = home_data[features]\n",
    "\n",
    "# Split into validation and training data\n",
    "train_X, val_X, train_y, val_y = train_test_split(X, y, random_state=1)\n",
    "\n",
    "# Specify Model\n",
    "iowa_model = DecisionTreeRegressor(random_state=1)\n",
    "# Fit Model\n",
    "iowa_model.fit(train_X, train_y)\n",
    "\n",
    "# Make validation predictions and calculate mean absolute error\n",
    "val_predictions = iowa_model.predict(val_X)\n",
    "val_mae = mean_absolute_error(val_predictions, val_y)\n",
    "print(\"Validation MAE: {:,.0f}\".format(val_mae))\n",
    "\n",
    "# Set up code checking\n",
    "from learntools.core import binder\n",
    "binder.bind(globals())\n",
    "from learntools.machine_learning.ex5 import *\n",
    "print(\"\\nSetup complete\")"
   ]
  },
  {
   "cell_type": "markdown",
   "id": "77ae1698",
   "metadata": {
    "papermill": {
     "duration": 0.004418,
     "end_time": "2023-08-23T08:54:33.107243",
     "exception": false,
     "start_time": "2023-08-23T08:54:33.102825",
     "status": "completed"
    },
    "tags": []
   },
   "source": [
    "# Exercises\n",
    "You could write the function `get_mae` yourself. For now, we'll supply it. This is the same function you read about in the previous lesson. Just run the cell below."
   ]
  },
  {
   "cell_type": "code",
   "execution_count": 2,
   "id": "7b1bd91d",
   "metadata": {
    "execution": {
     "iopub.execute_input": "2023-08-23T08:54:33.118827Z",
     "iopub.status.busy": "2023-08-23T08:54:33.117845Z",
     "iopub.status.idle": "2023-08-23T08:54:33.124781Z",
     "shell.execute_reply": "2023-08-23T08:54:33.123402Z"
    },
    "papermill": {
     "duration": 0.015352,
     "end_time": "2023-08-23T08:54:33.127197",
     "exception": false,
     "start_time": "2023-08-23T08:54:33.111845",
     "status": "completed"
    },
    "tags": []
   },
   "outputs": [],
   "source": [
    "def get_mae(max_leaf_nodes, train_X, val_X, train_y, val_y):\n",
    "    model = DecisionTreeRegressor(max_leaf_nodes=max_leaf_nodes, random_state=0)\n",
    "    model.fit(train_X, train_y)\n",
    "    preds_val = model.predict(val_X)\n",
    "    mae = mean_absolute_error(val_y, preds_val)\n",
    "    return(mae)"
   ]
  },
  {
   "cell_type": "markdown",
   "id": "bb9157ba",
   "metadata": {
    "papermill": {
     "duration": 0.004459,
     "end_time": "2023-08-23T08:54:33.136337",
     "exception": false,
     "start_time": "2023-08-23T08:54:33.131878",
     "status": "completed"
    },
    "tags": []
   },
   "source": [
    "## Step 1: Compare Different Tree Sizes\n",
    "Write a loop that tries the following values for *max_leaf_nodes* from a set of possible values.\n",
    "\n",
    "Call the *get_mae* function on each value of max_leaf_nodes. Store the output in some way that allows you to select the value of `max_leaf_nodes` that gives the most accurate model on your data."
   ]
  },
  {
   "cell_type": "code",
   "execution_count": 3,
   "id": "47633966",
   "metadata": {
    "execution": {
     "iopub.execute_input": "2023-08-23T08:54:33.147551Z",
     "iopub.status.busy": "2023-08-23T08:54:33.147151Z",
     "iopub.status.idle": "2023-08-23T08:54:33.203399Z",
     "shell.execute_reply": "2023-08-23T08:54:33.202173Z"
    },
    "papermill": {
     "duration": 0.064828,
     "end_time": "2023-08-23T08:54:33.205798",
     "exception": false,
     "start_time": "2023-08-23T08:54:33.140970",
     "status": "completed"
    },
    "tags": []
   },
   "outputs": [
    {
     "name": "stdout",
     "output_type": "stream",
     "text": [
      "Max leaf nodes: 5  \t\t Mean Absolute Error:  35044\n",
      "Max leaf nodes: 25  \t\t Mean Absolute Error:  29016\n",
      "Max leaf nodes: 50  \t\t Mean Absolute Error:  27405\n",
      "Max leaf nodes: 100  \t\t Mean Absolute Error:  27282\n",
      "Max leaf nodes: 250  \t\t Mean Absolute Error:  27893\n",
      "Max leaf nodes: 500  \t\t Mean Absolute Error:  29454\n"
     ]
    },
    {
     "data": {
      "application/javascript": [
       "parent.postMessage({\"jupyterEvent\": \"custom.exercise_interaction\", \"data\": {\"outcomeType\": 1, \"valueTowardsCompletion\": 0.5, \"interactionType\": 1, \"questionType\": 1, \"questionId\": \"1_BestTreeSize\", \"learnToolsVersion\": \"0.3.4\", \"failureMessage\": \"\", \"exceptionClass\": \"\", \"trace\": \"\"}}, \"*\")"
      ],
      "text/plain": [
       "<IPython.core.display.Javascript object>"
      ]
     },
     "metadata": {},
     "output_type": "display_data"
    },
    {
     "data": {
      "text/markdown": [
       "<span style=\"color:#33cc33\">Correct</span>"
      ],
      "text/plain": [
       "Correct"
      ]
     },
     "metadata": {},
     "output_type": "display_data"
    }
   ],
   "source": [
    "candidate_max_leaf_nodes = [5, 25, 50, 100, 250, 500]\n",
    "# Write loop to find the ideal tree size from candidate_max_leaf_nodes\n",
    "for max_leaf_nodes in [5, 25, 50, 100, 250, 500]:\n",
    "    my_mae = get_mae(max_leaf_nodes, train_X, val_X, train_y, val_y)\n",
    "    print(\"Max leaf nodes: %d  \\t\\t Mean Absolute Error:  %d\" %(max_leaf_nodes, my_mae))\n",
    "\n",
    "# Store the best value of max_leaf_nodes (it will be either 5, 25, 50, 100, 250 or 500)\n",
    "best_tree_size = 100\n",
    "\n",
    "# Check your answer\n",
    "step_1.check()"
   ]
  },
  {
   "cell_type": "code",
   "execution_count": 4,
   "id": "b40b04a8",
   "metadata": {
    "execution": {
     "iopub.execute_input": "2023-08-23T08:54:33.217827Z",
     "iopub.status.busy": "2023-08-23T08:54:33.217372Z",
     "iopub.status.idle": "2023-08-23T08:54:33.222496Z",
     "shell.execute_reply": "2023-08-23T08:54:33.221212Z"
    },
    "papermill": {
     "duration": 0.014247,
     "end_time": "2023-08-23T08:54:33.225148",
     "exception": false,
     "start_time": "2023-08-23T08:54:33.210901",
     "status": "completed"
    },
    "tags": []
   },
   "outputs": [],
   "source": [
    "# The lines below will show you a hint or the solution.\n",
    "# step_1.hint() \n",
    "# step_1.solution()"
   ]
  },
  {
   "cell_type": "markdown",
   "id": "3f23371d",
   "metadata": {
    "papermill": {
     "duration": 0.004972,
     "end_time": "2023-08-23T08:54:33.237117",
     "exception": false,
     "start_time": "2023-08-23T08:54:33.232145",
     "status": "completed"
    },
    "tags": []
   },
   "source": [
    "## Step 2: Fit Model Using All Data\n",
    "You know the best tree size. If you were going to deploy this model in practice, you would make it even more accurate by using all of the data and keeping that tree size.  That is, you don't need to hold out the validation data now that you've made all your modeling decisions."
   ]
  },
  {
   "cell_type": "code",
   "execution_count": 5,
   "id": "fd610949",
   "metadata": {
    "execution": {
     "iopub.execute_input": "2023-08-23T08:54:33.249255Z",
     "iopub.status.busy": "2023-08-23T08:54:33.248821Z",
     "iopub.status.idle": "2023-08-23T08:54:33.268741Z",
     "shell.execute_reply": "2023-08-23T08:54:33.267569Z"
    },
    "papermill": {
     "duration": 0.028772,
     "end_time": "2023-08-23T08:54:33.271143",
     "exception": false,
     "start_time": "2023-08-23T08:54:33.242371",
     "status": "completed"
    },
    "tags": []
   },
   "outputs": [
    {
     "data": {
      "application/javascript": [
       "parent.postMessage({\"jupyterEvent\": \"custom.exercise_interaction\", \"data\": {\"outcomeType\": 1, \"valueTowardsCompletion\": 0.5, \"interactionType\": 1, \"questionType\": 2, \"questionId\": \"2_FitModelWithAllData\", \"learnToolsVersion\": \"0.3.4\", \"failureMessage\": \"\", \"exceptionClass\": \"\", \"trace\": \"\"}}, \"*\")"
      ],
      "text/plain": [
       "<IPython.core.display.Javascript object>"
      ]
     },
     "metadata": {},
     "output_type": "display_data"
    },
    {
     "data": {
      "text/markdown": [
       "<span style=\"color:#33cc33\">Correct</span>"
      ],
      "text/plain": [
       "Correct"
      ]
     },
     "metadata": {},
     "output_type": "display_data"
    }
   ],
   "source": [
    "# Fit the model with best_tree_size. Fill in argument to make optimal size\n",
    "final_model = DecisionTreeRegressor(max_leaf_nodes=best_tree_size, random_state=1)\n",
    "\n",
    "# fit the final model\n",
    "final_model.fit(X, y)\n",
    "\n",
    "# Check your answer\n",
    "step_2.check()"
   ]
  },
  {
   "cell_type": "code",
   "execution_count": 6,
   "id": "35116696",
   "metadata": {
    "execution": {
     "iopub.execute_input": "2023-08-23T08:54:33.283891Z",
     "iopub.status.busy": "2023-08-23T08:54:33.283464Z",
     "iopub.status.idle": "2023-08-23T08:54:33.288616Z",
     "shell.execute_reply": "2023-08-23T08:54:33.287256Z"
    },
    "papermill": {
     "duration": 0.014398,
     "end_time": "2023-08-23T08:54:33.290980",
     "exception": false,
     "start_time": "2023-08-23T08:54:33.276582",
     "status": "completed"
    },
    "tags": []
   },
   "outputs": [],
   "source": [
    "# step_2.hint()\n",
    "# step_2.solution()"
   ]
  },
  {
   "cell_type": "markdown",
   "id": "d0fa98a0",
   "metadata": {
    "papermill": {
     "duration": 0.005223,
     "end_time": "2023-08-23T08:54:33.302079",
     "exception": false,
     "start_time": "2023-08-23T08:54:33.296856",
     "status": "completed"
    },
    "tags": []
   },
   "source": [
    "You've tuned this model and improved your results. But we are still using Decision Tree models, which are not very sophisticated by modern machine learning standards. In the next step you will learn to use Random Forests to improve your models even more.\n",
    "\n",
    "# Keep Going\n",
    "\n",
    "You are ready for **[Random Forests](https://www.kaggle.com/dansbecker/random-forests).**\n"
   ]
  },
  {
   "cell_type": "markdown",
   "id": "5d848373",
   "metadata": {
    "papermill": {
     "duration": 0.00513,
     "end_time": "2023-08-23T08:54:33.312646",
     "exception": false,
     "start_time": "2023-08-23T08:54:33.307516",
     "status": "completed"
    },
    "tags": []
   },
   "source": [
    "---\n",
    "\n",
    "\n",
    "\n",
    "\n",
    "*Have questions or comments? Visit the [course discussion forum](https://www.kaggle.com/learn/intro-to-machine-learning/discussion) to chat with other learners.*"
   ]
  }
 ],
 "metadata": {
  "kernelspec": {
   "display_name": "Python 3",
   "language": "python",
   "name": "python3"
  },
  "language_info": {
   "codemirror_mode": {
    "name": "ipython",
    "version": 3
   },
   "file_extension": ".py",
   "mimetype": "text/x-python",
   "name": "python",
   "nbconvert_exporter": "python",
   "pygments_lexer": "ipython3",
   "version": "3.10.12"
  },
  "papermill": {
   "default_parameters": {},
   "duration": 17.507898,
   "end_time": "2023-08-23T08:54:34.341750",
   "environment_variables": {},
   "exception": null,
   "input_path": "__notebook__.ipynb",
   "output_path": "__notebook__.ipynb",
   "parameters": {},
   "start_time": "2023-08-23T08:54:16.833852",
   "version": "2.4.0"
  }
 },
 "nbformat": 4,
 "nbformat_minor": 5
}
